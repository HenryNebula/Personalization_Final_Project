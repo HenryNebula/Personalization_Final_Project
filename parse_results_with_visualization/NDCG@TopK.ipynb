{
 "cells": [
  {
   "cell_type": "code",
   "execution_count": 1,
   "metadata": {},
   "outputs": [],
   "source": [
    "%matplotlib inline"
   ]
  },
  {
   "cell_type": "code",
   "execution_count": 2,
   "metadata": {},
   "outputs": [],
   "source": [
    "import matplotlib\n",
    "import seaborn as sns\n",
    "import matplotlib.pyplot as plt\n",
    "import pandas as pd\n",
    "import re"
   ]
  },
  {
   "cell_type": "code",
   "execution_count": 3,
   "metadata": {},
   "outputs": [],
   "source": [
    "%load_ext autoreload\n",
    "%autoreload 2"
   ]
  },
  {
   "cell_type": "code",
   "execution_count": 4,
   "metadata": {},
   "outputs": [],
   "source": [
    "import sys\n",
    "sys.path.append(\"../..\")\n",
    "sys.path.append(\"../\")\n",
    "sys.path.append(\"./\")"
   ]
  },
  {
   "cell_type": "code",
   "execution_count": 5,
   "metadata": {},
   "outputs": [],
   "source": [
    "from src.data_pipeline.DataLoader import DataLoader\n",
    "from src.utility.sys_utils import get_spark\n",
    "\n",
    "# import result checking tools\n",
    "from src.utility.Summary import Summary"
   ]
  },
  {
   "cell_type": "code",
   "execution_count": 6,
   "metadata": {},
   "outputs": [],
   "source": [
    "spark = get_spark(cores=4) # change cores up to 6 if needed\n",
    "dataloader = DataLoader(dataset_name=\"user_10_item_1_exp\", config_name=\"default_config.json\")"
   ]
  },
  {
   "cell_type": "markdown",
   "metadata": {},
   "source": [
    "### Visualization of Evaluation Metric to Recommendation Size"
   ]
  },
  {
   "cell_type": "code",
   "execution_count": 7,
   "metadata": {},
   "outputs": [
    {
     "data": {
      "text/plain": [
       "<src.utility.Summary.Summary at 0x7f4c5e47dfd0>"
      ]
     },
     "execution_count": 7,
     "metadata": {},
     "output_type": "execute_result"
    }
   ],
   "source": [
    "summary = Summary(dataloader.get_config().db_path)\n",
    "summary"
   ]
  },
  {
   "cell_type": "code",
   "execution_count": 8,
   "metadata": {},
   "outputs": [
    {
     "name": "stdout",
     "output_type": "stream",
     "text": [
      "Best ndcg@1 of surprise_SVD is found as 0.02730583581647411\n",
      "For model surprise_SVD, it has a ndcg@1 of 0.02730583581647411\n"
     ]
    },
    {
     "data": {
      "text/html": [
       "<div>\n",
       "<style scoped>\n",
       "    .dataframe tbody tr th:only-of-type {\n",
       "        vertical-align: middle;\n",
       "    }\n",
       "\n",
       "    .dataframe tbody tr th {\n",
       "        vertical-align: top;\n",
       "    }\n",
       "\n",
       "    .dataframe thead th {\n",
       "        text-align: right;\n",
       "    }\n",
       "</style>\n",
       "<table border=\"1\" class=\"dataframe\">\n",
       "  <thead>\n",
       "    <tr style=\"text-align: right;\">\n",
       "      <th></th>\n",
       "      <th>model</th>\n",
       "      <th>hyper</th>\n",
       "      <th>metric</th>\n",
       "      <th>value</th>\n",
       "      <th>ts</th>\n",
       "    </tr>\n",
       "  </thead>\n",
       "  <tbody>\n",
       "    <tr>\n",
       "      <th>0</th>\n",
       "      <td>surprise_SVD</td>\n",
       "      <td>[('lr_all', 0.002), ('n_factors', 10), ('reg_a...</td>\n",
       "      <td>ndcg@1</td>\n",
       "      <td>0.027306</td>\n",
       "      <td>2019-12-18 01:58:00.216802</td>\n",
       "    </tr>\n",
       "  </tbody>\n",
       "</table>\n",
       "</div>"
      ],
      "text/plain": [
       "          model                                              hyper  metric  \\\n",
       "0  surprise_SVD  [('lr_all', 0.002), ('n_factors', 10), ('reg_a...  ndcg@1   \n",
       "\n",
       "      value                         ts  \n",
       "0  0.027306 2019-12-18 01:58:00.216802  "
      ]
     },
     "execution_count": 8,
     "metadata": {},
     "output_type": "execute_result"
    }
   ],
   "source": [
    "hyper = summary.get_optimal_params(\"user_10_item_1_exp\", \"surprise_SVD\", \"ndcg@1\")\n",
    "\n",
    "result = summary.get_result_for_params(\"user_10_item_1_exp\", \"surprise_SVD\", hyper, \"ndcg@1\")\n",
    "result"
   ]
  },
  {
   "cell_type": "markdown",
   "metadata": {},
   "source": [
    "### Read ndcg top k info from parsed csv"
   ]
  },
  {
   "cell_type": "code",
   "execution_count": 9,
   "metadata": {},
   "outputs": [
    {
     "data": {
      "text/html": [
       "<div>\n",
       "<style scoped>\n",
       "    .dataframe tbody tr th:only-of-type {\n",
       "        vertical-align: middle;\n",
       "    }\n",
       "\n",
       "    .dataframe tbody tr th {\n",
       "        vertical-align: top;\n",
       "    }\n",
       "\n",
       "    .dataframe thead th {\n",
       "        text-align: right;\n",
       "    }\n",
       "</style>\n",
       "<table border=\"1\" class=\"dataframe\">\n",
       "  <thead>\n",
       "    <tr style=\"text-align: right;\">\n",
       "      <th></th>\n",
       "      <th>Unnamed: 0</th>\n",
       "      <th>model</th>\n",
       "      <th>hyper</th>\n",
       "      <th>metric</th>\n",
       "      <th>value</th>\n",
       "      <th>ts</th>\n",
       "      <th>k</th>\n",
       "    </tr>\n",
       "  </thead>\n",
       "  <tbody>\n",
       "    <tr>\n",
       "      <th>0</th>\n",
       "      <td>0</td>\n",
       "      <td>CollectiveMF_Item</td>\n",
       "      <td>[('k', 16), ('reg_param', 0.01), ('w_main', 0.5)]</td>\n",
       "      <td>ndcg@1</td>\n",
       "      <td>0.055422</td>\n",
       "      <td>2019-12-18 01:32:20.734647</td>\n",
       "      <td>1</td>\n",
       "    </tr>\n",
       "    <tr>\n",
       "      <th>1</th>\n",
       "      <td>1</td>\n",
       "      <td>CollectiveMF_Item</td>\n",
       "      <td>[('k', 16), ('reg_param', 0.01), ('w_main', 0.5)]</td>\n",
       "      <td>ndcg@2</td>\n",
       "      <td>0.078422</td>\n",
       "      <td>2019-12-18 01:32:38.024594</td>\n",
       "      <td>2</td>\n",
       "    </tr>\n",
       "    <tr>\n",
       "      <th>2</th>\n",
       "      <td>2</td>\n",
       "      <td>CollectiveMF_Item</td>\n",
       "      <td>[('k', 16), ('reg_param', 0.01), ('w_main', 0.5)]</td>\n",
       "      <td>ndcg@3</td>\n",
       "      <td>0.092794</td>\n",
       "      <td>2019-12-18 01:32:55.187776</td>\n",
       "      <td>3</td>\n",
       "    </tr>\n",
       "    <tr>\n",
       "      <th>3</th>\n",
       "      <td>3</td>\n",
       "      <td>CollectiveMF_Item</td>\n",
       "      <td>[('k', 16), ('reg_param', 0.01), ('w_main', 0.5)]</td>\n",
       "      <td>ndcg@4</td>\n",
       "      <td>0.103548</td>\n",
       "      <td>2019-12-18 01:33:12.001429</td>\n",
       "      <td>4</td>\n",
       "    </tr>\n",
       "    <tr>\n",
       "      <th>4</th>\n",
       "      <td>4</td>\n",
       "      <td>CollectiveMF_Item</td>\n",
       "      <td>[('k', 16), ('reg_param', 0.01), ('w_main', 0.5)]</td>\n",
       "      <td>ndcg@5</td>\n",
       "      <td>0.112015</td>\n",
       "      <td>2019-12-18 01:33:29.350053</td>\n",
       "      <td>5</td>\n",
       "    </tr>\n",
       "  </tbody>\n",
       "</table>\n",
       "</div>"
      ],
      "text/plain": [
       "   Unnamed: 0              model  \\\n",
       "0           0  CollectiveMF_Item   \n",
       "1           1  CollectiveMF_Item   \n",
       "2           2  CollectiveMF_Item   \n",
       "3           3  CollectiveMF_Item   \n",
       "4           4  CollectiveMF_Item   \n",
       "\n",
       "                                               hyper  metric     value  \\\n",
       "0  [('k', 16), ('reg_param', 0.01), ('w_main', 0.5)]  ndcg@1  0.055422   \n",
       "1  [('k', 16), ('reg_param', 0.01), ('w_main', 0.5)]  ndcg@2  0.078422   \n",
       "2  [('k', 16), ('reg_param', 0.01), ('w_main', 0.5)]  ndcg@3  0.092794   \n",
       "3  [('k', 16), ('reg_param', 0.01), ('w_main', 0.5)]  ndcg@4  0.103548   \n",
       "4  [('k', 16), ('reg_param', 0.01), ('w_main', 0.5)]  ndcg@5  0.112015   \n",
       "\n",
       "                           ts  k  \n",
       "0  2019-12-18 01:32:20.734647  1  \n",
       "1  2019-12-18 01:32:38.024594  2  \n",
       "2  2019-12-18 01:32:55.187776  3  \n",
       "3  2019-12-18 01:33:12.001429  4  \n",
       "4  2019-12-18 01:33:29.350053  5  "
      ]
     },
     "execution_count": 9,
     "metadata": {},
     "output_type": "execute_result"
    }
   ],
   "source": [
    "parsed = pd.read_csv(\"../parse_results/results/topk_results.csv\", sep = ',')\n",
    "parsed.head()"
   ]
  },
  {
   "cell_type": "code",
   "execution_count": 10,
   "metadata": {},
   "outputs": [
    {
     "data": {
      "text/plain": [
       "array(['CollectiveMF_Item', 'CollectiveMF_User', 'CollectiveMF_Both',\n",
       "       'CollectiveMF_No', 'surprise_SVD', 'surprise_Baseline',\n",
       "       'PureRandom', 'FMItem', 'FMNone', 'BPR'], dtype=object)"
      ]
     },
     "execution_count": 10,
     "metadata": {},
     "output_type": "execute_result"
    }
   ],
   "source": [
    "parsed['model'].unique()"
   ]
  },
  {
   "cell_type": "code",
   "execution_count": 11,
   "metadata": {},
   "outputs": [
    {
     "data": {
      "text/html": [
       "<div>\n",
       "<style scoped>\n",
       "    .dataframe tbody tr th:only-of-type {\n",
       "        vertical-align: middle;\n",
       "    }\n",
       "\n",
       "    .dataframe tbody tr th {\n",
       "        vertical-align: top;\n",
       "    }\n",
       "\n",
       "    .dataframe thead th {\n",
       "        text-align: right;\n",
       "    }\n",
       "</style>\n",
       "<table border=\"1\" class=\"dataframe\">\n",
       "  <thead>\n",
       "    <tr style=\"text-align: right;\">\n",
       "      <th></th>\n",
       "      <th>Unnamed: 0</th>\n",
       "      <th>model</th>\n",
       "      <th>hyper</th>\n",
       "      <th>metric</th>\n",
       "      <th>value</th>\n",
       "      <th>ts</th>\n",
       "      <th>k</th>\n",
       "    </tr>\n",
       "  </thead>\n",
       "  <tbody>\n",
       "    <tr>\n",
       "      <th>90</th>\n",
       "      <td>90</td>\n",
       "      <td>BPR</td>\n",
       "      <td>[('factors', 16), ('iteration', 100), ('learni...</td>\n",
       "      <td>ndcg@1</td>\n",
       "      <td>0.065233</td>\n",
       "      <td>2019-12-18 07:51:42.829660</td>\n",
       "      <td>1</td>\n",
       "    </tr>\n",
       "    <tr>\n",
       "      <th>91</th>\n",
       "      <td>91</td>\n",
       "      <td>BPR</td>\n",
       "      <td>[('factors', 16), ('iteration', 100), ('learni...</td>\n",
       "      <td>ndcg@2</td>\n",
       "      <td>0.093214</td>\n",
       "      <td>2019-12-18 07:52:10.560294</td>\n",
       "      <td>2</td>\n",
       "    </tr>\n",
       "    <tr>\n",
       "      <th>92</th>\n",
       "      <td>92</td>\n",
       "      <td>BPR</td>\n",
       "      <td>[('factors', 16), ('iteration', 100), ('learni...</td>\n",
       "      <td>ndcg@3</td>\n",
       "      <td>0.111106</td>\n",
       "      <td>2019-12-18 07:52:37.923441</td>\n",
       "      <td>3</td>\n",
       "    </tr>\n",
       "    <tr>\n",
       "      <th>93</th>\n",
       "      <td>93</td>\n",
       "      <td>BPR</td>\n",
       "      <td>[('factors', 16), ('iteration', 100), ('learni...</td>\n",
       "      <td>ndcg@4</td>\n",
       "      <td>0.124194</td>\n",
       "      <td>2019-12-18 07:53:04.796126</td>\n",
       "      <td>4</td>\n",
       "    </tr>\n",
       "    <tr>\n",
       "      <th>94</th>\n",
       "      <td>94</td>\n",
       "      <td>BPR</td>\n",
       "      <td>[('factors', 16), ('iteration', 100), ('learni...</td>\n",
       "      <td>ndcg@5</td>\n",
       "      <td>0.134559</td>\n",
       "      <td>2019-12-18 07:53:32.115372</td>\n",
       "      <td>5</td>\n",
       "    </tr>\n",
       "  </tbody>\n",
       "</table>\n",
       "</div>"
      ],
      "text/plain": [
       "    Unnamed: 0 model                                              hyper  \\\n",
       "90          90   BPR  [('factors', 16), ('iteration', 100), ('learni...   \n",
       "91          91   BPR  [('factors', 16), ('iteration', 100), ('learni...   \n",
       "92          92   BPR  [('factors', 16), ('iteration', 100), ('learni...   \n",
       "93          93   BPR  [('factors', 16), ('iteration', 100), ('learni...   \n",
       "94          94   BPR  [('factors', 16), ('iteration', 100), ('learni...   \n",
       "\n",
       "    metric     value                          ts  k  \n",
       "90  ndcg@1  0.065233  2019-12-18 07:51:42.829660  1  \n",
       "91  ndcg@2  0.093214  2019-12-18 07:52:10.560294  2  \n",
       "92  ndcg@3  0.111106  2019-12-18 07:52:37.923441  3  \n",
       "93  ndcg@4  0.124194  2019-12-18 07:53:04.796126  4  \n",
       "94  ndcg@5  0.134559  2019-12-18 07:53:32.115372  5  "
      ]
     },
     "execution_count": 11,
     "metadata": {},
     "output_type": "execute_result"
    }
   ],
   "source": [
    "parsed[parsed['model']=='BPR'].head()"
   ]
  },
  {
   "cell_type": "code",
   "execution_count": 12,
   "metadata": {},
   "outputs": [
    {
     "data": {
      "text/plain": [
       "array(['CollectiveMF_Item', 'CollectiveMF_User', 'CollectiveMF_Both',\n",
       "       'CollectiveMF_No', 'surprise_SVD', 'surprise_Baseline',\n",
       "       'PureRandom', 'FMItem', 'FMNone', 'BPR'], dtype=object)"
      ]
     },
     "execution_count": 12,
     "metadata": {},
     "output_type": "execute_result"
    }
   ],
   "source": [
    "modelname = parsed['model'].unique()\n",
    "modelname"
   ]
  },
  {
   "cell_type": "code",
   "execution_count": 14,
   "metadata": {},
   "outputs": [],
   "source": [
    "## plot ndcg@k for all models\n",
    "def plot_topk_ndcg(dataframe):\n",
    "    \"\"\"\n",
    "    Input: a tidy dataframe with topk for all models\n",
    "    Output: a ndcg@k plot\n",
    "    \"\"\"\n",
    "    ## add more if needed\n",
    "    color = ['black','m','goldenrod', 'wheat', 'c',\n",
    "            'brown', 'slateblue', 'skyblue', 'yellowgreen', \n",
    "             'tomato', 'darkorange', 'lavender'] \n",
    "    marker = ['P', '^' ,'o','H', 'v', 'D', 'X', 'p', 'x','*']\n",
    "    \n",
    "    ## get model names (number of line)\n",
    "    dfs = dict(tuple(dataframe.groupby('model')))\n",
    "    modelname = dataframe['model'].unique()\n",
    "    \n",
    "    ## size of template\n",
    "    size = len(modelname)\n",
    "    colorsize = len(color)\n",
    "    markersize = len(marker)\n",
    "    tempsize = min(colorsize, markersize)\n",
    "    \n",
    "    ## plotting\n",
    "    fig, ax = plt.subplots(1,1, figsize = (10,6))\n",
    "    \n",
    "    t = 0 ## default template index\n",
    "    for i in range(size):\n",
    "        t = i\n",
    "        if t > tempsize: ## reset \n",
    "            t = 0    \n",
    "        ax.plot(dfs[modelname[i]]['k'], dfs[modelname[i]]['value'], \n",
    "            marker=marker[t], color=color[t], linewidth=2, label = modelname[i])\n",
    "        t =+ 1\n",
    "    ax.legend()\n",
    "    ax.set_xlabel(\"k\", fontsize = 18)\n",
    "    ax.set_ylabel('ndcg@k', fontsize = 18)\n",
    "    ax.xaxis.set_tick_params(labelsize = 15)\n",
    "    ax.yaxis.set_tick_params(labelsize = 15)\n",
    "    ax.legend(bbox_to_anchor=(0.5,1.15), loc=\"upper center\", ncol=5)\n",
    "    \n",
    "    plt.tight_layout()\n",
    "    plt.savefig('figs/ndcg@k.eps', format='eps')\n",
    "    \n",
    "    return ax\n"
   ]
  },
  {
   "cell_type": "code",
   "execution_count": 15,
   "metadata": {},
   "outputs": [
    {
     "name": "stderr",
     "output_type": "stream",
     "text": [
      "The PostScript backend does not support transparency; partially transparent artists will be rendered opaque.\n",
      "The PostScript backend does not support transparency; partially transparent artists will be rendered opaque.\n"
     ]
    },
    {
     "data": {
      "text/plain": [
       "<matplotlib.axes._subplots.AxesSubplot at 0x7f4c58daa518>"
      ]
     },
     "execution_count": 15,
     "metadata": {},
     "output_type": "execute_result"
    },
    {
     "data": {
      "image/png": "[encoded data removed]",
      "text/plain": [
       "<Figure size 720x432 with 1 Axes>"
      ]
     },
     "metadata": {
      "needs_background": "light"
     },
     "output_type": "display_data"
    }
   ],
   "source": [
    "plot_topk_ndcg(parsed)"
   ]
  }
 ],
 "metadata": {
  "kernelspec": {
   "display_name": "Python (Spark)",
   "language": "python",
   "name": "spark"
  },
  "language_info": {
   "codemirror_mode": {
    "name": "ipython",
    "version": 3
   },
   "file_extension": ".py",
   "mimetype": "text/x-python",
   "name": "python",
   "nbconvert_exporter": "python",
   "pygments_lexer": "ipython3",
   "version": "3.6.9"
  }
 },
 "nbformat": 4,
 "nbformat_minor": 2
}
