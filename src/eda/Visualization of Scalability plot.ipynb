{
 "cells": [
  {
   "cell_type": "code",
   "execution_count": 1,
   "metadata": {},
   "outputs": [],
   "source": [
    "%matplotlib inline"
   ]
  },
  {
   "cell_type": "code",
   "execution_count": 2,
   "metadata": {},
   "outputs": [],
   "source": [
    "import matplotlib\n",
    "import seaborn as sns\n",
    "import matplotlib.pyplot as plt\n",
    "import pandas as pd"
   ]
  },
  {
   "cell_type": "code",
   "execution_count": 3,
   "metadata": {},
   "outputs": [],
   "source": [
    "%load_ext autoreload\n",
    "%autoreload 2"
   ]
  },
  {
   "cell_type": "code",
   "execution_count": 4,
   "metadata": {},
   "outputs": [],
   "source": [
    "import sys\n",
    "sys.path.append(\"../\")"
   ]
  },
  {
   "cell_type": "code",
   "execution_count": 5,
   "metadata": {},
   "outputs": [],
   "source": [
    "from src.data_pipeline.DataLoader import DataLoader\n",
    "from src.utility.sys_utils import get_spark\n",
    "\n",
    "# import result checking tools\n",
    "from src.utility.Summary import Summary"
   ]
  },
  {
   "cell_type": "code",
   "execution_count": 6,
   "metadata": {},
   "outputs": [
    {
     "name": "stdout",
     "output_type": "stream",
     "text": [
      "Using sampled subset with 6.896900E+04 records\n",
      "Using split of range (0, 0.2), test set contains 19365 of 68969 records in total.\n"
     ]
    }
   ],
   "source": [
    "spark = get_spark(cores=1) # change cores up to 6 if needed\n",
    "data_loader = DataLoader(spark, \"ml-20m-5p\")"
   ]
  },
  {
   "cell_type": "markdown",
   "metadata": {},
   "source": [
    "# Visualization of Scalability plot"
   ]
  },
  {
   "cell_type": "code",
   "execution_count": 7,
   "metadata": {},
   "outputs": [
    {
     "data": {
      "text/plain": [
       "<src.utility.Summary.Summary at 0x7fc3aea69f28>"
      ]
     },
     "execution_count": 7,
     "metadata": {},
     "output_type": "execute_result"
    }
   ],
   "source": [
    "summary = Summary(data_loader.get_config().db_path)\n",
    "summary"
   ]
  },
  {
   "cell_type": "markdown",
   "metadata": {},
   "source": [
    "### running time"
   ]
  },
  {
   "cell_type": "code",
   "execution_count": 8,
   "metadata": {},
   "outputs": [
    {
     "data": {
      "text/html": [
       "<div>\n",
       "<style scoped>\n",
       "    .dataframe tbody tr th:only-of-type {\n",
       "        vertical-align: middle;\n",
       "    }\n",
       "\n",
       "    .dataframe tbody tr th {\n",
       "        vertical-align: top;\n",
       "    }\n",
       "\n",
       "    .dataframe thead th {\n",
       "        text-align: right;\n",
       "    }\n",
       "</style>\n",
       "<table border=\"1\" class=\"dataframe\">\n",
       "  <thead>\n",
       "    <tr style=\"text-align: right;\">\n",
       "      <th></th>\n",
       "      <th>Model</th>\n",
       "      <th>ml-20m-5p</th>\n",
       "      <th>ml-20m-10p</th>\n",
       "      <th>ml-20m-20p</th>\n",
       "    </tr>\n",
       "  </thead>\n",
       "  <tbody>\n",
       "    <tr>\n",
       "      <th>0</th>\n",
       "      <td>ALS</td>\n",
       "      <td>50.4</td>\n",
       "      <td>60.0</td>\n",
       "      <td>108.0</td>\n",
       "    </tr>\n",
       "    <tr>\n",
       "      <th>1</th>\n",
       "      <td>ALS_NEG</td>\n",
       "      <td>44.0</td>\n",
       "      <td>59.7</td>\n",
       "      <td>110.0</td>\n",
       "    </tr>\n",
       "    <tr>\n",
       "      <th>2</th>\n",
       "      <td>KNN</td>\n",
       "      <td>34.5</td>\n",
       "      <td>65.0</td>\n",
       "      <td>131.0</td>\n",
       "    </tr>\n",
       "    <tr>\n",
       "      <th>3</th>\n",
       "      <td>BL_CNT</td>\n",
       "      <td>24.4</td>\n",
       "      <td>37.6</td>\n",
       "      <td>82.0</td>\n",
       "    </tr>\n",
       "    <tr>\n",
       "      <th>4</th>\n",
       "      <td>BL_AVG</td>\n",
       "      <td>26.5</td>\n",
       "      <td>31.5</td>\n",
       "      <td>40.3</td>\n",
       "    </tr>\n",
       "  </tbody>\n",
       "</table>\n",
       "</div>"
      ],
      "text/plain": [
       "     Model  ml-20m-5p  ml-20m-10p  ml-20m-20p\n",
       "0      ALS       50.4        60.0       108.0\n",
       "1  ALS_NEG       44.0        59.7       110.0\n",
       "2      KNN       34.5        65.0       131.0\n",
       "3   BL_CNT       24.4        37.6        82.0\n",
       "4   BL_AVG       26.5        31.5        40.3"
      ]
     },
     "execution_count": 8,
     "metadata": {},
     "output_type": "execute_result"
    }
   ],
   "source": [
    "import pandas as pd\n",
    "# print dataframe. \n",
    "data = [['ALS',50.4,60.0,108.0],['ALS_NEG',44.0,59.7,110.0]\\\n",
    "      ,['KNN',34.5,65.0,131.0],['BL_CNT',24.4,37.6,82.0],['BL_AVG',26.5,31.5,40.3]]\n",
    "\n",
    "df = pd.DataFrame(data, columns = ['Model','ml-20m-5p','ml-20m-10p','ml-20m-20p'])\n",
    "df"
   ]
  },
  {
   "cell_type": "code",
   "execution_count": 42,
   "metadata": {},
   "outputs": [
    {
     "name": "stderr",
     "output_type": "stream",
     "text": [
      "The PostScript backend does not support transparency; partially transparent artists will be rendered opaque.\n",
      "The PostScript backend does not support transparency; partially transparent artists will be rendered opaque.\n"
     ]
    },
    {
     "data": {
      "image/png": "[encoded data removed]",
      "text/plain": [
       "<Figure size 432x288 with 1 Axes>"
      ]
     },
     "metadata": {
      "needs_background": "light"
     },
     "output_type": "display_data"
    }
   ],
   "source": [
    "import numpy as np\n",
    "import matplotlib.pyplot as plt\n",
    "n_groups = 3\n",
    "\n",
    "# create plot\n",
    "fig, ax = plt.subplots()\n",
    "index = np.arange(n_groups)\n",
    "bar_width = 0.18\n",
    "opacity = 0.6\n",
    "\n",
    "rects1 = plt.bar(index, df.iloc[0,1:4], bar_width,\n",
    "color='lightgrey',\n",
    "edgecolor=\"black\",\n",
    "hatch='O',\n",
    "label='ALS')\n",
    "\n",
    "rects2 = plt.bar(index + bar_width, df.iloc[1,1:4], bar_width,\n",
    "color='slateblue',\n",
    "edgecolor=\"black\",\n",
    "hatch='.',\n",
    "label='ALS_NEG')\n",
    "\n",
    "rects3 = plt.bar(index + 2*bar_width, df.iloc[2,1:4], bar_width,\n",
    "color='skyblue',\n",
    "edgecolor=\"black\",\n",
    "hatch='*',\n",
    "label='KNN')\n",
    "\n",
    "rects4 = plt.bar(index + 3*bar_width, df.iloc[3,1:4], bar_width,\n",
    "color='lightgreen',\n",
    "edgecolor=\"black\",\n",
    "hatch='o',\n",
    "label='BL_CNT')\n",
    "\n",
    "rects5 = plt.bar(index + 4*bar_width, df.iloc[4,1:4], bar_width,\n",
    "color='lightpink',\n",
    "edgecolor=\"black\",\n",
    "hatch='X',\n",
    "label='BL_AVG')\n",
    "\n",
    "plt.xlabel('Sample Size',fontsize=16)\n",
    "plt.ylabel('Running Time',fontsize=16)\n",
    "plt.title('Running Time by Sample Size',fontsize=18)\n",
    "plt.xticks(index + 2*bar_width, ('ml-20m-5p','ml-20m-10p','ml-20m-20p'),fontsize=14)\n",
    "plt.yticks(fontsize=14)\n",
    "plt.legend()\n",
    "\n",
    "plt.tight_layout()\n",
    "plt.savefig('by_sample_size_running_time.eps', format='eps')\n",
    "plt.show()"
   ]
  },
  {
   "cell_type": "markdown",
   "metadata": {},
   "source": [
    "### Performance NDCG@10"
   ]
  },
  {
   "cell_type": "code",
   "execution_count": 11,
   "metadata": {},
   "outputs": [
    {
     "data": {
      "text/html": [
       "<div>\n",
       "<style scoped>\n",
       "    .dataframe tbody tr th:only-of-type {\n",
       "        vertical-align: middle;\n",
       "    }\n",
       "\n",
       "    .dataframe tbody tr th {\n",
       "        vertical-align: top;\n",
       "    }\n",
       "\n",
       "    .dataframe thead th {\n",
       "        text-align: right;\n",
       "    }\n",
       "</style>\n",
       "<table border=\"1\" class=\"dataframe\">\n",
       "  <thead>\n",
       "    <tr style=\"text-align: right;\">\n",
       "      <th></th>\n",
       "      <th>Model</th>\n",
       "      <th>ml-20m-5p</th>\n",
       "      <th>ml-20m-10p</th>\n",
       "      <th>ml-20m-20p</th>\n",
       "    </tr>\n",
       "  </thead>\n",
       "  <tbody>\n",
       "    <tr>\n",
       "      <th>0</th>\n",
       "      <td>ALS</td>\n",
       "      <td>None</td>\n",
       "      <td>None</td>\n",
       "      <td>None</td>\n",
       "    </tr>\n",
       "    <tr>\n",
       "      <th>1</th>\n",
       "      <td>ALS_NEG</td>\n",
       "      <td>None</td>\n",
       "      <td>None</td>\n",
       "      <td>None</td>\n",
       "    </tr>\n",
       "    <tr>\n",
       "      <th>2</th>\n",
       "      <td>KNN</td>\n",
       "      <td>None</td>\n",
       "      <td>None</td>\n",
       "      <td>None</td>\n",
       "    </tr>\n",
       "    <tr>\n",
       "      <th>3</th>\n",
       "      <td>BL_CNT</td>\n",
       "      <td>None</td>\n",
       "      <td>None</td>\n",
       "      <td>None</td>\n",
       "    </tr>\n",
       "    <tr>\n",
       "      <th>4</th>\n",
       "      <td>BL_AVG</td>\n",
       "      <td>None</td>\n",
       "      <td>None</td>\n",
       "      <td>None</td>\n",
       "    </tr>\n",
       "  </tbody>\n",
       "</table>\n",
       "</div>"
      ],
      "text/plain": [
       "     Model ml-20m-5p ml-20m-10p ml-20m-20p\n",
       "0      ALS      None       None       None\n",
       "1  ALS_NEG      None       None       None\n",
       "2      KNN      None       None       None\n",
       "3   BL_CNT      None       None       None\n",
       "4   BL_AVG      None       None       None"
      ]
     },
     "execution_count": 11,
     "metadata": {},
     "output_type": "execute_result"
    }
   ],
   "source": [
    "df_ndcg = pd.DataFrame(data = [['ALS'],['ALS_NEG'],['KNN'],['BL_CNT'],['BL_AVG']], columns = ['Model'])\n",
    "\n",
    "df_ndcg['ml-20m-5p'] = None\n",
    "df_ndcg['ml-20m-10p'] = None\n",
    "df_ndcg['ml-20m-20p'] = None\n",
    "df_ndcg"
   ]
  },
  {
   "cell_type": "code",
   "execution_count": 12,
   "metadata": {},
   "outputs": [
    {
     "data": {
      "text/html": [
       "<div>\n",
       "<style scoped>\n",
       "    .dataframe tbody tr th:only-of-type {\n",
       "        vertical-align: middle;\n",
       "    }\n",
       "\n",
       "    .dataframe tbody tr th {\n",
       "        vertical-align: top;\n",
       "    }\n",
       "\n",
       "    .dataframe thead th {\n",
       "        text-align: right;\n",
       "    }\n",
       "</style>\n",
       "<table border=\"1\" class=\"dataframe\">\n",
       "  <thead>\n",
       "    <tr style=\"text-align: right;\">\n",
       "      <th></th>\n",
       "      <th>Model</th>\n",
       "      <th>m</th>\n",
       "      <th>ml-20m-5p</th>\n",
       "      <th>ml-20m-10p</th>\n",
       "      <th>ml-20m-20p</th>\n",
       "    </tr>\n",
       "  </thead>\n",
       "  <tbody>\n",
       "    <tr>\n",
       "      <th>0</th>\n",
       "      <td>ALS</td>\n",
       "      <td>ALS_MF</td>\n",
       "      <td>[('maxIter', 15), ('num_neg', 0), ('rank', 32)...</td>\n",
       "      <td>[('maxIter', 15), ('num_neg', 0), ('rank', 64)...</td>\n",
       "      <td>[('maxIter', 15), ('num_neg', 0), ('rank', 64)...</td>\n",
       "    </tr>\n",
       "    <tr>\n",
       "      <th>1</th>\n",
       "      <td>ALS_NEG</td>\n",
       "      <td>ALS_MF</td>\n",
       "      <td>[('maxIter', 15), ('num_neg', 3), ('rank', 4),...</td>\n",
       "      <td>[('maxIter', 15), ('num_neg', 3), ('rank', 64)...</td>\n",
       "      <td>[('maxIter', 15), ('num_neg', 3), ('rank', 64)...</td>\n",
       "    </tr>\n",
       "    <tr>\n",
       "      <th>2</th>\n",
       "      <td>KNN</td>\n",
       "      <td>KNN</td>\n",
       "      <td>[('k', 5)]</td>\n",
       "      <td>[('k', 5)]</td>\n",
       "      <td>[('k', 5)]</td>\n",
       "    </tr>\n",
       "    <tr>\n",
       "      <th>3</th>\n",
       "      <td>BL_CNT</td>\n",
       "      <td>BaseLine</td>\n",
       "      <td>[('model', 'count_rank_rating')]</td>\n",
       "      <td>[('model', 'count_rank_rating')]</td>\n",
       "      <td>[('model', 'count_rank_rating')]</td>\n",
       "    </tr>\n",
       "    <tr>\n",
       "      <th>4</th>\n",
       "      <td>BL_AVG</td>\n",
       "      <td>BaseLine</td>\n",
       "      <td>[('model', 'avg_rating')]</td>\n",
       "      <td>[('model', 'avg_rating')]</td>\n",
       "      <td>[('model', 'avg_rating')]</td>\n",
       "    </tr>\n",
       "  </tbody>\n",
       "</table>\n",
       "</div>"
      ],
      "text/plain": [
       "     Model         m                                          ml-20m-5p  \\\n",
       "0      ALS    ALS_MF  [('maxIter', 15), ('num_neg', 0), ('rank', 32)...   \n",
       "1  ALS_NEG    ALS_MF  [('maxIter', 15), ('num_neg', 3), ('rank', 4),...   \n",
       "2      KNN       KNN                                         [('k', 5)]   \n",
       "3   BL_CNT  BaseLine                   [('model', 'count_rank_rating')]   \n",
       "4   BL_AVG  BaseLine                          [('model', 'avg_rating')]   \n",
       "\n",
       "                                          ml-20m-10p  \\\n",
       "0  [('maxIter', 15), ('num_neg', 0), ('rank', 64)...   \n",
       "1  [('maxIter', 15), ('num_neg', 3), ('rank', 64)...   \n",
       "2                                         [('k', 5)]   \n",
       "3                   [('model', 'count_rank_rating')]   \n",
       "4                          [('model', 'avg_rating')]   \n",
       "\n",
       "                                          ml-20m-20p  \n",
       "0  [('maxIter', 15), ('num_neg', 0), ('rank', 64)...  \n",
       "1  [('maxIter', 15), ('num_neg', 3), ('rank', 64)...  \n",
       "2                                         [('k', 5)]  \n",
       "3                   [('model', 'count_rank_rating')]  \n",
       "4                          [('model', 'avg_rating')]  "
      ]
     },
     "execution_count": 12,
     "metadata": {},
     "output_type": "execute_result"
    }
   ],
   "source": [
    "final_model = pd.DataFrame(data=[['ALS','ALS_MF',\"[('maxIter', 15), ('num_neg', 0), ('rank', 32), ('regParam', 0.5)]\",\\\n",
    "         \"[('maxIter', 15), ('num_neg', 0), ('rank', 64), ('regParam', 0.05)]\",\\\n",
    "         \"[('maxIter', 15), ('num_neg', 0), ('rank', 64), ('regParam', 0.05)]\"]\\\n",
    "        ,['ALS_NEG','ALS_MF',\"[('maxIter', 15), ('num_neg', 3), ('rank', 4), ('regParam', 0.5)]\",\\\n",
    "          \"[('maxIter', 15), ('num_neg', 3), ('rank', 64), ('regParam', 0.05)]\",\\\n",
    "          \"[('maxIter', 15), ('num_neg', 3), ('rank', 64), ('regParam', 0.05)]\"]\\\n",
    "        ,['KNN','KNN',\"[('k', 5)]\",\"[('k', 5)]\",\"[('k', 5)]\"]\\\n",
    "        ,['BL_CNT','BaseLine',\"[('model', 'count_rank_rating')]\",\"[('model', 'count_rank_rating')]\",\"[('model', 'count_rank_rating')]\"]\\\n",
    "        ,['BL_AVG','BaseLine',\"[('model', 'avg_rating')]\",\"[('model', 'avg_rating')]\",\"[('model', 'avg_rating')]\"]],columns = ['Model','m','ml-20m-5p','ml-20m-10p','ml-20m-20p'])\n",
    "final_model"
   ]
  },
  {
   "cell_type": "code",
   "execution_count": 13,
   "metadata": {},
   "outputs": [],
   "source": [
    "for data_set in [\"ml-20m-5p\",\"ml-20m-10p\",\"ml-20m-20p\"]:\n",
    "    for i in range(5) :\n",
    "        #print(data_set)\n",
    "        #print(i)\n",
    "        sum_df = summary.get_model_test_perf(data_set, final_model.loc[i,'m'])\n",
    "        df_ndcg.loc[i,data_set]= sum_df.loc[(sum_df.metric==\"ndcg@10\") & (sum_df.hyper==final_model.loc[i,data_set])].iloc[0]['value']\n"
   ]
  },
  {
   "cell_type": "code",
   "execution_count": 14,
   "metadata": {},
   "outputs": [
    {
     "data": {
      "text/html": [
       "<div>\n",
       "<style scoped>\n",
       "    .dataframe tbody tr th:only-of-type {\n",
       "        vertical-align: middle;\n",
       "    }\n",
       "\n",
       "    .dataframe tbody tr th {\n",
       "        vertical-align: top;\n",
       "    }\n",
       "\n",
       "    .dataframe thead th {\n",
       "        text-align: right;\n",
       "    }\n",
       "</style>\n",
       "<table border=\"1\" class=\"dataframe\">\n",
       "  <thead>\n",
       "    <tr style=\"text-align: right;\">\n",
       "      <th></th>\n",
       "      <th>Model</th>\n",
       "      <th>ml-20m-5p</th>\n",
       "      <th>ml-20m-10p</th>\n",
       "      <th>ml-20m-20p</th>\n",
       "    </tr>\n",
       "  </thead>\n",
       "  <tbody>\n",
       "    <tr>\n",
       "      <th>0</th>\n",
       "      <td>ALS</td>\n",
       "      <td>0.01169</td>\n",
       "      <td>0.00928001</td>\n",
       "      <td>0.0101528</td>\n",
       "    </tr>\n",
       "    <tr>\n",
       "      <th>1</th>\n",
       "      <td>ALS_NEG</td>\n",
       "      <td>0.0116649</td>\n",
       "      <td>0.00928001</td>\n",
       "      <td>0.0101528</td>\n",
       "    </tr>\n",
       "    <tr>\n",
       "      <th>2</th>\n",
       "      <td>KNN</td>\n",
       "      <td>0.0155543</td>\n",
       "      <td>0.00696797</td>\n",
       "      <td>0.00337751</td>\n",
       "    </tr>\n",
       "    <tr>\n",
       "      <th>3</th>\n",
       "      <td>BL_CNT</td>\n",
       "      <td>0.0122137</td>\n",
       "      <td>0.00672112</td>\n",
       "      <td>0.00508466</td>\n",
       "    </tr>\n",
       "    <tr>\n",
       "      <th>4</th>\n",
       "      <td>BL_AVG</td>\n",
       "      <td>0.0122137</td>\n",
       "      <td>0.00647449</td>\n",
       "      <td>0.00442355</td>\n",
       "    </tr>\n",
       "  </tbody>\n",
       "</table>\n",
       "</div>"
      ],
      "text/plain": [
       "     Model  ml-20m-5p  ml-20m-10p  ml-20m-20p\n",
       "0      ALS    0.01169  0.00928001   0.0101528\n",
       "1  ALS_NEG  0.0116649  0.00928001   0.0101528\n",
       "2      KNN  0.0155543  0.00696797  0.00337751\n",
       "3   BL_CNT  0.0122137  0.00672112  0.00508466\n",
       "4   BL_AVG  0.0122137  0.00647449  0.00442355"
      ]
     },
     "execution_count": 14,
     "metadata": {},
     "output_type": "execute_result"
    }
   ],
   "source": [
    "df_ndcg"
   ]
  },
  {
   "cell_type": "code",
   "execution_count": 41,
   "metadata": {},
   "outputs": [
    {
     "name": "stderr",
     "output_type": "stream",
     "text": [
      "The PostScript backend does not support transparency; partially transparent artists will be rendered opaque.\n",
      "The PostScript backend does not support transparency; partially transparent artists will be rendered opaque.\n"
     ]
    },
    {
     "data": {
      "image/png": "[encoded data removed]",
      "text/plain": [
       "<Figure size 432x288 with 1 Axes>"
      ]
     },
     "metadata": {
      "needs_background": "light"
     },
     "output_type": "display_data"
    }
   ],
   "source": [
    "import numpy as np\n",
    "import matplotlib.pyplot as plt\n",
    "n_groups = 3\n",
    "\n",
    "# create plot\n",
    "fig, ax = plt.subplots()\n",
    "index = np.arange(n_groups)\n",
    "bar_width = 0.18\n",
    "opacity = 0.6\n",
    "\n",
    "rects1 = plt.bar(index, df_ndcg.iloc[0,1:4], bar_width,\n",
    "color='lightgrey',\n",
    "edgecolor=\"black\",\n",
    "hatch='O',\n",
    "label='ALS')\n",
    "\n",
    "rects2 = plt.bar(index + bar_width, df_ndcg.iloc[1,1:4], bar_width,\n",
    "color='slateblue',\n",
    "edgecolor=\"black\",\n",
    "hatch='.',\n",
    "label='ALS_NEG')\n",
    "\n",
    "rects3 = plt.bar(index + 2*bar_width, df_ndcg.iloc[2,1:4], bar_width,\n",
    "color='skyblue',\n",
    "edgecolor=\"black\",\n",
    "hatch='*',\n",
    "label='KNN')\n",
    "\n",
    "rects4 = plt.bar(index + 3*bar_width, df_ndcg.iloc[3,1:4], bar_width,\n",
    "color='lightgreen',\n",
    "edgecolor=\"black\",\n",
    "hatch='o',\n",
    "label='BL_CNT')\n",
    "\n",
    "rects5 = plt.bar(index + 4*bar_width, df_ndcg.iloc[4,1:4], bar_width,\n",
    "color='lightpink',\n",
    "edgecolor=\"black\",\n",
    "hatch='X',\n",
    "label='BL_AVG')\n",
    "\n",
    "plt.xlabel('Sample Size',fontsize=16)\n",
    "plt.ylabel('NDCG@10',fontsize=16)\n",
    "plt.title('Best Model Performance by Sample Size',fontsize=18)\n",
    "plt.xticks(index + 2*bar_width, ('ml-20m-5p','ml-20m-10p','ml-20m-20p'),fontsize=14)\n",
    "plt.yticks(fontsize=14)\n",
    "plt.legend(loc='upper right')\n",
    "\n",
    "plt.tight_layout()\n",
    "plt.savefig('by_sample_size_best_model_performance.eps', format='eps')\n",
    "plt.show()\n",
    "#plt.savefig('best_model_performance_by_sample_size.eps', format='eps')"
   ]
  },
  {
   "cell_type": "code",
   "execution_count": null,
   "metadata": {},
   "outputs": [],
   "source": []
  }
 ],
 "metadata": {
  "kernelspec": {
   "display_name": "Python (Spark)",
   "language": "python",
   "name": "spark"
  },
  "language_info": {
   "codemirror_mode": {
    "name": "ipython",
    "version": 3
   },
   "file_extension": ".py",
   "mimetype": "text/x-python",
   "name": "python",
   "nbconvert_exporter": "python",
   "pygments_lexer": "ipython3",
   "version": "3.6.9"
  }
 },
 "nbformat": 4,
 "nbformat_minor": 2
}
