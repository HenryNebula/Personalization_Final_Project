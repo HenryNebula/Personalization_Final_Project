{
 "cells": [
  {
   "cell_type": "code",
   "execution_count": 1,
   "metadata": {},
   "outputs": [],
   "source": [
    "%matplotlib inline"
   ]
  },
  {
   "cell_type": "code",
   "execution_count": 2,
   "metadata": {},
   "outputs": [],
   "source": [
    "import matplotlib\n",
    "import seaborn as sns\n",
    "import matplotlib.pyplot as plt\n",
    "import pandas as pd\n",
    "import re"
   ]
  },
  {
   "cell_type": "code",
   "execution_count": 3,
   "metadata": {},
   "outputs": [],
   "source": [
    "%load_ext autoreload\n",
    "%autoreload 2"
   ]
  },
  {
   "cell_type": "code",
   "execution_count": 4,
   "metadata": {},
   "outputs": [],
   "source": [
    "import sys\n",
    "sys.path.append(\"../..\")\n",
    "sys.path.append(\"../\")\n",
    "sys.path.append(\"./\")"
   ]
  },
  {
   "cell_type": "code",
   "execution_count": 5,
   "metadata": {},
   "outputs": [],
   "source": [
    "from src.data_pipeline.DataLoader import DataLoader\n",
    "from src.utility.sys_utils import get_spark\n",
    "\n",
    "# import result checking tools\n",
    "from src.utility.Summary import Summary"
   ]
  },
  {
   "cell_type": "code",
   "execution_count": 6,
   "metadata": {},
   "outputs": [],
   "source": [
    "spark = get_spark(cores=4) # change cores up to 6 if needed\n",
    "dataloader = DataLoader(dataset_name=\"user_10_item_1_exp\", config_name=\"default_config.json\")"
   ]
  },
  {
   "cell_type": "markdown",
   "metadata": {},
   "source": [
    "### Visualization of Evaluation Metric to Recommendation Size"
   ]
  },
  {
   "cell_type": "code",
   "execution_count": 7,
   "metadata": {},
   "outputs": [
    {
     "data": {
      "text/plain": [
       "<src.utility.Summary.Summary at 0x7f3e7577eb70>"
      ]
     },
     "execution_count": 7,
     "metadata": {},
     "output_type": "execute_result"
    }
   ],
   "source": [
    "summary = Summary(dataloader.get_config().db_path)\n",
    "summary"
   ]
  },
  {
   "cell_type": "code",
   "execution_count": 8,
   "metadata": {},
   "outputs": [
    {
     "name": "stdout",
     "output_type": "stream",
     "text": [
      "Best ndcg@1 of surprise_SVD is found as 0.02730583581647411\n",
      "For model surprise_SVD, it has a ndcg@1 of 0.02730583581647411\n"
     ]
    },
    {
     "data": {
      "text/html": [
       "<div>\n",
       "<style scoped>\n",
       "    .dataframe tbody tr th:only-of-type {\n",
       "        vertical-align: middle;\n",
       "    }\n",
       "\n",
       "    .dataframe tbody tr th {\n",
       "        vertical-align: top;\n",
       "    }\n",
       "\n",
       "    .dataframe thead th {\n",
       "        text-align: right;\n",
       "    }\n",
       "</style>\n",
       "<table border=\"1\" class=\"dataframe\">\n",
       "  <thead>\n",
       "    <tr style=\"text-align: right;\">\n",
       "      <th></th>\n",
       "      <th>model</th>\n",
       "      <th>hyper</th>\n",
       "      <th>metric</th>\n",
       "      <th>value</th>\n",
       "      <th>ts</th>\n",
       "    </tr>\n",
       "  </thead>\n",
       "  <tbody>\n",
       "    <tr>\n",
       "      <th>0</th>\n",
       "      <td>surprise_SVD</td>\n",
       "      <td>[('lr_all', 0.002), ('n_factors', 10), ('reg_a...</td>\n",
       "      <td>ndcg@1</td>\n",
       "      <td>0.027306</td>\n",
       "      <td>2019-12-18 01:58:00.216802</td>\n",
       "    </tr>\n",
       "  </tbody>\n",
       "</table>\n",
       "</div>"
      ],
      "text/plain": [
       "          model                                              hyper  metric  \\\n",
       "0  surprise_SVD  [('lr_all', 0.002), ('n_factors', 10), ('reg_a...  ndcg@1   \n",
       "\n",
       "      value                         ts  \n",
       "0  0.027306 2019-12-18 01:58:00.216802  "
      ]
     },
     "execution_count": 8,
     "metadata": {},
     "output_type": "execute_result"
    }
   ],
   "source": [
    "hyper = summary.get_optimal_params(\"user_10_item_1_exp\", \"surprise_SVD\", \"ndcg@1\")\n",
    "\n",
    "result = summary.get_result_for_params(\"user_10_item_1_exp\", \"surprise_SVD\", hyper, \"ndcg@1\")\n",
    "result"
   ]
  },
  {
   "cell_type": "markdown",
   "metadata": {},
   "source": [
    "### Read ndcg top k info from parsed csv"
   ]
  },
  {
   "cell_type": "code",
   "execution_count": 9,
   "metadata": {},
   "outputs": [
    {
     "data": {
      "text/html": [
       "<div>\n",
       "<style scoped>\n",
       "    .dataframe tbody tr th:only-of-type {\n",
       "        vertical-align: middle;\n",
       "    }\n",
       "\n",
       "    .dataframe tbody tr th {\n",
       "        vertical-align: top;\n",
       "    }\n",
       "\n",
       "    .dataframe thead th {\n",
       "        text-align: right;\n",
       "    }\n",
       "</style>\n",
       "<table border=\"1\" class=\"dataframe\">\n",
       "  <thead>\n",
       "    <tr style=\"text-align: right;\">\n",
       "      <th></th>\n",
       "      <th>Unnamed: 0</th>\n",
       "      <th>model</th>\n",
       "      <th>hyper</th>\n",
       "      <th>metric</th>\n",
       "      <th>value</th>\n",
       "      <th>ts</th>\n",
       "      <th>k</th>\n",
       "    </tr>\n",
       "  </thead>\n",
       "  <tbody>\n",
       "    <tr>\n",
       "      <th>0</th>\n",
       "      <td>0</td>\n",
       "      <td>CollectiveMF_Item</td>\n",
       "      <td>[('k', 16), ('reg_param', 0.01), ('w_main', 0.5)]</td>\n",
       "      <td>ndcg@1</td>\n",
       "      <td>0.055422</td>\n",
       "      <td>2019-12-18 01:32:20.734647</td>\n",
       "      <td>1</td>\n",
       "    </tr>\n",
       "    <tr>\n",
       "      <th>1</th>\n",
       "      <td>1</td>\n",
       "      <td>CollectiveMF_Item</td>\n",
       "      <td>[('k', 16), ('reg_param', 0.01), ('w_main', 0.5)]</td>\n",
       "      <td>ndcg@2</td>\n",
       "      <td>0.078422</td>\n",
       "      <td>2019-12-18 01:32:38.024594</td>\n",
       "      <td>2</td>\n",
       "    </tr>\n",
       "    <tr>\n",
       "      <th>2</th>\n",
       "      <td>2</td>\n",
       "      <td>CollectiveMF_Item</td>\n",
       "      <td>[('k', 16), ('reg_param', 0.01), ('w_main', 0.5)]</td>\n",
       "      <td>ndcg@3</td>\n",
       "      <td>0.092794</td>\n",
       "      <td>2019-12-18 01:32:55.187776</td>\n",
       "      <td>3</td>\n",
       "    </tr>\n",
       "    <tr>\n",
       "      <th>3</th>\n",
       "      <td>3</td>\n",
       "      <td>CollectiveMF_Item</td>\n",
       "      <td>[('k', 16), ('reg_param', 0.01), ('w_main', 0.5)]</td>\n",
       "      <td>ndcg@4</td>\n",
       "      <td>0.103548</td>\n",
       "      <td>2019-12-18 01:33:12.001429</td>\n",
       "      <td>4</td>\n",
       "    </tr>\n",
       "    <tr>\n",
       "      <th>4</th>\n",
       "      <td>4</td>\n",
       "      <td>CollectiveMF_Item</td>\n",
       "      <td>[('k', 16), ('reg_param', 0.01), ('w_main', 0.5)]</td>\n",
       "      <td>ndcg@5</td>\n",
       "      <td>0.112015</td>\n",
       "      <td>2019-12-18 01:33:29.350053</td>\n",
       "      <td>5</td>\n",
       "    </tr>\n",
       "  </tbody>\n",
       "</table>\n",
       "</div>"
      ],
      "text/plain": [
       "   Unnamed: 0              model  \\\n",
       "0           0  CollectiveMF_Item   \n",
       "1           1  CollectiveMF_Item   \n",
       "2           2  CollectiveMF_Item   \n",
       "3           3  CollectiveMF_Item   \n",
       "4           4  CollectiveMF_Item   \n",
       "\n",
       "                                               hyper  metric     value  \\\n",
       "0  [('k', 16), ('reg_param', 0.01), ('w_main', 0.5)]  ndcg@1  0.055422   \n",
       "1  [('k', 16), ('reg_param', 0.01), ('w_main', 0.5)]  ndcg@2  0.078422   \n",
       "2  [('k', 16), ('reg_param', 0.01), ('w_main', 0.5)]  ndcg@3  0.092794   \n",
       "3  [('k', 16), ('reg_param', 0.01), ('w_main', 0.5)]  ndcg@4  0.103548   \n",
       "4  [('k', 16), ('reg_param', 0.01), ('w_main', 0.5)]  ndcg@5  0.112015   \n",
       "\n",
       "                           ts  k  \n",
       "0  2019-12-18 01:32:20.734647  1  \n",
       "1  2019-12-18 01:32:38.024594  2  \n",
       "2  2019-12-18 01:32:55.187776  3  \n",
       "3  2019-12-18 01:33:12.001429  4  \n",
       "4  2019-12-18 01:33:29.350053  5  "
      ]
     },
     "execution_count": 9,
     "metadata": {},
     "output_type": "execute_result"
    }
   ],
   "source": [
    "parsed = pd.read_csv(\"../../parse_results/topk_results.csv\", sep = ',')\n",
    "parsed.head()"
   ]
  },
  {
   "cell_type": "code",
   "execution_count": 10,
   "metadata": {},
   "outputs": [
    {
     "data": {
      "text/plain": [
       "array(['CollectiveMF_Item', 'CollectiveMF_User', 'CollectiveMF_Both',\n",
       "       'CollectiveMF_No', 'surprise_SVD', 'surprise_Baseline',\n",
       "       'PureRandom', 'FMItem', 'FMNone', 'BPR'], dtype=object)"
      ]
     },
     "execution_count": 10,
     "metadata": {},
     "output_type": "execute_result"
    }
   ],
   "source": [
    "parsed['model'].unique()"
   ]
  },
  {
   "cell_type": "code",
   "execution_count": 67,
   "metadata": {},
   "outputs": [
    {
     "data": {
      "text/html": [
       "<div>\n",
       "<style scoped>\n",
       "    .dataframe tbody tr th:only-of-type {\n",
       "        vertical-align: middle;\n",
       "    }\n",
       "\n",
       "    .dataframe tbody tr th {\n",
       "        vertical-align: top;\n",
       "    }\n",
       "\n",
       "    .dataframe thead th {\n",
       "        text-align: right;\n",
       "    }\n",
       "</style>\n",
       "<table border=\"1\" class=\"dataframe\">\n",
       "  <thead>\n",
       "    <tr style=\"text-align: right;\">\n",
       "      <th></th>\n",
       "      <th>Unnamed: 0</th>\n",
       "      <th>model</th>\n",
       "      <th>hyper</th>\n",
       "      <th>metric</th>\n",
       "      <th>value</th>\n",
       "      <th>ts</th>\n",
       "      <th>k</th>\n",
       "    </tr>\n",
       "  </thead>\n",
       "  <tbody>\n",
       "    <tr>\n",
       "      <th>90</th>\n",
       "      <td>90</td>\n",
       "      <td>BPR</td>\n",
       "      <td>[('factors', 16), ('iteration', 100), ('learni...</td>\n",
       "      <td>ndcg@1</td>\n",
       "      <td>0.065233</td>\n",
       "      <td>2019-12-18 07:51:42.829660</td>\n",
       "      <td>1</td>\n",
       "    </tr>\n",
       "    <tr>\n",
       "      <th>91</th>\n",
       "      <td>91</td>\n",
       "      <td>BPR</td>\n",
       "      <td>[('factors', 16), ('iteration', 100), ('learni...</td>\n",
       "      <td>ndcg@2</td>\n",
       "      <td>0.093214</td>\n",
       "      <td>2019-12-18 07:52:10.560294</td>\n",
       "      <td>2</td>\n",
       "    </tr>\n",
       "    <tr>\n",
       "      <th>92</th>\n",
       "      <td>92</td>\n",
       "      <td>BPR</td>\n",
       "      <td>[('factors', 16), ('iteration', 100), ('learni...</td>\n",
       "      <td>ndcg@3</td>\n",
       "      <td>0.111106</td>\n",
       "      <td>2019-12-18 07:52:37.923441</td>\n",
       "      <td>3</td>\n",
       "    </tr>\n",
       "    <tr>\n",
       "      <th>93</th>\n",
       "      <td>93</td>\n",
       "      <td>BPR</td>\n",
       "      <td>[('factors', 16), ('iteration', 100), ('learni...</td>\n",
       "      <td>ndcg@4</td>\n",
       "      <td>0.124194</td>\n",
       "      <td>2019-12-18 07:53:04.796126</td>\n",
       "      <td>4</td>\n",
       "    </tr>\n",
       "    <tr>\n",
       "      <th>94</th>\n",
       "      <td>94</td>\n",
       "      <td>BPR</td>\n",
       "      <td>[('factors', 16), ('iteration', 100), ('learni...</td>\n",
       "      <td>ndcg@5</td>\n",
       "      <td>0.134559</td>\n",
       "      <td>2019-12-18 07:53:32.115372</td>\n",
       "      <td>5</td>\n",
       "    </tr>\n",
       "  </tbody>\n",
       "</table>\n",
       "</div>"
      ],
      "text/plain": [
       "    Unnamed: 0 model                                              hyper  \\\n",
       "90          90   BPR  [('factors', 16), ('iteration', 100), ('learni...   \n",
       "91          91   BPR  [('factors', 16), ('iteration', 100), ('learni...   \n",
       "92          92   BPR  [('factors', 16), ('iteration', 100), ('learni...   \n",
       "93          93   BPR  [('factors', 16), ('iteration', 100), ('learni...   \n",
       "94          94   BPR  [('factors', 16), ('iteration', 100), ('learni...   \n",
       "\n",
       "    metric     value                          ts  k  \n",
       "90  ndcg@1  0.065233  2019-12-18 07:51:42.829660  1  \n",
       "91  ndcg@2  0.093214  2019-12-18 07:52:10.560294  2  \n",
       "92  ndcg@3  0.111106  2019-12-18 07:52:37.923441  3  \n",
       "93  ndcg@4  0.124194  2019-12-18 07:53:04.796126  4  \n",
       "94  ndcg@5  0.134559  2019-12-18 07:53:32.115372  5  "
      ]
     },
     "execution_count": 67,
     "metadata": {},
     "output_type": "execute_result"
    }
   ],
   "source": [
    "parsed[parsed['model']=='BPR'].head()"
   ]
  },
  {
   "cell_type": "code",
   "execution_count": 69,
   "metadata": {},
   "outputs": [
    {
     "data": {
      "text/plain": [
       "array(['CollectiveMF_Item', 'CollectiveMF_User', 'CollectiveMF_Both',\n",
       "       'CollectiveMF_No', 'surprise_SVD', 'surprise_Baseline',\n",
       "       'PureRandom', 'FMItem', 'FMNone', 'BPR'], dtype=object)"
      ]
     },
     "execution_count": 69,
     "metadata": {},
     "output_type": "execute_result"
    }
   ],
   "source": [
    "modelname = parsed['model'].unique()\n",
    "modelname"
   ]
  },
  {
   "cell_type": "code",
   "execution_count": 72,
   "metadata": {},
   "outputs": [],
   "source": [
    "## plot ndcg@k for all models\n",
    "def plot_topk_ndcg(dataframe):\n",
    "    \"\"\"\n",
    "    Input: a tidy dataframe with topk for all models\n",
    "    Output: a ndcg@k plot\n",
    "    \"\"\"\n",
    "    ## add more if needed\n",
    "    color = ['black','m','goldenrod', 'wheat', 'c',\n",
    "            'brown', 'slateblue', 'skyblue', 'yellowgreen', \n",
    "             'tomato', 'darkorange', 'lavender'] \n",
    "    marker = ['P', '^' ,'o','H', 'v', 'D', 'X', 'p', 'x','*']\n",
    "    \n",
    "    ## get model names (number of line)\n",
    "    dfs = dict(tuple(dataframe.groupby('model')))\n",
    "    modelname = dataframe['model'].unique()\n",
    "    \n",
    "    ## size of template\n",
    "    size = len(modelname)\n",
    "    colorsize = len(color)\n",
    "    markersize = len(marker)\n",
    "    tempsize = min(colorsize, markersize)\n",
    "    \n",
    "    ## plotting\n",
    "    fig, ax = plt.subplots(1,1, figsize = (7,6))\n",
    "    \n",
    "    t = 0 ## default template index\n",
    "    for i in range(size):\n",
    "        t = i\n",
    "        if t > tempsize: ## reset \n",
    "            t = 0    \n",
    "        ax.plot(dfs[modelname[i]]['k'], dfs[modelname[i]]['value'], \n",
    "            marker=marker[t], color=color[t], linewidth=2, label = modelname[i])\n",
    "        t =+ 1\n",
    "    ax.legend()\n",
    "    ax.set_xlabel(\"k\", fontsize = 18)\n",
    "    ax.set_ylabel('value', fontsize = 18)\n",
    "    ax.xaxis.set_tick_params(labelsize = 15)\n",
    "    ax.yaxis.set_tick_params(labelsize = 15)\n",
    "    ax.set_title(\"ndcg@k \" , fontsize = 22)\n",
    "    \n",
    "    plt.savefig('ndcg@k', format='eps')\n",
    "    \n",
    "    return ax\n"
   ]
  },
  {
   "cell_type": "code",
   "execution_count": 73,
   "metadata": {},
   "outputs": [
    {
     "name": "stderr",
     "output_type": "stream",
     "text": [
      "The PostScript backend does not support transparency; partially transparent artists will be rendered opaque.\n",
      "The PostScript backend does not support transparency; partially transparent artists will be rendered opaque.\n"
     ]
    },
    {
     "data": {
      "text/plain": [
       "<matplotlib.axes._subplots.AxesSubplot at 0x7f3da5592860>"
      ]
     },
     "execution_count": 73,
     "metadata": {},
     "output_type": "execute_result"
    },
    {
     "data": {
      "image/png": "[encoded data removed]",
      "text/plain": [
       "<Figure size 504x432 with 1 Axes>"
      ]
     },
     "metadata": {
      "needs_background": "light"
     },
     "output_type": "display_data"
    }
   ],
   "source": [
    "plot_topk_ndcg(parsed)"
   ]
  },
  {
   "cell_type": "markdown",
   "metadata": {},
   "source": [
    "### Spatial Distribution"
   ]
  },
  {
   "cell_type": "code",
   "execution_count": 49,
   "metadata": {},
   "outputs": [
    {
     "data": {
      "text/html": [
       "<div>\n",
       "<style scoped>\n",
       "    .dataframe tbody tr th:only-of-type {\n",
       "        vertical-align: middle;\n",
       "    }\n",
       "\n",
       "    .dataframe tbody tr th {\n",
       "        vertical-align: top;\n",
       "    }\n",
       "\n",
       "    .dataframe thead th {\n",
       "        text-align: right;\n",
       "    }\n",
       "</style>\n",
       "<table border=\"1\" class=\"dataframe\">\n",
       "  <thead>\n",
       "    <tr style=\"text-align: right;\">\n",
       "      <th></th>\n",
       "      <th>Unnamed: 0</th>\n",
       "      <th>user_id</th>\n",
       "      <th>business_id</th>\n",
       "      <th>top_category</th>\n",
       "      <th>state</th>\n",
       "      <th>city</th>\n",
       "      <th>latitude</th>\n",
       "      <th>longitude</th>\n",
       "    </tr>\n",
       "  </thead>\n",
       "  <tbody>\n",
       "    <tr>\n",
       "      <th>0</th>\n",
       "      <td>0</td>\n",
       "      <td>hG7b0MtEbXx5QzbzE6C_VA</td>\n",
       "      <td>ujmEBvifdJM6h6RLv4wQIg</td>\n",
       "      <td>Active Life</td>\n",
       "      <td>NV</td>\n",
       "      <td>Las Vegas</td>\n",
       "      <td>36.215546</td>\n",
       "      <td>-115.248798</td>\n",
       "    </tr>\n",
       "    <tr>\n",
       "      <th>1</th>\n",
       "      <td>1</td>\n",
       "      <td>RBXSJA372ilErzNwz0jXvQ</td>\n",
       "      <td>ujmEBvifdJM6h6RLv4wQIg</td>\n",
       "      <td>Active Life</td>\n",
       "      <td>NV</td>\n",
       "      <td>Las Vegas</td>\n",
       "      <td>36.215546</td>\n",
       "      <td>-115.248798</td>\n",
       "    </tr>\n",
       "    <tr>\n",
       "      <th>2</th>\n",
       "      <td>2</td>\n",
       "      <td>x3brMMbJrAW9PwW5A6YL5w</td>\n",
       "      <td>ujmEBvifdJM6h6RLv4wQIg</td>\n",
       "      <td>Active Life</td>\n",
       "      <td>NV</td>\n",
       "      <td>Las Vegas</td>\n",
       "      <td>36.215546</td>\n",
       "      <td>-115.248798</td>\n",
       "    </tr>\n",
       "    <tr>\n",
       "      <th>3</th>\n",
       "      <td>3</td>\n",
       "      <td>Skzdl0sWhW88525a1vr59g</td>\n",
       "      <td>ujmEBvifdJM6h6RLv4wQIg</td>\n",
       "      <td>Active Life</td>\n",
       "      <td>NV</td>\n",
       "      <td>Las Vegas</td>\n",
       "      <td>36.215546</td>\n",
       "      <td>-115.248798</td>\n",
       "    </tr>\n",
       "    <tr>\n",
       "      <th>4</th>\n",
       "      <td>4</td>\n",
       "      <td>3Y25VDfnQVcuc33T-U3Z6A</td>\n",
       "      <td>ujmEBvifdJM6h6RLv4wQIg</td>\n",
       "      <td>Active Life</td>\n",
       "      <td>NV</td>\n",
       "      <td>Las Vegas</td>\n",
       "      <td>36.215546</td>\n",
       "      <td>-115.248798</td>\n",
       "    </tr>\n",
       "  </tbody>\n",
       "</table>\n",
       "</div>"
      ],
      "text/plain": [
       "   Unnamed: 0                 user_id             business_id top_category  \\\n",
       "0           0  hG7b0MtEbXx5QzbzE6C_VA  ujmEBvifdJM6h6RLv4wQIg  Active Life   \n",
       "1           1  RBXSJA372ilErzNwz0jXvQ  ujmEBvifdJM6h6RLv4wQIg  Active Life   \n",
       "2           2  x3brMMbJrAW9PwW5A6YL5w  ujmEBvifdJM6h6RLv4wQIg  Active Life   \n",
       "3           3  Skzdl0sWhW88525a1vr59g  ujmEBvifdJM6h6RLv4wQIg  Active Life   \n",
       "4           4  3Y25VDfnQVcuc33T-U3Z6A  ujmEBvifdJM6h6RLv4wQIg  Active Life   \n",
       "\n",
       "  state       city   latitude   longitude  \n",
       "0    NV  Las Vegas  36.215546 -115.248798  \n",
       "1    NV  Las Vegas  36.215546 -115.248798  \n",
       "2    NV  Las Vegas  36.215546 -115.248798  \n",
       "3    NV  Las Vegas  36.215546 -115.248798  \n",
       "4    NV  Las Vegas  36.215546 -115.248798  "
      ]
     },
     "execution_count": 49,
     "metadata": {},
     "output_type": "execute_result"
    }
   ],
   "source": [
    "spatial = pd.read_csv(\"~/data/yelp_dataset/tidy_data/sampled_edav_subset/full.csv\", sep = ',')\n",
    "spatial.head()"
   ]
  },
  {
   "cell_type": "code",
   "execution_count": 50,
   "metadata": {},
   "outputs": [
    {
     "data": {
      "text/html": [
       "<div>\n",
       "<style scoped>\n",
       "    .dataframe tbody tr th:only-of-type {\n",
       "        vertical-align: middle;\n",
       "    }\n",
       "\n",
       "    .dataframe tbody tr th {\n",
       "        vertical-align: top;\n",
       "    }\n",
       "\n",
       "    .dataframe thead th {\n",
       "        text-align: right;\n",
       "    }\n",
       "</style>\n",
       "<table border=\"1\" class=\"dataframe\">\n",
       "  <thead>\n",
       "    <tr style=\"text-align: right;\">\n",
       "      <th></th>\n",
       "      <th>state</th>\n",
       "      <th>top_category</th>\n",
       "      <th>business_id</th>\n",
       "      <th>user_id</th>\n",
       "    </tr>\n",
       "  </thead>\n",
       "  <tbody>\n",
       "    <tr>\n",
       "      <th>0</th>\n",
       "      <td>AB</td>\n",
       "      <td>Active Life</td>\n",
       "      <td>238</td>\n",
       "      <td>1201</td>\n",
       "    </tr>\n",
       "    <tr>\n",
       "      <th>1</th>\n",
       "      <td>AB</td>\n",
       "      <td>Arts &amp; Entertainment</td>\n",
       "      <td>220</td>\n",
       "      <td>1585</td>\n",
       "    </tr>\n",
       "    <tr>\n",
       "      <th>2</th>\n",
       "      <td>AB</td>\n",
       "      <td>Automotive</td>\n",
       "      <td>468</td>\n",
       "      <td>1954</td>\n",
       "    </tr>\n",
       "    <tr>\n",
       "      <th>3</th>\n",
       "      <td>AB</td>\n",
       "      <td>Beauty &amp; Spas</td>\n",
       "      <td>828</td>\n",
       "      <td>3620</td>\n",
       "    </tr>\n",
       "    <tr>\n",
       "      <th>4</th>\n",
       "      <td>AB</td>\n",
       "      <td>Education</td>\n",
       "      <td>78</td>\n",
       "      <td>395</td>\n",
       "    </tr>\n",
       "  </tbody>\n",
       "</table>\n",
       "</div>"
      ],
      "text/plain": [
       "  state          top_category  business_id  user_id\n",
       "0    AB           Active Life          238     1201\n",
       "1    AB  Arts & Entertainment          220     1585\n",
       "2    AB            Automotive          468     1954\n",
       "3    AB         Beauty & Spas          828     3620\n",
       "4    AB             Education           78      395"
      ]
     },
     "execution_count": 50,
     "metadata": {},
     "output_type": "execute_result"
    }
   ],
   "source": [
    "## get top category per state\n",
    "spatial_sub = spatial[['state', 'business_id', 'top_category','user_id']]\n",
    "spatial_sub = spatial_sub.set_index(['state', 'top_category'])\n",
    "info = spatial_sub.groupby(by = ['state', 'top_category']).nunique()\n",
    "info = info.reset_index()\n",
    "info.head()"
   ]
  },
  {
   "cell_type": "code",
   "execution_count": 51,
   "metadata": {},
   "outputs": [
    {
     "data": {
      "text/html": [
       "<div>\n",
       "<style scoped>\n",
       "    .dataframe tbody tr th:only-of-type {\n",
       "        vertical-align: middle;\n",
       "    }\n",
       "\n",
       "    .dataframe tbody tr th {\n",
       "        vertical-align: top;\n",
       "    }\n",
       "\n",
       "    .dataframe thead th {\n",
       "        text-align: right;\n",
       "    }\n",
       "</style>\n",
       "<table border=\"1\" class=\"dataframe\">\n",
       "  <thead>\n",
       "    <tr style=\"text-align: right;\">\n",
       "      <th></th>\n",
       "      <th>state</th>\n",
       "      <th>top_category</th>\n",
       "    </tr>\n",
       "  </thead>\n",
       "  <tbody>\n",
       "    <tr>\n",
       "      <th>0</th>\n",
       "      <td>AB</td>\n",
       "      <td>Restaurants</td>\n",
       "    </tr>\n",
       "    <tr>\n",
       "      <th>1</th>\n",
       "      <td>AK</td>\n",
       "      <td>Education</td>\n",
       "    </tr>\n",
       "    <tr>\n",
       "      <th>2</th>\n",
       "      <td>AK</td>\n",
       "      <td>Nightlife</td>\n",
       "    </tr>\n",
       "    <tr>\n",
       "      <th>3</th>\n",
       "      <td>AL</td>\n",
       "      <td>Food</td>\n",
       "    </tr>\n",
       "    <tr>\n",
       "      <th>4</th>\n",
       "      <td>AR</td>\n",
       "      <td>Food</td>\n",
       "    </tr>\n",
       "  </tbody>\n",
       "</table>\n",
       "</div>"
      ],
      "text/plain": [
       "  state top_category\n",
       "0    AB  Restaurants\n",
       "1    AK    Education\n",
       "2    AK    Nightlife\n",
       "3    AL         Food\n",
       "4    AR         Food"
      ]
     },
     "execution_count": 51,
     "metadata": {},
     "output_type": "execute_result"
    }
   ],
   "source": [
    "key = pd.DataFrame(info.groupby(['state'], sort=False)['business_id'].max())\n",
    "key.reset_index()\n",
    "info_gettop = info.merge(key, how='inner', on=['state', 'business_id'])\n",
    "info_gettop = info_gettop[['state', 'top_category']]\n",
    "info_gettop.head()"
   ]
  },
  {
   "cell_type": "code",
   "execution_count": 52,
   "metadata": {},
   "outputs": [
    {
     "name": "stderr",
     "output_type": "stream",
     "text": [
      "/opt/anaconda3/envs/Spark/lib/python3.6/site-packages/ipykernel_launcher.py:3: SettingWithCopyWarning:\n",
      "\n",
      "\n",
      "A value is trying to be set on a copy of a slice from a DataFrame.\n",
      "Try using .loc[row_indexer,col_indexer] = value instead\n",
      "\n",
      "See the caveats in the documentation: http://pandas.pydata.org/pandas-docs/stable/user_guide/indexing.html#returning-a-view-versus-a-copy\n",
      "\n"
     ]
    },
    {
     "data": {
      "text/html": [
       "<div>\n",
       "<style scoped>\n",
       "    .dataframe tbody tr th:only-of-type {\n",
       "        vertical-align: middle;\n",
       "    }\n",
       "\n",
       "    .dataframe tbody tr th {\n",
       "        vertical-align: top;\n",
       "    }\n",
       "\n",
       "    .dataframe thead th {\n",
       "        text-align: right;\n",
       "    }\n",
       "</style>\n",
       "<table border=\"1\" class=\"dataframe\">\n",
       "  <thead>\n",
       "    <tr style=\"text-align: right;\">\n",
       "      <th></th>\n",
       "      <th>state</th>\n",
       "      <th>business_id</th>\n",
       "      <th>user_id</th>\n",
       "      <th>biz_user_pair</th>\n",
       "      <th>topCat</th>\n",
       "    </tr>\n",
       "  </thead>\n",
       "  <tbody>\n",
       "    <tr>\n",
       "      <th>0</th>\n",
       "      <td>AB</td>\n",
       "      <td>7998</td>\n",
       "      <td>24997</td>\n",
       "      <td>96763</td>\n",
       "      <td>Restaurants</td>\n",
       "    </tr>\n",
       "    <tr>\n",
       "      <th>1</th>\n",
       "      <td>AK</td>\n",
       "      <td>2</td>\n",
       "      <td>7</td>\n",
       "      <td>7</td>\n",
       "      <td>Education</td>\n",
       "    </tr>\n",
       "    <tr>\n",
       "      <th>2</th>\n",
       "      <td>AK</td>\n",
       "      <td>2</td>\n",
       "      <td>7</td>\n",
       "      <td>7</td>\n",
       "      <td>Nightlife</td>\n",
       "    </tr>\n",
       "    <tr>\n",
       "      <th>3</th>\n",
       "      <td>AL</td>\n",
       "      <td>3</td>\n",
       "      <td>12</td>\n",
       "      <td>12</td>\n",
       "      <td>Food</td>\n",
       "    </tr>\n",
       "    <tr>\n",
       "      <th>4</th>\n",
       "      <td>AR</td>\n",
       "      <td>1</td>\n",
       "      <td>7</td>\n",
       "      <td>7</td>\n",
       "      <td>Food</td>\n",
       "    </tr>\n",
       "  </tbody>\n",
       "</table>\n",
       "</div>"
      ],
      "text/plain": [
       "  state  business_id  user_id  biz_user_pair       topCat\n",
       "0    AB         7998    24997          96763  Restaurants\n",
       "1    AK            2        7              7    Education\n",
       "2    AK            2        7              7    Nightlife\n",
       "3    AL            3       12             12         Food\n",
       "4    AR            1        7              7         Food"
      ]
     },
     "execution_count": 52,
     "metadata": {},
     "output_type": "execute_result"
    }
   ],
   "source": [
    "spatial_sub2 = spatial[['state', 'business_id','user_id']]\n",
    "concat = list(spatial_sub2['business_id']+spatial_sub2['user_id'])\n",
    "spatial_sub2['biz_user_pair'] = concat\n",
    "# spatial_sub2\n",
    "spatial_sub2 = spatial_sub2.set_index(['state'])\n",
    "info2 = spatial_sub2.groupby(by = ['state']).nunique()\n",
    "info2 = info2.reset_index()\n",
    "info2.head()\n",
    "\n",
    "info_getall = info2.merge(info_gettop, how = 'left', on = 'state').rename(columns = {'top_category':'topCat'})\n",
    "info_getall.head()"
   ]
  },
  {
   "cell_type": "code",
   "execution_count": 53,
   "metadata": {},
   "outputs": [
    {
     "data": {
      "application/vnd.plotly.v1+json": {
       "config": {
        "plotlyServerURL": "https://plot.ly"
       },
       "data": [
        {
         "colorbar": {
          "title": {
           "text": "Review Count"
          }
         },
         "colorscale": [
          [
           0,
           "rgb(255,245,240)"
          ],
          [
           0.125,
           "rgb(254,224,210)"
          ],
          [
           0.25,
           "rgb(252,187,161)"
          ],
          [
           0.375,
           "rgb(252,146,114)"
          ],
          [
           0.5,
           "rgb(251,106,74)"
          ],
          [
           0.625,
           "rgb(239,59,44)"
          ],
          [
           0.75,
           "rgb(203,24,29)"
          ],
          [
           0.875,
           "rgb(165,15,21)"
          ],
          [
           1,
           "rgb(103,0,13)"
          ]
         ],
         "locationmode": "USA-states",
         "locations": [
          "AB",
          "AK",
          "AK",
          "AL",
          "AR",
          "AZ",
          "BAS",
          "BC",
          "CA",
          "CON",
          "CT",
          "DOW",
          "DUR",
          "FL",
          "FL",
          "FL",
          "FL",
          "GA",
          "GA",
          "IL",
          "NC",
          "NE",
          "NE",
          "NJ",
          "NM",
          "NV",
          "NY",
          "OH",
          "ON",
          "PA",
          "QC",
          "SC",
          "TN",
          "TX",
          "UT",
          "VA",
          "VA",
          "VT",
          "VT",
          "WA",
          "WA",
          "WA",
          "WI",
          "XGL",
          "XGM",
          "XGM",
          "XGM",
          "XGM",
          "XWY",
          "XWY"
         ],
         "marker": {
          "line": {
           "color": "white"
          }
         },
         "text": [
          "AB<br>User Count: 24997<br>Business Count: 7998<br>Mostly Reviewed Category: Restaurants",
          "AK<br>User Count: 7<br>Business Count: 2<br>Mostly Reviewed Category: Education",
          "AK<br>User Count: 7<br>Business Count: 2<br>Mostly Reviewed Category: Nightlife",
          "AL<br>User Count: 12<br>Business Count: 3<br>Mostly Reviewed Category: Food",
          "AR<br>User Count: 7<br>Business Count: 1<br>Mostly Reviewed Category: Food",
          "AZ<br>User Count: 506350<br>Business Count: 56518<br>Mostly Reviewed Category: Restaurants",
          "BAS<br>User Count: 4<br>Business Count: 1<br>Mostly Reviewed Category: Food",
          "BC<br>User Count: 3<br>Business Count: 1<br>Mostly Reviewed Category: Restaurants",
          "CA<br>User Count: 247<br>Business Count: 19<br>Mostly Reviewed Category: Beauty & Spas",
          "CON<br>User Count: 3<br>Business Count: 1<br>Mostly Reviewed Category: Restaurants",
          "CT<br>User Count: 16<br>Business Count: 3<br>Mostly Reviewed Category: Shopping",
          "DOW<br>User Count: 4<br>Business Count: 1<br>Mostly Reviewed Category: Arts & Entertainment",
          "DUR<br>User Count: 3<br>Business Count: 1<br>Mostly Reviewed Category: Professional Services",
          "FL<br>User Count: 698<br>Business Count: 4<br>Mostly Reviewed Category: Automotive",
          "FL<br>User Count: 698<br>Business Count: 4<br>Mostly Reviewed Category: Financial Services",
          "FL<br>User Count: 698<br>Business Count: 4<br>Mostly Reviewed Category: Hotels & Travel",
          "FL<br>User Count: 698<br>Business Count: 4<br>Mostly Reviewed Category: Restaurants",
          "GA<br>User Count: 14<br>Business Count: 2<br>Mostly Reviewed Category: Home Services",
          "GA<br>User Count: 14<br>Business Count: 2<br>Mostly Reviewed Category: Local Services",
          "IL<br>User Count: 14646<br>Business Count: 1927<br>Mostly Reviewed Category: Restaurants",
          "NC<br>User Count: 117785<br>Business Count: 14683<br>Mostly Reviewed Category: Restaurants",
          "NE<br>User Count: 12<br>Business Count: 2<br>Mostly Reviewed Category: Food",
          "NE<br>User Count: 12<br>Business Count: 2<br>Mostly Reviewed Category: Professional Services",
          "NJ<br>User Count: 8<br>Business Count: 1<br>Mostly Reviewed Category: Pets",
          "NM<br>User Count: 14<br>Business Count: 1<br>Mostly Reviewed Category: Food",
          "NV<br>User Count: 664444<br>Business Count: 36212<br>Mostly Reviewed Category: Restaurants",
          "NY<br>User Count: 257<br>Business Count: 22<br>Mostly Reviewed Category: Restaurants",
          "OH<br>User Count: 92553<br>Business Count: 14665<br>Mostly Reviewed Category: Restaurants",
          "ON<br>User Count: 148458<br>Business Count: 33342<br>Mostly Reviewed Category: Restaurants",
          "PA<br>User Count: 83087<br>Business Count: 11197<br>Mostly Reviewed Category: Restaurants",
          "QC<br>User Count: 52712<br>Business Count: 9189<br>Mostly Reviewed Category: Restaurants",
          "SC<br>User Count: 10540<br>Business Count: 1159<br>Mostly Reviewed Category: Restaurants",
          "TN<br>User Count: 3<br>Business Count: 1<br>Mostly Reviewed Category: Home Services",
          "TX<br>User Count: 1052<br>Business Count: 6<br>Mostly Reviewed Category: Beauty & Spas",
          "UT<br>User Count: 4<br>Business Count: 1<br>Mostly Reviewed Category: Home Services",
          "VA<br>User Count: 16<br>Business Count: 2<br>Mostly Reviewed Category: Beauty & Spas",
          "VA<br>User Count: 16<br>Business Count: 2<br>Mostly Reviewed Category: Event Planning & Services",
          "VT<br>User Count: 8<br>Business Count: 2<br>Mostly Reviewed Category: Event Planning & Services",
          "VT<br>User Count: 8<br>Business Count: 2<br>Mostly Reviewed Category: Home Services",
          "WA<br>User Count: 19<br>Business Count: 3<br>Mostly Reviewed Category: Food",
          "WA<br>User Count: 19<br>Business Count: 3<br>Mostly Reviewed Category: Home Services",
          "WA<br>User Count: 19<br>Business Count: 3<br>Mostly Reviewed Category: Shopping",
          "WI<br>User Count: 38765<br>Business Count: 5147<br>Mostly Reviewed Category: Restaurants",
          "XGL<br>User Count: 3<br>Business Count: 1<br>Mostly Reviewed Category: Food",
          "XGM<br>User Count: 13<br>Business Count: 4<br>Mostly Reviewed Category: Food",
          "XGM<br>User Count: 13<br>Business Count: 4<br>Mostly Reviewed Category: Home Services",
          "XGM<br>User Count: 13<br>Business Count: 4<br>Mostly Reviewed Category: Restaurants",
          "XGM<br>User Count: 13<br>Business Count: 4<br>Mostly Reviewed Category: Shopping",
          "XWY<br>User Count: 8<br>Business Count: 2<br>Mostly Reviewed Category: Food",
          "XWY<br>User Count: 8<br>Business Count: 2<br>Mostly Reviewed Category: Restaurants"
         ],
         "type": "choropleth",
         "z": [
          96763,
          7,
          7,
          12,
          7,
          2002827,
          4,
          3,
          247,
          3,
          16,
          4,
          3,
          698,
          698,
          698,
          698,
          14,
          14,
          41002,
          394395,
          12,
          12,
          8,
          14,
          2243520,
          273,
          310495,
          760969,
          281122,
          175683,
          20458,
          3,
          1052,
          4,
          16,
          16,
          8,
          8,
          19,
          19,
          19,
          129604,
          3,
          13,
          13,
          13,
          13,
          8,
          8
         ]
        }
       ],
       "layout": {
        "geo": {
         "scope": "usa"
        },
        "template": {
         "data": {
          "bar": [
           {
            "error_x": {
             "color": "#2a3f5f"
            },
            "error_y": {
             "color": "#2a3f5f"
            },
            "marker": {
             "line": {
              "color": "#E5ECF6",
              "width": 0.5
             }
            },
            "type": "bar"
           }
          ],
          "barpolar": [
           {
            "marker": {
             "line": {
              "color": "#E5ECF6",
              "width": 0.5
             }
            },
            "type": "barpolar"
           }
          ],
          "carpet": [
           {
            "aaxis": {
             "endlinecolor": "#2a3f5f",
             "gridcolor": "white",
             "linecolor": "white",
             "minorgridcolor": "white",
             "startlinecolor": "#2a3f5f"
            },
            "baxis": {
             "endlinecolor": "#2a3f5f",
             "gridcolor": "white",
             "linecolor": "white",
             "minorgridcolor": "white",
             "startlinecolor": "#2a3f5f"
            },
            "type": "carpet"
           }
          ],
          "choropleth": [
           {
            "colorbar": {
             "outlinewidth": 0,
             "ticks": ""
            },
            "type": "choropleth"
           }
          ],
          "contour": [
           {
            "colorbar": {
             "outlinewidth": 0,
             "ticks": ""
            },
            "colorscale": [
             [
              0,
              "#0d0887"
             ],
             [
              0.1111111111111111,
              "#46039f"
             ],
             [
              0.2222222222222222,
              "#7201a8"
             ],
             [
              0.3333333333333333,
              "#9c179e"
             ],
             [
              0.4444444444444444,
              "#bd3786"
             ],
             [
              0.5555555555555556,
              "#d8576b"
             ],
             [
              0.6666666666666666,
              "#ed7953"
             ],
             [
              0.7777777777777778,
              "#fb9f3a"
             ],
             [
              0.8888888888888888,
              "#fdca26"
             ],
             [
              1,
              "#f0f921"
             ]
            ],
            "type": "contour"
           }
          ],
          "contourcarpet": [
           {
            "colorbar": {
             "outlinewidth": 0,
             "ticks": ""
            },
            "type": "contourcarpet"
           }
          ],
          "heatmap": [
           {
            "colorbar": {
             "outlinewidth": 0,
             "ticks": ""
            },
            "colorscale": [
             [
              0,
              "#0d0887"
             ],
             [
              0.1111111111111111,
              "#46039f"
             ],
             [
              0.2222222222222222,
              "#7201a8"
             ],
             [
              0.3333333333333333,
              "#9c179e"
             ],
             [
              0.4444444444444444,
              "#bd3786"
             ],
             [
              0.5555555555555556,
              "#d8576b"
             ],
             [
              0.6666666666666666,
              "#ed7953"
             ],
             [
              0.7777777777777778,
              "#fb9f3a"
             ],
             [
              0.8888888888888888,
              "#fdca26"
             ],
             [
              1,
              "#f0f921"
             ]
            ],
            "type": "heatmap"
           }
          ],
          "heatmapgl": [
           {
            "colorbar": {
             "outlinewidth": 0,
             "ticks": ""
            },
            "colorscale": [
             [
              0,
              "#0d0887"
             ],
             [
              0.1111111111111111,
              "#46039f"
             ],
             [
              0.2222222222222222,
              "#7201a8"
             ],
             [
              0.3333333333333333,
              "#9c179e"
             ],
             [
              0.4444444444444444,
              "#bd3786"
             ],
             [
              0.5555555555555556,
              "#d8576b"
             ],
             [
              0.6666666666666666,
              "#ed7953"
             ],
             [
              0.7777777777777778,
              "#fb9f3a"
             ],
             [
              0.8888888888888888,
              "#fdca26"
             ],
             [
              1,
              "#f0f921"
             ]
            ],
            "type": "heatmapgl"
           }
          ],
          "histogram": [
           {
            "marker": {
             "colorbar": {
              "outlinewidth": 0,
              "ticks": ""
             }
            },
            "type": "histogram"
           }
          ],
          "histogram2d": [
           {
            "colorbar": {
             "outlinewidth": 0,
             "ticks": ""
            },
            "colorscale": [
             [
              0,
              "#0d0887"
             ],
             [
              0.1111111111111111,
              "#46039f"
             ],
             [
              0.2222222222222222,
              "#7201a8"
             ],
             [
              0.3333333333333333,
              "#9c179e"
             ],
             [
              0.4444444444444444,
              "#bd3786"
             ],
             [
              0.5555555555555556,
              "#d8576b"
             ],
             [
              0.6666666666666666,
              "#ed7953"
             ],
             [
              0.7777777777777778,
              "#fb9f3a"
             ],
             [
              0.8888888888888888,
              "#fdca26"
             ],
             [
              1,
              "#f0f921"
             ]
            ],
            "type": "histogram2d"
           }
          ],
          "histogram2dcontour": [
           {
            "colorbar": {
             "outlinewidth": 0,
             "ticks": ""
            },
            "colorscale": [
             [
              0,
              "#0d0887"
             ],
             [
              0.1111111111111111,
              "#46039f"
             ],
             [
              0.2222222222222222,
              "#7201a8"
             ],
             [
              0.3333333333333333,
              "#9c179e"
             ],
             [
              0.4444444444444444,
              "#bd3786"
             ],
             [
              0.5555555555555556,
              "#d8576b"
             ],
             [
              0.6666666666666666,
              "#ed7953"
             ],
             [
              0.7777777777777778,
              "#fb9f3a"
             ],
             [
              0.8888888888888888,
              "#fdca26"
             ],
             [
              1,
              "#f0f921"
             ]
            ],
            "type": "histogram2dcontour"
           }
          ],
          "mesh3d": [
           {
            "colorbar": {
             "outlinewidth": 0,
             "ticks": ""
            },
            "type": "mesh3d"
           }
          ],
          "parcoords": [
           {
            "line": {
             "colorbar": {
              "outlinewidth": 0,
              "ticks": ""
             }
            },
            "type": "parcoords"
           }
          ],
          "pie": [
           {
            "automargin": true,
            "type": "pie"
           }
          ],
          "scatter": [
           {
            "marker": {
             "colorbar": {
              "outlinewidth": 0,
              "ticks": ""
             }
            },
            "type": "scatter"
           }
          ],
          "scatter3d": [
           {
            "line": {
             "colorbar": {
              "outlinewidth": 0,
              "ticks": ""
             }
            },
            "marker": {
             "colorbar": {
              "outlinewidth": 0,
              "ticks": ""
             }
            },
            "type": "scatter3d"
           }
          ],
          "scattercarpet": [
           {
            "marker": {
             "colorbar": {
              "outlinewidth": 0,
              "ticks": ""
             }
            },
            "type": "scattercarpet"
           }
          ],
          "scattergeo": [
           {
            "marker": {
             "colorbar": {
              "outlinewidth": 0,
              "ticks": ""
             }
            },
            "type": "scattergeo"
           }
          ],
          "scattergl": [
           {
            "marker": {
             "colorbar": {
              "outlinewidth": 0,
              "ticks": ""
             }
            },
            "type": "scattergl"
           }
          ],
          "scattermapbox": [
           {
            "marker": {
             "colorbar": {
              "outlinewidth": 0,
              "ticks": ""
             }
            },
            "type": "scattermapbox"
           }
          ],
          "scatterpolar": [
           {
            "marker": {
             "colorbar": {
              "outlinewidth": 0,
              "ticks": ""
             }
            },
            "type": "scatterpolar"
           }
          ],
          "scatterpolargl": [
           {
            "marker": {
             "colorbar": {
              "outlinewidth": 0,
              "ticks": ""
             }
            },
            "type": "scatterpolargl"
           }
          ],
          "scatterternary": [
           {
            "marker": {
             "colorbar": {
              "outlinewidth": 0,
              "ticks": ""
             }
            },
            "type": "scatterternary"
           }
          ],
          "surface": [
           {
            "colorbar": {
             "outlinewidth": 0,
             "ticks": ""
            },
            "colorscale": [
             [
              0,
              "#0d0887"
             ],
             [
              0.1111111111111111,
              "#46039f"
             ],
             [
              0.2222222222222222,
              "#7201a8"
             ],
             [
              0.3333333333333333,
              "#9c179e"
             ],
             [
              0.4444444444444444,
              "#bd3786"
             ],
             [
              0.5555555555555556,
              "#d8576b"
             ],
             [
              0.6666666666666666,
              "#ed7953"
             ],
             [
              0.7777777777777778,
              "#fb9f3a"
             ],
             [
              0.8888888888888888,
              "#fdca26"
             ],
             [
              1,
              "#f0f921"
             ]
            ],
            "type": "surface"
           }
          ],
          "table": [
           {
            "cells": {
             "fill": {
              "color": "#EBF0F8"
             },
             "line": {
              "color": "white"
             }
            },
            "header": {
             "fill": {
              "color": "#C8D4E3"
             },
             "line": {
              "color": "white"
             }
            },
            "type": "table"
           }
          ]
         },
         "layout": {
          "annotationdefaults": {
           "arrowcolor": "#2a3f5f",
           "arrowhead": 0,
           "arrowwidth": 1
          },
          "coloraxis": {
           "colorbar": {
            "outlinewidth": 0,
            "ticks": ""
           }
          },
          "colorscale": {
           "diverging": [
            [
             0,
             "#8e0152"
            ],
            [
             0.1,
             "#c51b7d"
            ],
            [
             0.2,
             "#de77ae"
            ],
            [
             0.3,
             "#f1b6da"
            ],
            [
             0.4,
             "#fde0ef"
            ],
            [
             0.5,
             "#f7f7f7"
            ],
            [
             0.6,
             "#e6f5d0"
            ],
            [
             0.7,
             "#b8e186"
            ],
            [
             0.8,
             "#7fbc41"
            ],
            [
             0.9,
             "#4d9221"
            ],
            [
             1,
             "#276419"
            ]
           ],
           "sequential": [
            [
             0,
             "#0d0887"
            ],
            [
             0.1111111111111111,
             "#46039f"
            ],
            [
             0.2222222222222222,
             "#7201a8"
            ],
            [
             0.3333333333333333,
             "#9c179e"
            ],
            [
             0.4444444444444444,
             "#bd3786"
            ],
            [
             0.5555555555555556,
             "#d8576b"
            ],
            [
             0.6666666666666666,
             "#ed7953"
            ],
            [
             0.7777777777777778,
             "#fb9f3a"
            ],
            [
             0.8888888888888888,
             "#fdca26"
            ],
            [
             1,
             "#f0f921"
            ]
           ],
           "sequentialminus": [
            [
             0,
             "#0d0887"
            ],
            [
             0.1111111111111111,
             "#46039f"
            ],
            [
             0.2222222222222222,
             "#7201a8"
            ],
            [
             0.3333333333333333,
             "#9c179e"
            ],
            [
             0.4444444444444444,
             "#bd3786"
            ],
            [
             0.5555555555555556,
             "#d8576b"
            ],
            [
             0.6666666666666666,
             "#ed7953"
            ],
            [
             0.7777777777777778,
             "#fb9f3a"
            ],
            [
             0.8888888888888888,
             "#fdca26"
            ],
            [
             1,
             "#f0f921"
            ]
           ]
          },
          "colorway": [
           "#636efa",
           "#EF553B",
           "#00cc96",
           "#ab63fa",
           "#FFA15A",
           "#19d3f3",
           "#FF6692",
           "#B6E880",
           "#FF97FF",
           "#FECB52"
          ],
          "font": {
           "color": "#2a3f5f"
          },
          "geo": {
           "bgcolor": "white",
           "lakecolor": "white",
           "landcolor": "#E5ECF6",
           "showlakes": true,
           "showland": true,
           "subunitcolor": "white"
          },
          "hoverlabel": {
           "align": "left"
          },
          "hovermode": "closest",
          "mapbox": {
           "style": "light"
          },
          "paper_bgcolor": "white",
          "plot_bgcolor": "#E5ECF6",
          "polar": {
           "angularaxis": {
            "gridcolor": "white",
            "linecolor": "white",
            "ticks": ""
           },
           "bgcolor": "#E5ECF6",
           "radialaxis": {
            "gridcolor": "white",
            "linecolor": "white",
            "ticks": ""
           }
          },
          "scene": {
           "xaxis": {
            "backgroundcolor": "#E5ECF6",
            "gridcolor": "white",
            "gridwidth": 2,
            "linecolor": "white",
            "showbackground": true,
            "ticks": "",
            "zerolinecolor": "white"
           },
           "yaxis": {
            "backgroundcolor": "#E5ECF6",
            "gridcolor": "white",
            "gridwidth": 2,
            "linecolor": "white",
            "showbackground": true,
            "ticks": "",
            "zerolinecolor": "white"
           },
           "zaxis": {
            "backgroundcolor": "#E5ECF6",
            "gridcolor": "white",
            "gridwidth": 2,
            "linecolor": "white",
            "showbackground": true,
            "ticks": "",
            "zerolinecolor": "white"
           }
          },
          "shapedefaults": {
           "line": {
            "color": "#2a3f5f"
           }
          },
          "ternary": {
           "aaxis": {
            "gridcolor": "white",
            "linecolor": "white",
            "ticks": ""
           },
           "baxis": {
            "gridcolor": "white",
            "linecolor": "white",
            "ticks": ""
           },
           "bgcolor": "#E5ECF6",
           "caxis": {
            "gridcolor": "white",
            "linecolor": "white",
            "ticks": ""
           }
          },
          "title": {
           "x": 0.05
          },
          "xaxis": {
           "automargin": true,
           "gridcolor": "white",
           "linecolor": "white",
           "ticks": "",
           "title": {
            "standoff": 15
           },
           "zerolinecolor": "white",
           "zerolinewidth": 2
          },
          "yaxis": {
           "automargin": true,
           "gridcolor": "white",
           "linecolor": "white",
           "ticks": "",
           "title": {
            "standoff": 15
           },
           "zerolinecolor": "white",
           "zerolinewidth": 2
          }
         }
        },
        "title": {
         "text": "Spatial Distribution of Reviews"
        }
       }
      },
      "text/html": [
       "<div>\n",
       "        \n",
       "        \n",
       "            <div id=\"fac32b63-86be-4c2d-948b-ca635a045e42\" class=\"plotly-graph-div\" style=\"height:525px; width:100%;\"></div>\n",
       "            <script type=\"text/javascript\">\n",
       "                require([\"plotly\"], function(Plotly) {\n",
       "                    window.PLOTLYENV=window.PLOTLYENV || {};\n",
       "                    \n",
       "                if (document.getElementById(\"fac32b63-86be-4c2d-948b-ca635a045e42\")) {\n",
       "                    Plotly.newPlot(\n",
       "                        'fac32b63-86be-4c2d-948b-ca635a045e42',\n",
       "                        [{\"colorbar\": {\"title\": {\"text\": \"Review Count\"}}, \"colorscale\": [[0.0, \"rgb(255,245,240)\"], [0.125, \"rgb(254,224,210)\"], [0.25, \"rgb(252,187,161)\"], [0.375, \"rgb(252,146,114)\"], [0.5, \"rgb(251,106,74)\"], [0.625, \"rgb(239,59,44)\"], [0.75, \"rgb(203,24,29)\"], [0.875, \"rgb(165,15,21)\"], [1.0, \"rgb(103,0,13)\"]], \"locationmode\": \"USA-states\", \"locations\": [\"AB\", \"AK\", \"AK\", \"AL\", \"AR\", \"AZ\", \"BAS\", \"BC\", \"CA\", \"CON\", \"CT\", \"DOW\", \"DUR\", \"FL\", \"FL\", \"FL\", \"FL\", \"GA\", \"GA\", \"IL\", \"NC\", \"NE\", \"NE\", \"NJ\", \"NM\", \"NV\", \"NY\", \"OH\", \"ON\", \"PA\", \"QC\", \"SC\", \"TN\", \"TX\", \"UT\", \"VA\", \"VA\", \"VT\", \"VT\", \"WA\", \"WA\", \"WA\", \"WI\", \"XGL\", \"XGM\", \"XGM\", \"XGM\", \"XGM\", \"XWY\", \"XWY\"], \"marker\": {\"line\": {\"color\": \"white\"}}, \"text\": [\"AB<br>User Count: 24997<br>Business Count: 7998<br>Mostly Reviewed Category: Restaurants\", \"AK<br>User Count: 7<br>Business Count: 2<br>Mostly Reviewed Category: Education\", \"AK<br>User Count: 7<br>Business Count: 2<br>Mostly Reviewed Category: Nightlife\", \"AL<br>User Count: 12<br>Business Count: 3<br>Mostly Reviewed Category: Food\", \"AR<br>User Count: 7<br>Business Count: 1<br>Mostly Reviewed Category: Food\", \"AZ<br>User Count: 506350<br>Business Count: 56518<br>Mostly Reviewed Category: Restaurants\", \"BAS<br>User Count: 4<br>Business Count: 1<br>Mostly Reviewed Category: Food\", \"BC<br>User Count: 3<br>Business Count: 1<br>Mostly Reviewed Category: Restaurants\", \"CA<br>User Count: 247<br>Business Count: 19<br>Mostly Reviewed Category: Beauty & Spas\", \"CON<br>User Count: 3<br>Business Count: 1<br>Mostly Reviewed Category: Restaurants\", \"CT<br>User Count: 16<br>Business Count: 3<br>Mostly Reviewed Category: Shopping\", \"DOW<br>User Count: 4<br>Business Count: 1<br>Mostly Reviewed Category: Arts & Entertainment\", \"DUR<br>User Count: 3<br>Business Count: 1<br>Mostly Reviewed Category: Professional Services\", \"FL<br>User Count: 698<br>Business Count: 4<br>Mostly Reviewed Category: Automotive\", \"FL<br>User Count: 698<br>Business Count: 4<br>Mostly Reviewed Category: Financial Services\", \"FL<br>User Count: 698<br>Business Count: 4<br>Mostly Reviewed Category: Hotels & Travel\", \"FL<br>User Count: 698<br>Business Count: 4<br>Mostly Reviewed Category: Restaurants\", \"GA<br>User Count: 14<br>Business Count: 2<br>Mostly Reviewed Category: Home Services\", \"GA<br>User Count: 14<br>Business Count: 2<br>Mostly Reviewed Category: Local Services\", \"IL<br>User Count: 14646<br>Business Count: 1927<br>Mostly Reviewed Category: Restaurants\", \"NC<br>User Count: 117785<br>Business Count: 14683<br>Mostly Reviewed Category: Restaurants\", \"NE<br>User Count: 12<br>Business Count: 2<br>Mostly Reviewed Category: Food\", \"NE<br>User Count: 12<br>Business Count: 2<br>Mostly Reviewed Category: Professional Services\", \"NJ<br>User Count: 8<br>Business Count: 1<br>Mostly Reviewed Category: Pets\", \"NM<br>User Count: 14<br>Business Count: 1<br>Mostly Reviewed Category: Food\", \"NV<br>User Count: 664444<br>Business Count: 36212<br>Mostly Reviewed Category: Restaurants\", \"NY<br>User Count: 257<br>Business Count: 22<br>Mostly Reviewed Category: Restaurants\", \"OH<br>User Count: 92553<br>Business Count: 14665<br>Mostly Reviewed Category: Restaurants\", \"ON<br>User Count: 148458<br>Business Count: 33342<br>Mostly Reviewed Category: Restaurants\", \"PA<br>User Count: 83087<br>Business Count: 11197<br>Mostly Reviewed Category: Restaurants\", \"QC<br>User Count: 52712<br>Business Count: 9189<br>Mostly Reviewed Category: Restaurants\", \"SC<br>User Count: 10540<br>Business Count: 1159<br>Mostly Reviewed Category: Restaurants\", \"TN<br>User Count: 3<br>Business Count: 1<br>Mostly Reviewed Category: Home Services\", \"TX<br>User Count: 1052<br>Business Count: 6<br>Mostly Reviewed Category: Beauty & Spas\", \"UT<br>User Count: 4<br>Business Count: 1<br>Mostly Reviewed Category: Home Services\", \"VA<br>User Count: 16<br>Business Count: 2<br>Mostly Reviewed Category: Beauty & Spas\", \"VA<br>User Count: 16<br>Business Count: 2<br>Mostly Reviewed Category: Event Planning & Services\", \"VT<br>User Count: 8<br>Business Count: 2<br>Mostly Reviewed Category: Event Planning & Services\", \"VT<br>User Count: 8<br>Business Count: 2<br>Mostly Reviewed Category: Home Services\", \"WA<br>User Count: 19<br>Business Count: 3<br>Mostly Reviewed Category: Food\", \"WA<br>User Count: 19<br>Business Count: 3<br>Mostly Reviewed Category: Home Services\", \"WA<br>User Count: 19<br>Business Count: 3<br>Mostly Reviewed Category: Shopping\", \"WI<br>User Count: 38765<br>Business Count: 5147<br>Mostly Reviewed Category: Restaurants\", \"XGL<br>User Count: 3<br>Business Count: 1<br>Mostly Reviewed Category: Food\", \"XGM<br>User Count: 13<br>Business Count: 4<br>Mostly Reviewed Category: Food\", \"XGM<br>User Count: 13<br>Business Count: 4<br>Mostly Reviewed Category: Home Services\", \"XGM<br>User Count: 13<br>Business Count: 4<br>Mostly Reviewed Category: Restaurants\", \"XGM<br>User Count: 13<br>Business Count: 4<br>Mostly Reviewed Category: Shopping\", \"XWY<br>User Count: 8<br>Business Count: 2<br>Mostly Reviewed Category: Food\", \"XWY<br>User Count: 8<br>Business Count: 2<br>Mostly Reviewed Category: Restaurants\"], \"type\": \"choropleth\", \"z\": [96763.0, 7.0, 7.0, 12.0, 7.0, 2002827.0, 4.0, 3.0, 247.0, 3.0, 16.0, 4.0, 3.0, 698.0, 698.0, 698.0, 698.0, 14.0, 14.0, 41002.0, 394395.0, 12.0, 12.0, 8.0, 14.0, 2243520.0, 273.0, 310495.0, 760969.0, 281122.0, 175683.0, 20458.0, 3.0, 1052.0, 4.0, 16.0, 16.0, 8.0, 8.0, 19.0, 19.0, 19.0, 129604.0, 3.0, 13.0, 13.0, 13.0, 13.0, 8.0, 8.0]}],\n",
       "                        {\"geo\": {\"scope\": \"usa\"}, \"template\": {\"data\": {\"bar\": [{\"error_x\": {\"color\": \"#2a3f5f\"}, \"error_y\": {\"color\": \"#2a3f5f\"}, \"marker\": {\"line\": {\"color\": \"#E5ECF6\", \"width\": 0.5}}, \"type\": \"bar\"}], \"barpolar\": [{\"marker\": {\"line\": {\"color\": \"#E5ECF6\", \"width\": 0.5}}, \"type\": \"barpolar\"}], \"carpet\": [{\"aaxis\": {\"endlinecolor\": \"#2a3f5f\", \"gridcolor\": \"white\", \"linecolor\": \"white\", \"minorgridcolor\": \"white\", \"startlinecolor\": \"#2a3f5f\"}, \"baxis\": {\"endlinecolor\": \"#2a3f5f\", \"gridcolor\": \"white\", \"linecolor\": \"white\", \"minorgridcolor\": \"white\", \"startlinecolor\": \"#2a3f5f\"}, \"type\": \"carpet\"}], \"choropleth\": [{\"colorbar\": {\"outlinewidth\": 0, \"ticks\": \"\"}, \"type\": \"choropleth\"}], \"contour\": [{\"colorbar\": {\"outlinewidth\": 0, \"ticks\": \"\"}, \"colorscale\": [[0.0, \"#0d0887\"], [0.1111111111111111, \"#46039f\"], [0.2222222222222222, \"#7201a8\"], [0.3333333333333333, \"#9c179e\"], [0.4444444444444444, \"#bd3786\"], [0.5555555555555556, \"#d8576b\"], [0.6666666666666666, \"#ed7953\"], [0.7777777777777778, \"#fb9f3a\"], [0.8888888888888888, \"#fdca26\"], [1.0, \"#f0f921\"]], \"type\": \"contour\"}], \"contourcarpet\": [{\"colorbar\": {\"outlinewidth\": 0, \"ticks\": \"\"}, \"type\": \"contourcarpet\"}], \"heatmap\": [{\"colorbar\": {\"outlinewidth\": 0, \"ticks\": \"\"}, \"colorscale\": [[0.0, \"#0d0887\"], [0.1111111111111111, \"#46039f\"], [0.2222222222222222, \"#7201a8\"], [0.3333333333333333, \"#9c179e\"], [0.4444444444444444, \"#bd3786\"], [0.5555555555555556, \"#d8576b\"], [0.6666666666666666, \"#ed7953\"], [0.7777777777777778, \"#fb9f3a\"], [0.8888888888888888, \"#fdca26\"], [1.0, \"#f0f921\"]], \"type\": \"heatmap\"}], \"heatmapgl\": [{\"colorbar\": {\"outlinewidth\": 0, \"ticks\": \"\"}, \"colorscale\": [[0.0, \"#0d0887\"], [0.1111111111111111, \"#46039f\"], [0.2222222222222222, \"#7201a8\"], [0.3333333333333333, \"#9c179e\"], [0.4444444444444444, \"#bd3786\"], [0.5555555555555556, \"#d8576b\"], [0.6666666666666666, \"#ed7953\"], [0.7777777777777778, \"#fb9f3a\"], [0.8888888888888888, \"#fdca26\"], [1.0, \"#f0f921\"]], \"type\": \"heatmapgl\"}], \"histogram\": [{\"marker\": {\"colorbar\": {\"outlinewidth\": 0, \"ticks\": \"\"}}, \"type\": \"histogram\"}], \"histogram2d\": [{\"colorbar\": {\"outlinewidth\": 0, \"ticks\": \"\"}, \"colorscale\": [[0.0, \"#0d0887\"], [0.1111111111111111, \"#46039f\"], [0.2222222222222222, \"#7201a8\"], [0.3333333333333333, \"#9c179e\"], [0.4444444444444444, \"#bd3786\"], [0.5555555555555556, \"#d8576b\"], [0.6666666666666666, \"#ed7953\"], [0.7777777777777778, \"#fb9f3a\"], [0.8888888888888888, \"#fdca26\"], [1.0, \"#f0f921\"]], \"type\": \"histogram2d\"}], \"histogram2dcontour\": [{\"colorbar\": {\"outlinewidth\": 0, \"ticks\": \"\"}, \"colorscale\": [[0.0, \"#0d0887\"], [0.1111111111111111, \"#46039f\"], [0.2222222222222222, \"#7201a8\"], [0.3333333333333333, \"#9c179e\"], [0.4444444444444444, \"#bd3786\"], [0.5555555555555556, \"#d8576b\"], [0.6666666666666666, \"#ed7953\"], [0.7777777777777778, \"#fb9f3a\"], [0.8888888888888888, \"#fdca26\"], [1.0, \"#f0f921\"]], \"type\": \"histogram2dcontour\"}], \"mesh3d\": [{\"colorbar\": {\"outlinewidth\": 0, \"ticks\": \"\"}, \"type\": \"mesh3d\"}], \"parcoords\": [{\"line\": {\"colorbar\": {\"outlinewidth\": 0, \"ticks\": \"\"}}, \"type\": \"parcoords\"}], \"pie\": [{\"automargin\": true, \"type\": \"pie\"}], \"scatter\": [{\"marker\": {\"colorbar\": {\"outlinewidth\": 0, \"ticks\": \"\"}}, \"type\": \"scatter\"}], \"scatter3d\": [{\"line\": {\"colorbar\": {\"outlinewidth\": 0, \"ticks\": \"\"}}, \"marker\": {\"colorbar\": {\"outlinewidth\": 0, \"ticks\": \"\"}}, \"type\": \"scatter3d\"}], \"scattercarpet\": [{\"marker\": {\"colorbar\": {\"outlinewidth\": 0, \"ticks\": \"\"}}, \"type\": \"scattercarpet\"}], \"scattergeo\": [{\"marker\": {\"colorbar\": {\"outlinewidth\": 0, \"ticks\": \"\"}}, \"type\": \"scattergeo\"}], \"scattergl\": [{\"marker\": {\"colorbar\": {\"outlinewidth\": 0, \"ticks\": \"\"}}, \"type\": \"scattergl\"}], \"scattermapbox\": [{\"marker\": {\"colorbar\": {\"outlinewidth\": 0, \"ticks\": \"\"}}, \"type\": \"scattermapbox\"}], \"scatterpolar\": [{\"marker\": {\"colorbar\": {\"outlinewidth\": 0, \"ticks\": \"\"}}, \"type\": \"scatterpolar\"}], \"scatterpolargl\": [{\"marker\": {\"colorbar\": {\"outlinewidth\": 0, \"ticks\": \"\"}}, \"type\": \"scatterpolargl\"}], \"scatterternary\": [{\"marker\": {\"colorbar\": {\"outlinewidth\": 0, \"ticks\": \"\"}}, \"type\": \"scatterternary\"}], \"surface\": [{\"colorbar\": {\"outlinewidth\": 0, \"ticks\": \"\"}, \"colorscale\": [[0.0, \"#0d0887\"], [0.1111111111111111, \"#46039f\"], [0.2222222222222222, \"#7201a8\"], [0.3333333333333333, \"#9c179e\"], [0.4444444444444444, \"#bd3786\"], [0.5555555555555556, \"#d8576b\"], [0.6666666666666666, \"#ed7953\"], [0.7777777777777778, \"#fb9f3a\"], [0.8888888888888888, \"#fdca26\"], [1.0, \"#f0f921\"]], \"type\": \"surface\"}], \"table\": [{\"cells\": {\"fill\": {\"color\": \"#EBF0F8\"}, \"line\": {\"color\": \"white\"}}, \"header\": {\"fill\": {\"color\": \"#C8D4E3\"}, \"line\": {\"color\": \"white\"}}, \"type\": \"table\"}]}, \"layout\": {\"annotationdefaults\": {\"arrowcolor\": \"#2a3f5f\", \"arrowhead\": 0, \"arrowwidth\": 1}, \"coloraxis\": {\"colorbar\": {\"outlinewidth\": 0, \"ticks\": \"\"}}, \"colorscale\": {\"diverging\": [[0, \"#8e0152\"], [0.1, \"#c51b7d\"], [0.2, \"#de77ae\"], [0.3, \"#f1b6da\"], [0.4, \"#fde0ef\"], [0.5, \"#f7f7f7\"], [0.6, \"#e6f5d0\"], [0.7, \"#b8e186\"], [0.8, \"#7fbc41\"], [0.9, \"#4d9221\"], [1, \"#276419\"]], \"sequential\": [[0.0, \"#0d0887\"], [0.1111111111111111, \"#46039f\"], [0.2222222222222222, \"#7201a8\"], [0.3333333333333333, \"#9c179e\"], [0.4444444444444444, \"#bd3786\"], [0.5555555555555556, \"#d8576b\"], [0.6666666666666666, \"#ed7953\"], [0.7777777777777778, \"#fb9f3a\"], [0.8888888888888888, \"#fdca26\"], [1.0, \"#f0f921\"]], \"sequentialminus\": [[0.0, \"#0d0887\"], [0.1111111111111111, \"#46039f\"], [0.2222222222222222, \"#7201a8\"], [0.3333333333333333, \"#9c179e\"], [0.4444444444444444, \"#bd3786\"], [0.5555555555555556, \"#d8576b\"], [0.6666666666666666, \"#ed7953\"], [0.7777777777777778, \"#fb9f3a\"], [0.8888888888888888, \"#fdca26\"], [1.0, \"#f0f921\"]]}, \"colorway\": [\"#636efa\", \"#EF553B\", \"#00cc96\", \"#ab63fa\", \"#FFA15A\", \"#19d3f3\", \"#FF6692\", \"#B6E880\", \"#FF97FF\", \"#FECB52\"], \"font\": {\"color\": \"#2a3f5f\"}, \"geo\": {\"bgcolor\": \"white\", \"lakecolor\": \"white\", \"landcolor\": \"#E5ECF6\", \"showlakes\": true, \"showland\": true, \"subunitcolor\": \"white\"}, \"hoverlabel\": {\"align\": \"left\"}, \"hovermode\": \"closest\", \"mapbox\": {\"style\": \"light\"}, \"paper_bgcolor\": \"white\", \"plot_bgcolor\": \"#E5ECF6\", \"polar\": {\"angularaxis\": {\"gridcolor\": \"white\", \"linecolor\": \"white\", \"ticks\": \"\"}, \"bgcolor\": \"#E5ECF6\", \"radialaxis\": {\"gridcolor\": \"white\", \"linecolor\": \"white\", \"ticks\": \"\"}}, \"scene\": {\"xaxis\": {\"backgroundcolor\": \"#E5ECF6\", \"gridcolor\": \"white\", \"gridwidth\": 2, \"linecolor\": \"white\", \"showbackground\": true, \"ticks\": \"\", \"zerolinecolor\": \"white\"}, \"yaxis\": {\"backgroundcolor\": \"#E5ECF6\", \"gridcolor\": \"white\", \"gridwidth\": 2, \"linecolor\": \"white\", \"showbackground\": true, \"ticks\": \"\", \"zerolinecolor\": \"white\"}, \"zaxis\": {\"backgroundcolor\": \"#E5ECF6\", \"gridcolor\": \"white\", \"gridwidth\": 2, \"linecolor\": \"white\", \"showbackground\": true, \"ticks\": \"\", \"zerolinecolor\": \"white\"}}, \"shapedefaults\": {\"line\": {\"color\": \"#2a3f5f\"}}, \"ternary\": {\"aaxis\": {\"gridcolor\": \"white\", \"linecolor\": \"white\", \"ticks\": \"\"}, \"baxis\": {\"gridcolor\": \"white\", \"linecolor\": \"white\", \"ticks\": \"\"}, \"bgcolor\": \"#E5ECF6\", \"caxis\": {\"gridcolor\": \"white\", \"linecolor\": \"white\", \"ticks\": \"\"}}, \"title\": {\"x\": 0.05}, \"xaxis\": {\"automargin\": true, \"gridcolor\": \"white\", \"linecolor\": \"white\", \"ticks\": \"\", \"title\": {\"standoff\": 15}, \"zerolinecolor\": \"white\", \"zerolinewidth\": 2}, \"yaxis\": {\"automargin\": true, \"gridcolor\": \"white\", \"linecolor\": \"white\", \"ticks\": \"\", \"title\": {\"standoff\": 15}, \"zerolinecolor\": \"white\", \"zerolinewidth\": 2}}}, \"title\": {\"text\": \"Spatial Distribution of Reviews\"}},\n",
       "                        {\"responsive\": true}\n",
       "                    ).then(function(){\n",
       "                            \n",
       "var gd = document.getElementById('fac32b63-86be-4c2d-948b-ca635a045e42');\n",
       "var x = new MutationObserver(function (mutations, observer) {{\n",
       "        var display = window.getComputedStyle(gd).display;\n",
       "        if (!display || display === 'none') {{\n",
       "            console.log([gd, 'removed!']);\n",
       "            Plotly.purge(gd);\n",
       "            observer.disconnect();\n",
       "        }}\n",
       "}});\n",
       "\n",
       "// Listen for the removal of the full notebook cells\n",
       "var notebookContainer = gd.closest('#notebook-container');\n",
       "if (notebookContainer) {{\n",
       "    x.observe(notebookContainer, {childList: true});\n",
       "}}\n",
       "\n",
       "// Listen for the clearing of the current output cell\n",
       "var outputEl = gd.closest('.output');\n",
       "if (outputEl) {{\n",
       "    x.observe(outputEl, {childList: true});\n",
       "}}\n",
       "\n",
       "                        })\n",
       "                };\n",
       "                });\n",
       "            </script>\n",
       "        </div>"
      ]
     },
     "metadata": {},
     "output_type": "display_data"
    }
   ],
   "source": [
    "import chart_studio as py\n",
    "import plotly.graph_objects as go\n",
    "\n",
    "df = info_getall\n",
    "\n",
    "## get column names\n",
    "for col in df.columns:\n",
    "    df[col] = df[col].astype(str)\n",
    "\n",
    "df['text'] = df['state'] + '<br>' + \\\n",
    "    'User Count: ' + df['user_id'] + '<br>' + \\\n",
    "    'Business Count: ' + df['business_id'] + '<br>' + \\\n",
    "    'Mostly Reviewed Category: ' + df['topCat'] \n",
    "\n",
    "fig = go.Figure(data=go.Choropleth(\n",
    "    locations=df['state'], # Spatial coordinates\n",
    "    z = df['biz_user_pair'].astype(float), # Data to be color-coded\n",
    "    locationmode = 'USA-states', # set of locations match entries in `locations`\n",
    "    colorscale = 'Reds',\n",
    "    text=df['text'], # hover text\n",
    "    marker_line_color='white', # line markers between states\n",
    "    colorbar_title = \"Review Count\",\n",
    "))\n",
    "\n",
    "fig.update_layout(\n",
    "    title_text = 'Spatial Distribution of Reviews',\n",
    "    geo_scope='usa', \n",
    "#     geo_scope='north america',\n",
    ")\n",
    "\n",
    "fig.show()"
   ]
  },
  {
   "cell_type": "markdown",
   "metadata": {},
   "source": [
    "### Category Histogram"
   ]
  },
  {
   "cell_type": "code",
   "execution_count": 54,
   "metadata": {},
   "outputs": [
    {
     "data": {
      "text/html": [
       "<div>\n",
       "<style scoped>\n",
       "    .dataframe tbody tr th:only-of-type {\n",
       "        vertical-align: middle;\n",
       "    }\n",
       "\n",
       "    .dataframe tbody tr th {\n",
       "        vertical-align: top;\n",
       "    }\n",
       "\n",
       "    .dataframe thead th {\n",
       "        text-align: right;\n",
       "    }\n",
       "</style>\n",
       "<table border=\"1\" class=\"dataframe\">\n",
       "  <thead>\n",
       "    <tr style=\"text-align: right;\">\n",
       "      <th></th>\n",
       "      <th>Unnamed: 0</th>\n",
       "      <th>user_id</th>\n",
       "      <th>business_id</th>\n",
       "      <th>top_category</th>\n",
       "      <th>state</th>\n",
       "      <th>city</th>\n",
       "      <th>latitude</th>\n",
       "      <th>longitude</th>\n",
       "    </tr>\n",
       "  </thead>\n",
       "  <tbody>\n",
       "    <tr>\n",
       "      <th>0</th>\n",
       "      <td>0</td>\n",
       "      <td>hG7b0MtEbXx5QzbzE6C_VA</td>\n",
       "      <td>ujmEBvifdJM6h6RLv4wQIg</td>\n",
       "      <td>Active Life</td>\n",
       "      <td>NV</td>\n",
       "      <td>Las Vegas</td>\n",
       "      <td>36.215546</td>\n",
       "      <td>-115.248798</td>\n",
       "    </tr>\n",
       "    <tr>\n",
       "      <th>1</th>\n",
       "      <td>1</td>\n",
       "      <td>RBXSJA372ilErzNwz0jXvQ</td>\n",
       "      <td>ujmEBvifdJM6h6RLv4wQIg</td>\n",
       "      <td>Active Life</td>\n",
       "      <td>NV</td>\n",
       "      <td>Las Vegas</td>\n",
       "      <td>36.215546</td>\n",
       "      <td>-115.248798</td>\n",
       "    </tr>\n",
       "    <tr>\n",
       "      <th>2</th>\n",
       "      <td>2</td>\n",
       "      <td>x3brMMbJrAW9PwW5A6YL5w</td>\n",
       "      <td>ujmEBvifdJM6h6RLv4wQIg</td>\n",
       "      <td>Active Life</td>\n",
       "      <td>NV</td>\n",
       "      <td>Las Vegas</td>\n",
       "      <td>36.215546</td>\n",
       "      <td>-115.248798</td>\n",
       "    </tr>\n",
       "    <tr>\n",
       "      <th>3</th>\n",
       "      <td>3</td>\n",
       "      <td>Skzdl0sWhW88525a1vr59g</td>\n",
       "      <td>ujmEBvifdJM6h6RLv4wQIg</td>\n",
       "      <td>Active Life</td>\n",
       "      <td>NV</td>\n",
       "      <td>Las Vegas</td>\n",
       "      <td>36.215546</td>\n",
       "      <td>-115.248798</td>\n",
       "    </tr>\n",
       "    <tr>\n",
       "      <th>4</th>\n",
       "      <td>4</td>\n",
       "      <td>3Y25VDfnQVcuc33T-U3Z6A</td>\n",
       "      <td>ujmEBvifdJM6h6RLv4wQIg</td>\n",
       "      <td>Active Life</td>\n",
       "      <td>NV</td>\n",
       "      <td>Las Vegas</td>\n",
       "      <td>36.215546</td>\n",
       "      <td>-115.248798</td>\n",
       "    </tr>\n",
       "  </tbody>\n",
       "</table>\n",
       "</div>"
      ],
      "text/plain": [
       "   Unnamed: 0                 user_id             business_id top_category  \\\n",
       "0           0  hG7b0MtEbXx5QzbzE6C_VA  ujmEBvifdJM6h6RLv4wQIg  Active Life   \n",
       "1           1  RBXSJA372ilErzNwz0jXvQ  ujmEBvifdJM6h6RLv4wQIg  Active Life   \n",
       "2           2  x3brMMbJrAW9PwW5A6YL5w  ujmEBvifdJM6h6RLv4wQIg  Active Life   \n",
       "3           3  Skzdl0sWhW88525a1vr59g  ujmEBvifdJM6h6RLv4wQIg  Active Life   \n",
       "4           4  3Y25VDfnQVcuc33T-U3Z6A  ujmEBvifdJM6h6RLv4wQIg  Active Life   \n",
       "\n",
       "  state       city   latitude   longitude  \n",
       "0    NV  Las Vegas  36.215546 -115.248798  \n",
       "1    NV  Las Vegas  36.215546 -115.248798  \n",
       "2    NV  Las Vegas  36.215546 -115.248798  \n",
       "3    NV  Las Vegas  36.215546 -115.248798  \n",
       "4    NV  Las Vegas  36.215546 -115.248798  "
      ]
     },
     "execution_count": 54,
     "metadata": {},
     "output_type": "execute_result"
    }
   ],
   "source": [
    "spatial.head()"
   ]
  },
  {
   "cell_type": "code",
   "execution_count": 55,
   "metadata": {},
   "outputs": [
    {
     "data": {
      "text/html": [
       "<div>\n",
       "<style scoped>\n",
       "    .dataframe tbody tr th:only-of-type {\n",
       "        vertical-align: middle;\n",
       "    }\n",
       "\n",
       "    .dataframe tbody tr th {\n",
       "        vertical-align: top;\n",
       "    }\n",
       "\n",
       "    .dataframe thead th {\n",
       "        text-align: right;\n",
       "    }\n",
       "</style>\n",
       "<table border=\"1\" class=\"dataframe\">\n",
       "  <thead>\n",
       "    <tr style=\"text-align: right;\">\n",
       "      <th></th>\n",
       "      <th>biz_user_pair</th>\n",
       "      <th>top_category</th>\n",
       "    </tr>\n",
       "  </thead>\n",
       "  <tbody>\n",
       "    <tr>\n",
       "      <th>0</th>\n",
       "      <td>127735</td>\n",
       "      <td>Active Life</td>\n",
       "    </tr>\n",
       "    <tr>\n",
       "      <th>1</th>\n",
       "      <td>340155</td>\n",
       "      <td>Arts &amp; Entertainment</td>\n",
       "    </tr>\n",
       "    <tr>\n",
       "      <th>2</th>\n",
       "      <td>205974</td>\n",
       "      <td>Automotive</td>\n",
       "    </tr>\n",
       "    <tr>\n",
       "      <th>3</th>\n",
       "      <td>395440</td>\n",
       "      <td>Beauty &amp; Spas</td>\n",
       "    </tr>\n",
       "    <tr>\n",
       "      <th>4</th>\n",
       "      <td>29085</td>\n",
       "      <td>Education</td>\n",
       "    </tr>\n",
       "  </tbody>\n",
       "</table>\n",
       "</div>"
      ],
      "text/plain": [
       "   biz_user_pair          top_category\n",
       "0         127735           Active Life\n",
       "1         340155  Arts & Entertainment\n",
       "2         205974            Automotive\n",
       "3         395440         Beauty & Spas\n",
       "4          29085             Education"
      ]
     },
     "execution_count": 55,
     "metadata": {},
     "output_type": "execute_result"
    }
   ],
   "source": [
    "topcat = spatial.copy()\n",
    "topcat['biz_user_pair'] = concat\n",
    "topcat = topcat.set_index('top_category')\n",
    "topcat = topcat.groupby(by=['top_category']).nunique()\n",
    "topcat = topcat.reset_index().loc[:,['biz_user_pair','top_category']]\n",
    "topcat.head()"
   ]
  },
  {
   "cell_type": "code",
   "execution_count": 56,
   "metadata": {},
   "outputs": [
    {
     "data": {
      "text/plain": [
       "2626151"
      ]
     },
     "execution_count": 56,
     "metadata": {},
     "output_type": "execute_result"
    }
   ],
   "source": [
    "max(topcat['biz_user_pair'].values)"
   ]
  },
  {
   "cell_type": "code",
   "execution_count": 87,
   "metadata": {},
   "outputs": [
    {
     "name": "stderr",
     "output_type": "stream",
     "text": [
      "The PostScript backend does not support transparency; partially transparent artists will be rendered opaque.\n",
      "The PostScript backend does not support transparency; partially transparent artists will be rendered opaque.\n",
      "The PostScript backend does not support transparency; partially transparent artists will be rendered opaque.\n",
      "The PostScript backend does not support transparency; partially transparent artists will be rendered opaque.\n",
      "The PostScript backend does not support transparency; partially transparent artists will be rendered opaque.\n",
      "The PostScript backend does not support transparency; partially transparent artists will be rendered opaque.\n",
      "The PostScript backend does not support transparency; partially transparent artists will be rendered opaque.\n",
      "The PostScript backend does not support transparency; partially transparent artists will be rendered opaque.\n",
      "The PostScript backend does not support transparency; partially transparent artists will be rendered opaque.\n",
      "The PostScript backend does not support transparency; partially transparent artists will be rendered opaque.\n",
      "The PostScript backend does not support transparency; partially transparent artists will be rendered opaque.\n",
      "The PostScript backend does not support transparency; partially transparent artists will be rendered opaque.\n",
      "The PostScript backend does not support transparency; partially transparent artists will be rendered opaque.\n",
      "The PostScript backend does not support transparency; partially transparent artists will be rendered opaque.\n",
      "The PostScript backend does not support transparency; partially transparent artists will be rendered opaque.\n",
      "The PostScript backend does not support transparency; partially transparent artists will be rendered opaque.\n",
      "The PostScript backend does not support transparency; partially transparent artists will be rendered opaque.\n",
      "The PostScript backend does not support transparency; partially transparent artists will be rendered opaque.\n",
      "The PostScript backend does not support transparency; partially transparent artists will be rendered opaque.\n",
      "The PostScript backend does not support transparency; partially transparent artists will be rendered opaque.\n",
      "The PostScript backend does not support transparency; partially transparent artists will be rendered opaque.\n"
     ]
    },
    {
     "data": {
      "image/png": "[encoded data removed]",
      "text/plain": [
       "<Figure size 560x480 with 1 Axes>"
      ]
     },
     "metadata": {},
     "output_type": "display_data"
    }
   ],
   "source": [
    "import matplotlib.mlab as mlab\n",
    "import matplotlib.pyplot as plt\n",
    "import pandas as pd\n",
    "import numpy as np\n",
    "\n",
    "objects = topcat['top_category']\n",
    "y_pos = np.arange(len(objects))\n",
    "performance = sorted(topcat['biz_user_pair'])\n",
    "\n",
    "fig=plt.figure(figsize=(7,6), dpi= 80, facecolor='w', edgecolor='k')\n",
    "\n",
    "plt.barh(y_pos, performance, align='center', alpha=0.5)\n",
    "plt.yticks(y_pos, objects, size = 15)\n",
    "plt.xticks(size = 10)\n",
    "plt.xlabel('Reviews', size = 15)\n",
    "plt.title('Category Reviwes Distribution', size = 18)\n",
    "\n",
    "plt.savefig('categorydist', format='eps')\n",
    "\n",
    "plt.show()"
   ]
  },
  {
   "cell_type": "code",
   "execution_count": null,
   "metadata": {},
   "outputs": [],
   "source": []
  }
 ],
 "metadata": {
  "kernelspec": {
   "display_name": "Python (Spark)",
   "language": "python",
   "name": "spark"
  },
  "language_info": {
   "codemirror_mode": {
    "name": "ipython",
    "version": 3
   },
   "file_extension": ".py",
   "mimetype": "text/x-python",
   "name": "python",
   "nbconvert_exporter": "python",
   "pygments_lexer": "ipython3",
   "version": "3.6.9"
  }
 },
 "nbformat": 4,
 "nbformat_minor": 2
}
