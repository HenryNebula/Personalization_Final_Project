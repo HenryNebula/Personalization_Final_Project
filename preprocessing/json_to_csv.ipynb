{
 "cells": [
  {
   "cell_type": "code",
   "execution_count": 2,
   "metadata": {},
   "outputs": [],
   "source": [
    "from pyspark.sql import DataFrame, Row, SparkSession\n",
    "import os"
   ]
  },
  {
   "cell_type": "markdown",
   "metadata": {},
   "source": [
    "# choose needed cols from json and save as csv"
   ]
  },
  {
   "cell_type": "code",
   "execution_count": 3,
   "metadata": {},
   "outputs": [],
   "source": [
    "def get_spark(name=\"Recsys\", cores=2, local_dir=\"/tmp/spark-temp\") -> SparkSession:\n",
    "    # make sure the local_dir exists in your file system\n",
    "    # default settings work for linux\n",
    "    spark = (SparkSession\n",
    "             .builder\n",
    "             .appName(name)\n",
    "             .master(\"local[{}]\".format(cores))\n",
    "             .config(\"spark.memory.offHeap.enabled\", True)\n",
    "             .config(\"spark.memory.offHeap.size\", \"16g\")\n",
    "             .config(\"spark.local.dir\", local_dir)\n",
    "             .getOrCreate())\n",
    "\n",
    "    spark.sparkContext.setCheckpointDir(os.path.join(local_dir, \"chkpts/\"))\n",
    "    return spark"
   ]
  },
  {
   "cell_type": "code",
   "execution_count": null,
   "metadata": {},
   "outputs": [],
   "source": [
    "spark = get_spark(cores=4)"
   ]
  },
  {
   "cell_type": "code",
   "execution_count": null,
   "metadata": {},
   "outputs": [],
   "source": [
    "sc = spark.sparkContext"
   ]
  },
  {
   "cell_type": "code",
   "execution_count": 94,
   "metadata": {},
   "outputs": [],
   "source": [
    "df = spark.read.json(\"./yelp_dataset/review.json\")"
   ]
  },
  {
   "cell_type": "code",
   "execution_count": null,
   "metadata": {},
   "outputs": [],
   "source": [
    "df.printSchema()"
   ]
  },
  {
   "cell_type": "code",
   "execution_count": null,
   "metadata": {},
   "outputs": [],
   "source": [
    "df = df.select(\"business_id\", \"cool\", \"date\", \"funny\", \"review_id\", \"stars\", \"useful\", \"user_id\")"
   ]
  },
  {
   "cell_type": "code",
   "execution_count": null,
   "metadata": {},
   "outputs": [],
   "source": [
    "df.coalesce(1).write.option(\"header\", \"true\").csv(\"ratings.csv\")"
   ]
  },
  {
   "cell_type": "markdown",
   "metadata": {},
   "source": [
    "# Get Business catefory info using Yelp API"
   ]
  },
  {
   "cell_type": "code",
   "execution_count": 8,
   "metadata": {},
   "outputs": [],
   "source": [
    "import requests\n",
    "from urllib.error import HTTPError\n",
    "from urllib.parse import quote\n",
    "from urllib.parse import urlencode\n",
    "\n",
    "def request(host, path, api_key, url_params=None):\n",
    "    \"\"\"Given your API_KEY, send a GET request to the API.\n",
    "    Args:\n",
    "        host (str): The domain host of the API.\n",
    "        path (str): The path of the API after the domain.\n",
    "        API_KEY (str): Your API Key.\n",
    "        url_params (dict): An optional set of query parameters in the request.\n",
    "    Returns:\n",
    "        dict: The JSON response from the request.\n",
    "    Raises:\n",
    "        HTTPError: An error occurs from the HTTP request.\n",
    "    \"\"\"\n",
    "    url_params = url_params or {}\n",
    "    url = '{0}{1}'.format(host, quote(path.encode('utf8')))\n",
    "    headers = {\n",
    "        'Authorization': 'Bearer %s' % api_key,\n",
    "    }\n",
    "\n",
    "    print(u'Querying {0} ...'.format(url))\n",
    "\n",
    "    response = requests.request('GET', url, headers=headers, params=url_params)\n",
    "\n",
    "    return response.json()"
   ]
  },
  {
   "cell_type": "code",
   "execution_count": 9,
   "metadata": {},
   "outputs": [
    {
     "name": "stdout",
     "output_type": "stream",
     "text": [
      "Querying https://api.yelp.com/v3/categories ...\n"
     ]
    }
   ],
   "source": [
    "key=\"HwkCu8bbu6Lv43rqp__sk9Z36evS2vSApDUzNSPHb9fguOLzX7G8bOMI2GFZOuVee9mlkY1y-0xif98nQgVTRGcTj9VTjG-BzxQDrdhKrZRbP0fsFXwy7zzCVKHZXXYx\"\n",
    "cat_dict = request(host=\"https://api.yelp.com/v3\", path=\"/categories\", api_key=key)[\"categories\"]"
   ]
  },
  {
   "cell_type": "code",
   "execution_count": 10,
   "metadata": {},
   "outputs": [],
   "source": [
    "alias_to_title = {cat[\"alias\"]: cat[\"title\"] for cat in cat_dict}"
   ]
  },
  {
   "cell_type": "code",
   "execution_count": 11,
   "metadata": {},
   "outputs": [],
   "source": [
    "import networkx as nx"
   ]
  },
  {
   "cell_type": "code",
   "execution_count": 12,
   "metadata": {},
   "outputs": [],
   "source": [
    "G = nx.DiGraph()\n",
    "for cat in cat_dict:\n",
    "    parent = cat[\"parent_aliases\"]\n",
    "    parent_title = alias_to_title[parent[0]] if parent else None\n",
    "    \n",
    "    if parent_title:\n",
    "        G.add_edge(parent_title, cat[\"title\"])"
   ]
  },
  {
   "cell_type": "code",
   "execution_count": 13,
   "metadata": {},
   "outputs": [],
   "source": [
    "zero_in_degree_nodes = filter(lambda tup: tup[1] == 0, G.in_degree(G.node()))\n",
    "top_categories = list(map(lambda tup: tup[0], zero_in_degree_nodes))"
   ]
  },
  {
   "cell_type": "code",
   "execution_count": 14,
   "metadata": {},
   "outputs": [
    {
     "data": {
      "text/plain": [
       "['Local Services',\n",
       " 'Food',\n",
       " 'Professional Services',\n",
       " 'Beauty & Spas',\n",
       " 'Health & Medical',\n",
       " 'Shopping',\n",
       " 'Education',\n",
       " 'Nightlife',\n",
       " 'Restaurants',\n",
       " 'Religious Organizations',\n",
       " 'Automotive',\n",
       " 'Hotels & Travel',\n",
       " 'Active Life',\n",
       " 'Pets',\n",
       " 'Arts & Entertainment',\n",
       " 'Home Services',\n",
       " 'Public Services & Government',\n",
       " 'Event Planning & Services',\n",
       " 'Financial Services',\n",
       " 'Bicycles',\n",
       " 'Local Flavor',\n",
       " 'Mass Media']"
      ]
     },
     "execution_count": 14,
     "metadata": {},
     "output_type": "execute_result"
    }
   ],
   "source": [
    "top_categories"
   ]
  },
  {
   "cell_type": "code",
   "execution_count": 131,
   "metadata": {},
   "outputs": [],
   "source": [
    "with open(\"../../yelp_dataset/top_categories.json\", \"w\") as f:\n",
    "    f.write(json.dumps(top_categories))"
   ]
  }
 ],
 "metadata": {
  "kernelspec": {
   "display_name": "Python (Spark)",
   "language": "python",
   "name": "spark"
  },
  "language_info": {
   "codemirror_mode": {
    "name": "ipython",
    "version": 3
   },
   "file_extension": ".py",
   "mimetype": "text/x-python",
   "name": "python",
   "nbconvert_exporter": "python",
   "pygments_lexer": "ipython3",
   "version": "3.6.9"
  }
 },
 "nbformat": 4,
 "nbformat_minor": 2
}
