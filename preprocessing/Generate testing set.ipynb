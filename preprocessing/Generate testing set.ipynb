{
 "cells": [
  {
   "cell_type": "code",
   "execution_count": 4,
   "metadata": {},
   "outputs": [],
   "source": [
    "%load_ext autoreload\n",
    "%autoreload 2"
   ]
  },
  {
   "cell_type": "code",
   "execution_count": 2,
   "metadata": {},
   "outputs": [],
   "source": [
    "from pyspark.sql.window import Window\n",
    "import pyspark.sql.functions as F\n",
    "from pyspark.sql.functions import col\n",
    "import json\n",
    "from pyspark.sql.functions import udf, col\n",
    "from pyspark.sql.types import StringType, ArrayType, IntegerType\n",
    "import os\n",
    "import numpy as np\n",
    "import pandas as pd"
   ]
  },
  {
   "cell_type": "code",
   "execution_count": 3,
   "metadata": {},
   "outputs": [],
   "source": [
    "import sys\n",
    "sys.path.append(\"../\")"
   ]
  },
  {
   "cell_type": "code",
   "execution_count": 6,
   "metadata": {},
   "outputs": [],
   "source": [
    "from src.utility.sys_utils import get_spark"
   ]
  },
  {
   "cell_type": "code",
   "execution_count": 7,
   "metadata": {},
   "outputs": [],
   "source": [
    "spark = get_spark(cores=4)"
   ]
  },
  {
   "cell_type": "code",
   "execution_count": 8,
   "metadata": {},
   "outputs": [],
   "source": [
    "data_home = \"/media/ExtHDD01/recsys_data/yelp_dataset/tidy_data/\""
   ]
  },
  {
   "cell_type": "markdown",
   "metadata": {},
   "source": [
    "# Filter whole dataset using thresholds"
   ]
  },
  {
   "cell_type": "code",
   "execution_count": 9,
   "metadata": {},
   "outputs": [],
   "source": [
    "reviews = spark.read.csv(os.path.join(data_home, \"ratings.csv\"), header=True)"
   ]
  },
  {
   "cell_type": "code",
   "execution_count": 21,
   "metadata": {},
   "outputs": [
    {
     "name": "stdout",
     "output_type": "stream",
     "text": [
      "+-----------------------+\n",
      "|count(DISTINCT user_id)|\n",
      "+-----------------------+\n",
      "|                1637138|\n",
      "+-----------------------+\n",
      "\n"
     ]
    }
   ],
   "source": [
    "reviews.select(F.countDistinct(\"user_id\")).show()"
   ]
  },
  {
   "cell_type": "code",
   "execution_count": 22,
   "metadata": {},
   "outputs": [
    {
     "name": "stdout",
     "output_type": "stream",
     "text": [
      "+---------------------------+\n",
      "|count(DISTINCT business_id)|\n",
      "+---------------------------+\n",
      "|                     192606|\n",
      "+---------------------------+\n",
      "\n"
     ]
    }
   ],
   "source": [
    "reviews.select(F.countDistinct(\"business_id\")).show()"
   ]
  },
  {
   "cell_type": "code",
   "execution_count": 23,
   "metadata": {},
   "outputs": [
    {
     "data": {
      "text/plain": [
       "6685900"
      ]
     },
     "execution_count": 23,
     "metadata": {},
     "output_type": "execute_result"
    }
   ],
   "source": [
    "reviews.count()"
   ]
  },
  {
   "cell_type": "code",
   "execution_count": 10,
   "metadata": {},
   "outputs": [],
   "source": [
    "user_thresh = 10\n",
    "item_thresh = 1\n",
    "dataset_name = \"user_{}_item_{}\".format(user_thresh, item_thresh)"
   ]
  },
  {
   "cell_type": "code",
   "execution_count": 11,
   "metadata": {},
   "outputs": [],
   "source": [
    "active_users = (reviews.select(\"user_id\", \"business_id\")\n",
    "                .groupBy(\"user_id\")\n",
    "                .agg(F.count(\"*\").alias(\"count_business\"))\n",
    "                .filter(col(\"count_business\") >= user_thresh))"
   ]
  },
  {
   "cell_type": "code",
   "execution_count": 16,
   "metadata": {},
   "outputs": [
    {
     "name": "stdout",
     "output_type": "stream",
     "text": [
      "+-----------------------+\n",
      "|count(DISTINCT user_id)|\n",
      "+-----------------------+\n",
      "|                 122824|\n",
      "+-----------------------+\n",
      "\n"
     ]
    }
   ],
   "source": [
    "active_users.select(F.countDistinct(\"user_id\")).show()"
   ]
  },
  {
   "cell_type": "code",
   "execution_count": 13,
   "metadata": {},
   "outputs": [],
   "source": [
    "active_items = (reviews.select(\"user_id\", \"business_id\")\n",
    "                .groupBy(\"business_id\")\n",
    "                .agg(F.count(\"*\").alias(\"count_user\"))\n",
    "                .filter(col(\"count_user\") >= item_thresh))"
   ]
  },
  {
   "cell_type": "code",
   "execution_count": 17,
   "metadata": {},
   "outputs": [
    {
     "name": "stdout",
     "output_type": "stream",
     "text": [
      "+---------------------------+\n",
      "|count(DISTINCT business_id)|\n",
      "+---------------------------+\n",
      "|                     192606|\n",
      "+---------------------------+\n",
      "\n"
     ]
    }
   ],
   "source": [
    "active_items.select(F.countDistinct(\"business_id\")).show()"
   ]
  },
  {
   "cell_type": "code",
   "execution_count": 18,
   "metadata": {},
   "outputs": [],
   "source": [
    "filtered_reviews = (reviews\n",
    "                    .join(active_users, on=\"user_id\", how=\"inner\")\n",
    "                    .join(active_items, on=\"business_id\", how=\"inner\")\n",
    "                    .drop(\"count_business\", \"count_user\"))"
   ]
  },
  {
   "cell_type": "code",
   "execution_count": 19,
   "metadata": {},
   "outputs": [
    {
     "name": "stdout",
     "output_type": "stream",
     "text": [
      "+--------------------+--------------------+----+-------------------+-----+--------------------+-----+------+\n",
      "|         business_id|             user_id|cool|               date|funny|           review_id|stars|useful|\n",
      "+--------------------+--------------------+----+-------------------+-----+--------------------+-----+------+\n",
      "|--9e1ONYQuAa-CB_R...|3qz_dfwbFwTQeDRzy...|   0|2018-04-26 03:08:43|    0|iBzBKf0EnBxNNfCe9...|  5.0|     0|\n",
      "|--9e1ONYQuAa-CB_R...|H0tfWQsGjEBuhXD4W...|   0|2014-01-06 19:26:01|    0|UFBG39zEiwJqmos2p...|  5.0|     0|\n",
      "|--9e1ONYQuAa-CB_R...|R0KVWeN9xR-F6j4z5...|   1|2006-07-15 16:49:37|    0|d3-sC4eUvIdDzz6Kg...|  4.0|     2|\n",
      "|--9e1ONYQuAa-CB_R...|n9DJHwgYflQ_ms8gB...|   0|2011-07-13 07:26:47|    0|KVacH9suT8a_b5UCk...|  3.0|     0|\n",
      "|--9e1ONYQuAa-CB_R...|1rlB-SWvDU5TnDnym...|   2|2013-06-13 13:04:34|    3|qO-giyrBOUhY9lzYo...|  5.0|     2|\n",
      "+--------------------+--------------------+----+-------------------+-----+--------------------+-----+------+\n",
      "only showing top 5 rows\n",
      "\n"
     ]
    }
   ],
   "source": [
    "filtered_reviews.show(5)"
   ]
  },
  {
   "cell_type": "code",
   "execution_count": 20,
   "metadata": {},
   "outputs": [
    {
     "data": {
      "text/plain": [
       "3486292"
      ]
     },
     "execution_count": 20,
     "metadata": {},
     "output_type": "execute_result"
    }
   ],
   "source": [
    "filtered_reviews.count()"
   ]
  },
  {
   "cell_type": "code",
   "execution_count": 26,
   "metadata": {},
   "outputs": [],
   "source": [
    "windowSpec = Window \\\n",
    "    .partitionBy(\"user_id\") \\\n",
    "    .orderBy(F.desc(\"date\"))"
   ]
  },
  {
   "cell_type": "code",
   "execution_count": 27,
   "metadata": {},
   "outputs": [],
   "source": [
    "test_reviews = filtered_reviews.withColumn(\"rank\", F.dense_rank().over(windowSpec)).filter(col(\"rank\") == 1).drop(\"rank\")"
   ]
  },
  {
   "cell_type": "code",
   "execution_count": 28,
   "metadata": {},
   "outputs": [],
   "source": [
    "train_reviews = filtered_reviews.withColumn(\"rank\", F.dense_rank().over(windowSpec)).filter(col(\"rank\") > 1).drop(\"rank\")"
   ]
  },
  {
   "cell_type": "code",
   "execution_count": 125,
   "metadata": {},
   "outputs": [],
   "source": [
    "train_file_dir, test_file_dir = [os.path.join(data_home, \n",
    "                                              \"{}/yelp.{}\".format(dataset_name, name))\n",
    "                                for name in [\"train\", \"test\"]]"
   ]
  },
  {
   "cell_type": "code",
   "execution_count": 29,
   "metadata": {},
   "outputs": [],
   "source": [
    "train_reviews.coalesce(1).write.csv(\n",
    "    train_file_dir, \n",
    "    header=True, \n",
    "    mode=\"overwrite\")"
   ]
  },
  {
   "cell_type": "code",
   "execution_count": 30,
   "metadata": {},
   "outputs": [],
   "source": [
    "test_reviews.coalesce(1).write.csv(\n",
    "    test_file_dir, \n",
    "    header=True, \n",
    "    mode=\"overwrite\")"
   ]
  },
  {
   "cell_type": "code",
   "execution_count": 33,
   "metadata": {},
   "outputs": [],
   "source": [
    "import subprocess"
   ]
  },
  {
   "cell_type": "code",
   "execution_count": 129,
   "metadata": {},
   "outputs": [],
   "source": [
    "def collapse_dir_to_single_file(dir_, file_type=\"csv\"):\n",
    "    output = subprocess.check_output(\"ls {}/*.{}\".format(dir_, file_type), shell=True).decode(\"utf-8\").strip()\n",
    "    file_name = dir_.split(\"/\")[-1] + \".{}\".format(file_type)\n",
    "    file_name = os.path.abspath(os.path.join(dir_, \"../\", file_name))\n",
    "    print(\"MOVING {} \\nTO {}\".format(output, file_name))\n",
    "    os.system(\"cat {} > {}\".format(output, file_name))\n",
    "    os.system(\"rm -r {}\".format(dir_))\n",
    "    print(\"Done!\\n\")"
   ]
  },
  {
   "cell_type": "code",
   "execution_count": 70,
   "metadata": {},
   "outputs": [
    {
     "name": "stdout",
     "output_type": "stream",
     "text": [
      "MOVING /media/ExtHDD01/recsys_data/yelp_dataset/tidy_data/user_10_item_1/yelp.train/part-00000-b5367686-6102-4cd1-89d4-09ceed6f3658-c000.csv \n",
      "TO /media/ExtHDD01/recsys_data/yelp_dataset/tidy_data/user_10_item_1/yelp.train.csv\n",
      "Done!\n",
      "\n",
      "MOVING /media/ExtHDD01/recsys_data/yelp_dataset/tidy_data/user_10_item_1/yelp.test/part-00000-6d5a8172-b730-45b1-9484-0d56cbb626d2-c000.csv \n",
      "TO /media/ExtHDD01/recsys_data/yelp_dataset/tidy_data/user_10_item_1/yelp.test.csv\n",
      "Done!\n",
      "\n"
     ]
    }
   ],
   "source": [
    "for dir_ in [train_file_dir, test_file_dir]:\n",
    "    collapse_dir_to_single_file(dir_)"
   ]
  },
  {
   "cell_type": "markdown",
   "metadata": {},
   "source": [
    "# Generate business side info"
   ]
  },
  {
   "cell_type": "code",
   "execution_count": 75,
   "metadata": {},
   "outputs": [],
   "source": [
    "business_df = spark.read.json(os.path.join(data_home, \"business.json\")).filter(~F.isnull(col(\"categories\")))\n",
    "\n",
    "with open(os.path.join(data_home, \"top_categories.json\")) as f:\n",
    "    top_categories = json.loads(f.read())"
   ]
  },
  {
   "cell_type": "code",
   "execution_count": 65,
   "metadata": {
    "scrolled": true
   },
   "outputs": [],
   "source": [
    "def find_top_category(str_cats):\n",
    "    not_found = \"NotFound\"\n",
    "    if not str_cats: return not_found\n",
    "    \n",
    "    cats = set(map(lambda x: x.strip(), str_cats.split(\",\")))\n",
    "    intersections = cats.intersection(set(top_categories))\n",
    "    \n",
    "    return list(intersections)[0] if intersections else not_found"
   ]
  },
  {
   "cell_type": "code",
   "execution_count": 66,
   "metadata": {},
   "outputs": [],
   "source": [
    "find_top_cat_udf = udf(find_top_category, StringType())\n",
    "\n",
    "business_with_top = business_df.withColumn(\"top_category\", find_top_cat_udf(col(\"categories\")))"
   ]
  },
  {
   "cell_type": "code",
   "execution_count": 67,
   "metadata": {
    "scrolled": true
   },
   "outputs": [
    {
     "name": "stdout",
     "output_type": "stream",
     "text": [
      "root\n",
      " |-- address: string (nullable = true)\n",
      " |-- attributes: struct (nullable = true)\n",
      " |    |-- AcceptsInsurance: string (nullable = true)\n",
      " |    |-- AgesAllowed: string (nullable = true)\n",
      " |    |-- Alcohol: string (nullable = true)\n",
      " |    |-- Ambience: string (nullable = true)\n",
      " |    |-- BYOB: string (nullable = true)\n",
      " |    |-- BYOBCorkage: string (nullable = true)\n",
      " |    |-- BestNights: string (nullable = true)\n",
      " |    |-- BikeParking: string (nullable = true)\n",
      " |    |-- BusinessAcceptsBitcoin: string (nullable = true)\n",
      " |    |-- BusinessAcceptsCreditCards: string (nullable = true)\n",
      " |    |-- BusinessParking: string (nullable = true)\n",
      " |    |-- ByAppointmentOnly: string (nullable = true)\n",
      " |    |-- Caters: string (nullable = true)\n",
      " |    |-- CoatCheck: string (nullable = true)\n",
      " |    |-- Corkage: string (nullable = true)\n",
      " |    |-- DietaryRestrictions: string (nullable = true)\n",
      " |    |-- DogsAllowed: string (nullable = true)\n",
      " |    |-- DriveThru: string (nullable = true)\n",
      " |    |-- GoodForDancing: string (nullable = true)\n",
      " |    |-- GoodForKids: string (nullable = true)\n",
      " |    |-- GoodForMeal: string (nullable = true)\n",
      " |    |-- HairSpecializesIn: string (nullable = true)\n",
      " |    |-- HappyHour: string (nullable = true)\n",
      " |    |-- HasTV: string (nullable = true)\n",
      " |    |-- Music: string (nullable = true)\n",
      " |    |-- NoiseLevel: string (nullable = true)\n",
      " |    |-- Open24Hours: string (nullable = true)\n",
      " |    |-- OutdoorSeating: string (nullable = true)\n",
      " |    |-- RestaurantsAttire: string (nullable = true)\n",
      " |    |-- RestaurantsCounterService: string (nullable = true)\n",
      " |    |-- RestaurantsDelivery: string (nullable = true)\n",
      " |    |-- RestaurantsGoodForGroups: string (nullable = true)\n",
      " |    |-- RestaurantsPriceRange2: string (nullable = true)\n",
      " |    |-- RestaurantsReservations: string (nullable = true)\n",
      " |    |-- RestaurantsTableService: string (nullable = true)\n",
      " |    |-- RestaurantsTakeOut: string (nullable = true)\n",
      " |    |-- Smoking: string (nullable = true)\n",
      " |    |-- WheelchairAccessible: string (nullable = true)\n",
      " |    |-- WiFi: string (nullable = true)\n",
      " |-- business_id: string (nullable = true)\n",
      " |-- categories: string (nullable = true)\n",
      " |-- city: string (nullable = true)\n",
      " |-- hours: struct (nullable = true)\n",
      " |    |-- Friday: string (nullable = true)\n",
      " |    |-- Monday: string (nullable = true)\n",
      " |    |-- Saturday: string (nullable = true)\n",
      " |    |-- Sunday: string (nullable = true)\n",
      " |    |-- Thursday: string (nullable = true)\n",
      " |    |-- Tuesday: string (nullable = true)\n",
      " |    |-- Wednesday: string (nullable = true)\n",
      " |-- is_open: long (nullable = true)\n",
      " |-- latitude: double (nullable = true)\n",
      " |-- longitude: double (nullable = true)\n",
      " |-- name: string (nullable = true)\n",
      " |-- postal_code: string (nullable = true)\n",
      " |-- review_count: long (nullable = true)\n",
      " |-- stars: double (nullable = true)\n",
      " |-- state: string (nullable = true)\n",
      " |-- top_category: string (nullable = true)\n",
      "\n"
     ]
    }
   ],
   "source": [
    "business_with_top.printSchema()"
   ]
  },
  {
   "cell_type": "code",
   "execution_count": 170,
   "metadata": {},
   "outputs": [],
   "source": [
    "business_features = business_with_top.select(\"business_id\", \"top_category\", \"review_count\", \"stars\", \"state\", \"city\")"
   ]
  },
  {
   "cell_type": "code",
   "execution_count": 171,
   "metadata": {},
   "outputs": [],
   "source": [
    "business_side_info_dir = os.path.join(data_home, \"side_info/business_features\")\n",
    "business_features.coalesce(1).write.csv(\n",
    "    business_side_info_dir, \n",
    "    header=True,\n",
    "    mode=\"overwrite\")"
   ]
  },
  {
   "cell_type": "code",
   "execution_count": 172,
   "metadata": {},
   "outputs": [
    {
     "name": "stdout",
     "output_type": "stream",
     "text": [
      "MOVING /media/ExtHDD01/recsys_data/yelp_dataset/tidy_data/side_info/business_features/part-00000-1e222c16-9f41-4e1c-af85-a4c74a1268ec-c000.csv \n",
      "TO /media/ExtHDD01/recsys_data/yelp_dataset/tidy_data/side_info/business_features.csv\n",
      "Done!\n",
      "\n"
     ]
    }
   ],
   "source": [
    "collapse_dir_to_single_file(business_side_info_dir)"
   ]
  },
  {
   "cell_type": "code",
   "execution_count": 174,
   "metadata": {},
   "outputs": [
    {
     "name": "stdout",
     "output_type": "stream",
     "text": [
      "MOVING /media/ExtHDD01/recsys_data/yelp_dataset/tidy_data/side_info/business_name_table/part-00000-b7674344-4372-4959-939d-f9e3b7656b9a-c000.csv \n",
      "TO /media/ExtHDD01/recsys_data/yelp_dataset/tidy_data/side_info/business_name_table.csv\n",
      "Done!\n",
      "\n"
     ]
    }
   ],
   "source": [
    "business_name_table = business_with_top.select(\"business_id\", \"name\")\n",
    "business_name_dir = os.path.join(data_home, \"side_info/business_name_table\")\n",
    "business_name_table.coalesce(1).write.csv(\n",
    "    business_name_dir,\n",
    "    header=True,\n",
    "    mode=\"overwrite\")\n",
    "collapse_dir_to_single_file(business_name_dir)"
   ]
  },
  {
   "cell_type": "markdown",
   "metadata": {},
   "source": [
    "# Generate user side information"
   ]
  },
  {
   "cell_type": "code",
   "execution_count": 84,
   "metadata": {},
   "outputs": [],
   "source": [
    "user_info = spark.read.json(os.path.join(data_home, \"user.json\"))"
   ]
  },
  {
   "cell_type": "code",
   "execution_count": 85,
   "metadata": {},
   "outputs": [],
   "source": [
    "selected_cols = user_info.columns\n",
    "selected_cols.remove(\"friends\")"
   ]
  },
  {
   "cell_type": "code",
   "execution_count": 86,
   "metadata": {},
   "outputs": [],
   "source": [
    "user_side_info = user_info.select(*selected_cols)"
   ]
  },
  {
   "cell_type": "code",
   "execution_count": 87,
   "metadata": {
    "scrolled": true
   },
   "outputs": [
    {
     "name": "stdout",
     "output_type": "stream",
     "text": [
      "root\n",
      " |-- average_stars: double (nullable = true)\n",
      " |-- compliment_cool: long (nullable = true)\n",
      " |-- compliment_cute: long (nullable = true)\n",
      " |-- compliment_funny: long (nullable = true)\n",
      " |-- compliment_hot: long (nullable = true)\n",
      " |-- compliment_list: long (nullable = true)\n",
      " |-- compliment_more: long (nullable = true)\n",
      " |-- compliment_note: long (nullable = true)\n",
      " |-- compliment_photos: long (nullable = true)\n",
      " |-- compliment_plain: long (nullable = true)\n",
      " |-- compliment_profile: long (nullable = true)\n",
      " |-- compliment_writer: long (nullable = true)\n",
      " |-- cool: long (nullable = true)\n",
      " |-- elite: string (nullable = true)\n",
      " |-- fans: long (nullable = true)\n",
      " |-- funny: long (nullable = true)\n",
      " |-- name: string (nullable = true)\n",
      " |-- review_count: long (nullable = true)\n",
      " |-- useful: long (nullable = true)\n",
      " |-- user_id: string (nullable = true)\n",
      " |-- yelping_since: string (nullable = true)\n",
      "\n"
     ]
    }
   ],
   "source": [
    "user_side_info.printSchema()"
   ]
  },
  {
   "cell_type": "code",
   "execution_count": 160,
   "metadata": {},
   "outputs": [],
   "source": [
    "user_side_info = user_side_info.toPandas()"
   ]
  },
  {
   "cell_type": "code",
   "execution_count": 161,
   "metadata": {},
   "outputs": [],
   "source": [
    "user_side_info_comp_related = user_side_info[[col for col in user_side_info.columns if \"compliment_\" in col]]\n",
    "\n",
    "cnt_compliment = user_side_info_comp_related.sum(axis=1)\n",
    "\n",
    "user_side_info = user_side_info[[col for col in user_side_info.columns if \"compliment_\" not in col]]\n",
    "\n",
    "user_side_info[\"cnt_compliment\"] = cnt_compliment\n",
    "\n",
    "del user_side_info[\"name\"]"
   ]
  },
  {
   "cell_type": "code",
   "execution_count": 162,
   "metadata": {},
   "outputs": [],
   "source": [
    "def vec_time_delta(time_series, anchor_time):\n",
    "    time_delta = np.array(anchor_time, dtype='datetime64[D]') - np.array(yelping_time, dtype='datetime64[D]') \n",
    "    return pd.Series(time_delta.astype(int))"
   ]
  },
  {
   "cell_type": "code",
   "execution_count": 165,
   "metadata": {},
   "outputs": [],
   "source": [
    "yelping_time = pd.to_datetime(user_side_info.yelping_since)\n",
    "\n",
    "user_side_info[\"yelp_days\"] = vec_time_delta(yelping_time, \"2019-12-31\")\n",
    "\n",
    "del user_side_info[\"yelping_since\"]\n",
    "\n",
    "user_side_info[\"elite_years\"] = user_side_info.elite.fillna(\"\").apply(lambda s: len(str(s).split(\",\")) if s else 0)\n",
    "\n",
    "del user_side_info[\"elite\"]"
   ]
  },
  {
   "cell_type": "code",
   "execution_count": 166,
   "metadata": {},
   "outputs": [
    {
     "data": {
      "text/html": [
       "<div>\n",
       "<style scoped>\n",
       "    .dataframe tbody tr th:only-of-type {\n",
       "        vertical-align: middle;\n",
       "    }\n",
       "\n",
       "    .dataframe tbody tr th {\n",
       "        vertical-align: top;\n",
       "    }\n",
       "\n",
       "    .dataframe thead th {\n",
       "        text-align: right;\n",
       "    }\n",
       "</style>\n",
       "<table border=\"1\" class=\"dataframe\">\n",
       "  <thead>\n",
       "    <tr style=\"text-align: right;\">\n",
       "      <th></th>\n",
       "      <th>average_stars</th>\n",
       "      <th>cool</th>\n",
       "      <th>fans</th>\n",
       "      <th>funny</th>\n",
       "      <th>review_count</th>\n",
       "      <th>useful</th>\n",
       "      <th>user_id</th>\n",
       "      <th>cnt_compliment</th>\n",
       "      <th>yelp_days</th>\n",
       "      <th>elite_years</th>\n",
       "    </tr>\n",
       "  </thead>\n",
       "  <tbody>\n",
       "    <tr>\n",
       "      <th>0</th>\n",
       "      <td>4.03</td>\n",
       "      <td>25</td>\n",
       "      <td>5</td>\n",
       "      <td>17</td>\n",
       "      <td>95</td>\n",
       "      <td>84</td>\n",
       "      <td>l6BmjZMeQD3rDxWUbiAiow</td>\n",
       "      <td>8</td>\n",
       "      <td>2275</td>\n",
       "      <td>3</td>\n",
       "    </tr>\n",
       "    <tr>\n",
       "      <th>1</th>\n",
       "      <td>3.63</td>\n",
       "      <td>16</td>\n",
       "      <td>4</td>\n",
       "      <td>22</td>\n",
       "      <td>33</td>\n",
       "      <td>48</td>\n",
       "      <td>4XChL029mKr5hydo79Ljxg</td>\n",
       "      <td>3</td>\n",
       "      <td>2504</td>\n",
       "      <td>0</td>\n",
       "    </tr>\n",
       "    <tr>\n",
       "      <th>2</th>\n",
       "      <td>3.71</td>\n",
       "      <td>10</td>\n",
       "      <td>0</td>\n",
       "      <td>8</td>\n",
       "      <td>16</td>\n",
       "      <td>28</td>\n",
       "      <td>bc8C_eETBWL0olvFSJJd0w</td>\n",
       "      <td>1</td>\n",
       "      <td>2279</td>\n",
       "      <td>0</td>\n",
       "    </tr>\n",
       "    <tr>\n",
       "      <th>3</th>\n",
       "      <td>4.85</td>\n",
       "      <td>14</td>\n",
       "      <td>5</td>\n",
       "      <td>4</td>\n",
       "      <td>17</td>\n",
       "      <td>30</td>\n",
       "      <td>dD0gZpBctWGdWo9WlGuhlA</td>\n",
       "      <td>4</td>\n",
       "      <td>2049</td>\n",
       "      <td>0</td>\n",
       "    </tr>\n",
       "    <tr>\n",
       "      <th>4</th>\n",
       "      <td>4.08</td>\n",
       "      <td>665</td>\n",
       "      <td>39</td>\n",
       "      <td>279</td>\n",
       "      <td>361</td>\n",
       "      <td>1114</td>\n",
       "      <td>MM4RJAeH6yuaN8oZDSt0RA</td>\n",
       "      <td>293</td>\n",
       "      <td>2260</td>\n",
       "      <td>4</td>\n",
       "    </tr>\n",
       "  </tbody>\n",
       "</table>\n",
       "</div>"
      ],
      "text/plain": [
       "   average_stars  cool  fans  funny  review_count  useful  \\\n",
       "0           4.03    25     5     17            95      84   \n",
       "1           3.63    16     4     22            33      48   \n",
       "2           3.71    10     0      8            16      28   \n",
       "3           4.85    14     5      4            17      30   \n",
       "4           4.08   665    39    279           361    1114   \n",
       "\n",
       "                  user_id  cnt_compliment  yelp_days  elite_years  \n",
       "0  l6BmjZMeQD3rDxWUbiAiow               8       2275            3  \n",
       "1  4XChL029mKr5hydo79Ljxg               3       2504            0  \n",
       "2  bc8C_eETBWL0olvFSJJd0w               1       2279            0  \n",
       "3  dD0gZpBctWGdWo9WlGuhlA               4       2049            0  \n",
       "4  MM4RJAeH6yuaN8oZDSt0RA             293       2260            4  "
      ]
     },
     "execution_count": 166,
     "metadata": {},
     "output_type": "execute_result"
    }
   ],
   "source": [
    "user_side_info.head()"
   ]
  },
  {
   "cell_type": "code",
   "execution_count": 168,
   "metadata": {},
   "outputs": [],
   "source": [
    "user_side_info_path = os.path.join(data_home, \"side_info/user.del_friends.csv\")\n",
    "user_side_info.to_csv(user_side_info_path, index=False)"
   ]
  },
  {
   "cell_type": "markdown",
   "metadata": {},
   "source": [
    "# Sample negative test candidates"
   ]
  },
  {
   "cell_type": "code",
   "execution_count": 117,
   "metadata": {},
   "outputs": [],
   "source": [
    "candidate_num = 200"
   ]
  },
  {
   "cell_type": "code",
   "execution_count": 92,
   "metadata": {},
   "outputs": [],
   "source": [
    "candidates_group = (business_with_top.groupBy(\"top_category\", \"state\")\n",
    "                    .agg(F.collect_list(\"business_id\").alias(\"candidates\")))"
   ]
  },
  {
   "cell_type": "code",
   "execution_count": 103,
   "metadata": {},
   "outputs": [],
   "source": [
    "test_join_candidates = (business_with_top.select(\"business_id\", \"top_category\", \"state\")\n",
    ".join(test_reviews.select(\"business_id\", \"user_id\"), on=\"business_id\")\n",
    ".join(candidates_group, on=[\"top_category\", \"state\"])\n",
    ".drop(\"top_category\", \"state\"))"
   ]
  },
  {
   "cell_type": "code",
   "execution_count": 108,
   "metadata": {},
   "outputs": [],
   "source": [
    "from pyspark.sql.functions import explode, rand"
   ]
  },
  {
   "cell_type": "code",
   "execution_count": 115,
   "metadata": {},
   "outputs": [],
   "source": [
    "test_candidates = (test_join_candidates\n",
    "                    .select( \"user_id\", \"business_id\", explode(test_join_candidates.candidates).alias(\"neg_cand\"))\n",
    "                    .filter(col(\"business_id\") != col(\"neg_cand\"))\n",
    "                    .withColumn(\"random_num\", rand()))"
   ]
  },
  {
   "cell_type": "code",
   "execution_count": 116,
   "metadata": {},
   "outputs": [],
   "source": [
    "window = Window.partitionBy(\"user_id\", \"business_id\").orderBy(F.desc(\"random_num\"))"
   ]
  },
  {
   "cell_type": "code",
   "execution_count": 119,
   "metadata": {},
   "outputs": [],
   "source": [
    "test_candidates = (test_candidates.withColumn(\"rank\", F.dense_rank().over(window))\n",
    "                   .filter(col(\"rank\") <= candidate_num))"
   ]
  },
  {
   "cell_type": "code",
   "execution_count": 120,
   "metadata": {},
   "outputs": [
    {
     "name": "stdout",
     "output_type": "stream",
     "text": [
      "+--------------------+--------------------+--------------------+------------------+----+\n",
      "|             user_id|         business_id|            neg_cand|        random_num|rank|\n",
      "+--------------------+--------------------+--------------------+------------------+----+\n",
      "|-3i9bhfvrM3F1wsC9...|ghpFh6XpH1TYZhjAG...|6kZ5oQALI1NsP-y6H...| 0.999779010587621|   1|\n",
      "|-3i9bhfvrM3F1wsC9...|ghpFh6XpH1TYZhjAG...|GnZ0VSACXC0J4Pg2m...|0.9997078350764168|   2|\n",
      "|-3i9bhfvrM3F1wsC9...|ghpFh6XpH1TYZhjAG...|qLWzcf5m-ynm-JNpM...|0.9996312372452258|   3|\n",
      "|-3i9bhfvrM3F1wsC9...|ghpFh6XpH1TYZhjAG...|wrWdywCI7uLbDb6v0...|0.9995906019245152|   4|\n",
      "|-3i9bhfvrM3F1wsC9...|ghpFh6XpH1TYZhjAG...|gJj_X9tpxs038IpYu...|0.9994173900082054|   5|\n",
      "|-3i9bhfvrM3F1wsC9...|ghpFh6XpH1TYZhjAG...|laAQAiNJs-Tq844Wi...|0.9993643159139213|   6|\n",
      "|-3i9bhfvrM3F1wsC9...|ghpFh6XpH1TYZhjAG...|vOK_dCDl39hd1IhNH...|0.9992927394741269|   7|\n",
      "|-3i9bhfvrM3F1wsC9...|ghpFh6XpH1TYZhjAG...|4A_KR6E3ziZvuNVru...|0.9990651730506802|   8|\n",
      "|-3i9bhfvrM3F1wsC9...|ghpFh6XpH1TYZhjAG...|DkWunOuC9bgqNpPTf...|0.9988504573444089|   9|\n",
      "|-3i9bhfvrM3F1wsC9...|ghpFh6XpH1TYZhjAG...|OfLdWSqZ4HM_-B5kh...|0.9987099766663285|  10|\n",
      "|-3i9bhfvrM3F1wsC9...|ghpFh6XpH1TYZhjAG...|qIbXdUmyiKsSAnsTu...|0.9986486307168101|  11|\n",
      "|-3i9bhfvrM3F1wsC9...|ghpFh6XpH1TYZhjAG...|ztOM7xebpPl7OUgOE...|0.9985670181680724|  12|\n",
      "|-3i9bhfvrM3F1wsC9...|ghpFh6XpH1TYZhjAG...|U4ePUdVasbs-icGNJ...|0.9983894334359075|  13|\n",
      "|-3i9bhfvrM3F1wsC9...|ghpFh6XpH1TYZhjAG...|M1rJDgwkCy7uaPyzi...|0.9983782055715882|  14|\n",
      "|-3i9bhfvrM3F1wsC9...|ghpFh6XpH1TYZhjAG...|9Wh8GuOO9cbXKd89W...|0.9983111175901282|  15|\n",
      "|-3i9bhfvrM3F1wsC9...|ghpFh6XpH1TYZhjAG...|3dP3Kv4U7Oo7gvVyS...|0.9979674637342166|  16|\n",
      "|-3i9bhfvrM3F1wsC9...|ghpFh6XpH1TYZhjAG...|Ok5Cicp54qsCsLzZ_...|0.9975042404889972|  17|\n",
      "|-3i9bhfvrM3F1wsC9...|ghpFh6XpH1TYZhjAG...|QxryP1tMihliEZwsO...|0.9973040949784255|  18|\n",
      "|-3i9bhfvrM3F1wsC9...|ghpFh6XpH1TYZhjAG...|moe9q72WXhXJ1E7xp...|0.9972746352282793|  19|\n",
      "|-3i9bhfvrM3F1wsC9...|ghpFh6XpH1TYZhjAG...|gdbF_T9tdL_lRU9l3...|0.9972292282901597|  20|\n",
      "+--------------------+--------------------+--------------------+------------------+----+\n",
      "only showing top 20 rows\n",
      "\n"
     ]
    }
   ],
   "source": [
    "test_candidates.show()"
   ]
  },
  {
   "cell_type": "code",
   "execution_count": 122,
   "metadata": {},
   "outputs": [],
   "source": [
    "test_ui_with_nested_candidates = (test_candidates.groupBy(\"user_id\", \"business_id\")\n",
    "                                                 .agg(F.collect_list(\"neg_cand\").alias(\"candidates\")))"
   ]
  },
  {
   "cell_type": "code",
   "execution_count": 123,
   "metadata": {},
   "outputs": [
    {
     "name": "stdout",
     "output_type": "stream",
     "text": [
      "+--------------------+--------------------+--------------------+\n",
      "|             user_id|         business_id|          candidates|\n",
      "+--------------------+--------------------+--------------------+\n",
      "|-3i9bhfvrM3F1wsC9...|ghpFh6XpH1TYZhjAG...|[6kZ5oQALI1NsP-y6...|\n",
      "|-55DgUo52I3zW9Rxk...|M_XPxdozcz7SI0APL...|[CrrgNQdhZH_ZTsju...|\n",
      "|-9da1xk7zgnnfO1uT...|ZL15NFVdN7hG0NUXp...|[bo0pXRc-eTsXMw1P...|\n",
      "|-GKEFg_92pp0q842c...|caHv7LRXKNTYLK_Ay...|[Vg4fqLpVxISU9Erc...|\n",
      "|-LFUxu48rLMWmOVN2...|mNj3O80xDcT9Ltz8o...|[0DIt3Q2UzWXfMSfP...|\n",
      "|-NnADpikTs6IWM9tb...|2oVJN6hH5OC2gyWAe...|[E2Thv67Hf-l-08Wq...|\n",
      "|-dErbI4sHSkRz6oxj...|zKDuRdTHXYpRO2VjT...|[quYRn_b9q_0LyOLj...|\n",
      "|-hnBzgVoRoqLrGVSx...|In8gjAPQ1eE2F2OMY...|[CsbNmQqu9dKFrgcI...|\n",
      "|-inp099-1gsJF3KPa...|ud3CUNbFOPYgDbxsf...|[uG14cj5EUGssWv6A...|\n",
      "|-vSUDEQB9j2DaP8_4...|_5inlOVvlrCOKcI77...|[Pg0s3KdDqhKHYva0...|\n",
      "|0-UxxxWLz1muOzPx2...|Fhd14aofUI-fMBR43...|[1zIEkahfChNyOSu8...|\n",
      "|00PJZDRvUeg2ZgQQ1...|gnV8-S02xSBHhWFv4...|[dGG9FSznfmefT7tr...|\n",
      "|01HpNrCSLNWbQG9Fv...|yPgUkQxj8CYPKF89H...|[i4yx2YalngO2NWzo...|\n",
      "|02GRsrv1UsME7tVwF...|9NbXXKZ1lB7w7QaAp...|[CikOhGCgZIRKnHGi...|\n",
      "|0AlnetQ_-a4f7kY0S...|1DP5vHxJzCDbgawv0...|[5PZefPGncZH6AWMq...|\n",
      "|0BMTo253SdSZpmZbA...|Mxqvdq_2KwZGUjeo2...|[SJr6Hs_XS4ubUq8N...|\n",
      "|0LUt7xSvYgLpL0zBe...|ABgeUaVsMEqkcOI4b...|[RyTEGJz5tG7zC73B...|\n",
      "|0M4x1qpXH1-Ssuepp...|O7HkpdnXpwKNgsA9D...|[-1uVyyy3UXNA9WoP...|\n",
      "|0Stp6aD_JpDuPMAmd...|vx4YAA02Qz6khRD1f...|[1ifkamskfIVf4Lxo...|\n",
      "|0h9pkbfpq0ietregz...|T1tvWywCdTv8YiK-r...|[Q5tBXo-ol_bHjkOC...|\n",
      "+--------------------+--------------------+--------------------+\n",
      "only showing top 20 rows\n",
      "\n"
     ]
    }
   ],
   "source": [
    "test_ui_with_nested_candidates.show()"
   ]
  },
  {
   "cell_type": "code",
   "execution_count": 145,
   "metadata": {},
   "outputs": [],
   "source": [
    "test_ui_with_candidates = test_candidates.select(\"user_id\",\"business_id\",col(\"neg_cand\").alias(\"candidate_id\"))"
   ]
  },
  {
   "cell_type": "code",
   "execution_count": 146,
   "metadata": {},
   "outputs": [
    {
     "name": "stdout",
     "output_type": "stream",
     "text": [
      "root\n",
      " |-- user_id: string (nullable = true)\n",
      " |-- business_id: string (nullable = true)\n",
      " |-- candidate_id: string (nullable = true)\n",
      "\n"
     ]
    }
   ],
   "source": [
    "test_ui_with_candidates.printSchema()"
   ]
  },
  {
   "cell_type": "code",
   "execution_count": 11,
   "metadata": {},
   "outputs": [],
   "source": [
    "train = pd.read_csv(os.path.join(data_home, dataset_name, \"yelp.train.csv\"))[[\"user_id\", \"business_id\", \"stars\"]]"
   ]
  },
  {
   "cell_type": "code",
   "execution_count": 12,
   "metadata": {},
   "outputs": [],
   "source": [
    "# remove samples within the train set\n",
    "join_table = test_ui_with_candidates.merge(train, on=(\"user_id\", \"business_id\"), how=\"left\")"
   ]
  },
  {
   "cell_type": "code",
   "execution_count": 19,
   "metadata": {},
   "outputs": [
    {
     "data": {
      "text/html": [
       "<div>\n",
       "<style scoped>\n",
       "    .dataframe tbody tr th:only-of-type {\n",
       "        vertical-align: middle;\n",
       "    }\n",
       "\n",
       "    .dataframe tbody tr th {\n",
       "        vertical-align: top;\n",
       "    }\n",
       "\n",
       "    .dataframe thead th {\n",
       "        text-align: right;\n",
       "    }\n",
       "</style>\n",
       "<table border=\"1\" class=\"dataframe\">\n",
       "  <thead>\n",
       "    <tr style=\"text-align: right;\">\n",
       "      <th></th>\n",
       "      <th>user_id</th>\n",
       "      <th>business_id</th>\n",
       "      <th>candidate_id</th>\n",
       "    </tr>\n",
       "  </thead>\n",
       "  <tbody>\n",
       "    <tr>\n",
       "      <th>0</th>\n",
       "      <td>-3i9bhfvrM3F1wsC9XIB8g</td>\n",
       "      <td>ghpFh6XpH1TYZhjAGdx-xw</td>\n",
       "      <td>6kZ5oQALI1NsP-y6H3cKWQ</td>\n",
       "    </tr>\n",
       "    <tr>\n",
       "      <th>1</th>\n",
       "      <td>-3i9bhfvrM3F1wsC9XIB8g</td>\n",
       "      <td>ghpFh6XpH1TYZhjAGdx-xw</td>\n",
       "      <td>GnZ0VSACXC0J4Pg2mxTT1A</td>\n",
       "    </tr>\n",
       "    <tr>\n",
       "      <th>2</th>\n",
       "      <td>-3i9bhfvrM3F1wsC9XIB8g</td>\n",
       "      <td>ghpFh6XpH1TYZhjAGdx-xw</td>\n",
       "      <td>qLWzcf5m-ynm-JNpM4E7KQ</td>\n",
       "    </tr>\n",
       "    <tr>\n",
       "      <th>3</th>\n",
       "      <td>-3i9bhfvrM3F1wsC9XIB8g</td>\n",
       "      <td>ghpFh6XpH1TYZhjAGdx-xw</td>\n",
       "      <td>wrWdywCI7uLbDb6v07KpKg</td>\n",
       "    </tr>\n",
       "    <tr>\n",
       "      <th>4</th>\n",
       "      <td>-3i9bhfvrM3F1wsC9XIB8g</td>\n",
       "      <td>ghpFh6XpH1TYZhjAGdx-xw</td>\n",
       "      <td>gJj_X9tpxs038IpYuCdDvw</td>\n",
       "    </tr>\n",
       "    <tr>\n",
       "      <th>...</th>\n",
       "      <td>...</td>\n",
       "      <td>...</td>\n",
       "      <td>...</td>\n",
       "    </tr>\n",
       "    <tr>\n",
       "      <th>24394706</th>\n",
       "      <td>zzRq3Ykz8yfr2mcsPhYnEg</td>\n",
       "      <td>zUgDrRtGvK5ZTFlHCsTHwA</td>\n",
       "      <td>ArI4L2dLFa_U4ecu6UIBMA</td>\n",
       "    </tr>\n",
       "    <tr>\n",
       "      <th>24394707</th>\n",
       "      <td>zzRq3Ykz8yfr2mcsPhYnEg</td>\n",
       "      <td>zUgDrRtGvK5ZTFlHCsTHwA</td>\n",
       "      <td>3nzK3K-Dfo1L6mpB8FTKkw</td>\n",
       "    </tr>\n",
       "    <tr>\n",
       "      <th>24394708</th>\n",
       "      <td>zzRq3Ykz8yfr2mcsPhYnEg</td>\n",
       "      <td>zUgDrRtGvK5ZTFlHCsTHwA</td>\n",
       "      <td>V0GryzKJfygQOK-n8Hw5Mw</td>\n",
       "    </tr>\n",
       "    <tr>\n",
       "      <th>24394709</th>\n",
       "      <td>zzRq3Ykz8yfr2mcsPhYnEg</td>\n",
       "      <td>zUgDrRtGvK5ZTFlHCsTHwA</td>\n",
       "      <td>PWjaIjXAXXfs_I4TnAfvtQ</td>\n",
       "    </tr>\n",
       "    <tr>\n",
       "      <th>24394710</th>\n",
       "      <td>zzRq3Ykz8yfr2mcsPhYnEg</td>\n",
       "      <td>zUgDrRtGvK5ZTFlHCsTHwA</td>\n",
       "      <td>MldtbULi0uqWxduSyE663w</td>\n",
       "    </tr>\n",
       "  </tbody>\n",
       "</table>\n",
       "<p>24394711 rows × 3 columns</p>\n",
       "</div>"
      ],
      "text/plain": [
       "                         user_id             business_id  \\\n",
       "0         -3i9bhfvrM3F1wsC9XIB8g  ghpFh6XpH1TYZhjAGdx-xw   \n",
       "1         -3i9bhfvrM3F1wsC9XIB8g  ghpFh6XpH1TYZhjAGdx-xw   \n",
       "2         -3i9bhfvrM3F1wsC9XIB8g  ghpFh6XpH1TYZhjAGdx-xw   \n",
       "3         -3i9bhfvrM3F1wsC9XIB8g  ghpFh6XpH1TYZhjAGdx-xw   \n",
       "4         -3i9bhfvrM3F1wsC9XIB8g  ghpFh6XpH1TYZhjAGdx-xw   \n",
       "...                          ...                     ...   \n",
       "24394706  zzRq3Ykz8yfr2mcsPhYnEg  zUgDrRtGvK5ZTFlHCsTHwA   \n",
       "24394707  zzRq3Ykz8yfr2mcsPhYnEg  zUgDrRtGvK5ZTFlHCsTHwA   \n",
       "24394708  zzRq3Ykz8yfr2mcsPhYnEg  zUgDrRtGvK5ZTFlHCsTHwA   \n",
       "24394709  zzRq3Ykz8yfr2mcsPhYnEg  zUgDrRtGvK5ZTFlHCsTHwA   \n",
       "24394710  zzRq3Ykz8yfr2mcsPhYnEg  zUgDrRtGvK5ZTFlHCsTHwA   \n",
       "\n",
       "                    candidate_id  \n",
       "0         6kZ5oQALI1NsP-y6H3cKWQ  \n",
       "1         GnZ0VSACXC0J4Pg2mxTT1A  \n",
       "2         qLWzcf5m-ynm-JNpM4E7KQ  \n",
       "3         wrWdywCI7uLbDb6v07KpKg  \n",
       "4         gJj_X9tpxs038IpYuCdDvw  \n",
       "...                          ...  \n",
       "24394706  ArI4L2dLFa_U4ecu6UIBMA  \n",
       "24394707  3nzK3K-Dfo1L6mpB8FTKkw  \n",
       "24394708  V0GryzKJfygQOK-n8Hw5Mw  \n",
       "24394709  PWjaIjXAXXfs_I4TnAfvtQ  \n",
       "24394710  MldtbULi0uqWxduSyE663w  \n",
       "\n",
       "[24394711 rows x 3 columns]"
      ]
     },
     "execution_count": 19,
     "metadata": {},
     "output_type": "execute_result"
    }
   ],
   "source": [
    "test_ui_with_candidates"
   ]
  },
  {
   "cell_type": "code",
   "execution_count": 20,
   "metadata": {},
   "outputs": [],
   "source": [
    "filtered_candidates = join_table[pd.isna(join_table[\"stars\"])][[\"user_id\", \"business_id\", \"candidate_id\"]]"
   ]
  },
  {
   "cell_type": "code",
   "execution_count": 24,
   "metadata": {},
   "outputs": [
    {
     "data": {
      "text/html": [
       "<div>\n",
       "<style scoped>\n",
       "    .dataframe tbody tr th:only-of-type {\n",
       "        vertical-align: middle;\n",
       "    }\n",
       "\n",
       "    .dataframe tbody tr th {\n",
       "        vertical-align: top;\n",
       "    }\n",
       "\n",
       "    .dataframe thead th {\n",
       "        text-align: right;\n",
       "    }\n",
       "</style>\n",
       "<table border=\"1\" class=\"dataframe\">\n",
       "  <thead>\n",
       "    <tr style=\"text-align: right;\">\n",
       "      <th></th>\n",
       "      <th>user_id</th>\n",
       "      <th>business_id</th>\n",
       "      <th>candidate_id</th>\n",
       "    </tr>\n",
       "  </thead>\n",
       "  <tbody>\n",
       "    <tr>\n",
       "      <th>0</th>\n",
       "      <td>-3i9bhfvrM3F1wsC9XIB8g</td>\n",
       "      <td>ghpFh6XpH1TYZhjAGdx-xw</td>\n",
       "      <td>6kZ5oQALI1NsP-y6H3cKWQ</td>\n",
       "    </tr>\n",
       "    <tr>\n",
       "      <th>1</th>\n",
       "      <td>-3i9bhfvrM3F1wsC9XIB8g</td>\n",
       "      <td>ghpFh6XpH1TYZhjAGdx-xw</td>\n",
       "      <td>GnZ0VSACXC0J4Pg2mxTT1A</td>\n",
       "    </tr>\n",
       "    <tr>\n",
       "      <th>2</th>\n",
       "      <td>-3i9bhfvrM3F1wsC9XIB8g</td>\n",
       "      <td>ghpFh6XpH1TYZhjAGdx-xw</td>\n",
       "      <td>qLWzcf5m-ynm-JNpM4E7KQ</td>\n",
       "    </tr>\n",
       "    <tr>\n",
       "      <th>3</th>\n",
       "      <td>-3i9bhfvrM3F1wsC9XIB8g</td>\n",
       "      <td>ghpFh6XpH1TYZhjAGdx-xw</td>\n",
       "      <td>wrWdywCI7uLbDb6v07KpKg</td>\n",
       "    </tr>\n",
       "    <tr>\n",
       "      <th>4</th>\n",
       "      <td>-3i9bhfvrM3F1wsC9XIB8g</td>\n",
       "      <td>ghpFh6XpH1TYZhjAGdx-xw</td>\n",
       "      <td>gJj_X9tpxs038IpYuCdDvw</td>\n",
       "    </tr>\n",
       "    <tr>\n",
       "      <th>...</th>\n",
       "      <td>...</td>\n",
       "      <td>...</td>\n",
       "      <td>...</td>\n",
       "    </tr>\n",
       "    <tr>\n",
       "      <th>24742719</th>\n",
       "      <td>zzRq3Ykz8yfr2mcsPhYnEg</td>\n",
       "      <td>zUgDrRtGvK5ZTFlHCsTHwA</td>\n",
       "      <td>ArI4L2dLFa_U4ecu6UIBMA</td>\n",
       "    </tr>\n",
       "    <tr>\n",
       "      <th>24742720</th>\n",
       "      <td>zzRq3Ykz8yfr2mcsPhYnEg</td>\n",
       "      <td>zUgDrRtGvK5ZTFlHCsTHwA</td>\n",
       "      <td>3nzK3K-Dfo1L6mpB8FTKkw</td>\n",
       "    </tr>\n",
       "    <tr>\n",
       "      <th>24742721</th>\n",
       "      <td>zzRq3Ykz8yfr2mcsPhYnEg</td>\n",
       "      <td>zUgDrRtGvK5ZTFlHCsTHwA</td>\n",
       "      <td>V0GryzKJfygQOK-n8Hw5Mw</td>\n",
       "    </tr>\n",
       "    <tr>\n",
       "      <th>24742722</th>\n",
       "      <td>zzRq3Ykz8yfr2mcsPhYnEg</td>\n",
       "      <td>zUgDrRtGvK5ZTFlHCsTHwA</td>\n",
       "      <td>PWjaIjXAXXfs_I4TnAfvtQ</td>\n",
       "    </tr>\n",
       "    <tr>\n",
       "      <th>24742723</th>\n",
       "      <td>zzRq3Ykz8yfr2mcsPhYnEg</td>\n",
       "      <td>zUgDrRtGvK5ZTFlHCsTHwA</td>\n",
       "      <td>MldtbULi0uqWxduSyE663w</td>\n",
       "    </tr>\n",
       "  </tbody>\n",
       "</table>\n",
       "<p>22807872 rows × 3 columns</p>\n",
       "</div>"
      ],
      "text/plain": [
       "                         user_id             business_id  \\\n",
       "0         -3i9bhfvrM3F1wsC9XIB8g  ghpFh6XpH1TYZhjAGdx-xw   \n",
       "1         -3i9bhfvrM3F1wsC9XIB8g  ghpFh6XpH1TYZhjAGdx-xw   \n",
       "2         -3i9bhfvrM3F1wsC9XIB8g  ghpFh6XpH1TYZhjAGdx-xw   \n",
       "3         -3i9bhfvrM3F1wsC9XIB8g  ghpFh6XpH1TYZhjAGdx-xw   \n",
       "4         -3i9bhfvrM3F1wsC9XIB8g  ghpFh6XpH1TYZhjAGdx-xw   \n",
       "...                          ...                     ...   \n",
       "24742719  zzRq3Ykz8yfr2mcsPhYnEg  zUgDrRtGvK5ZTFlHCsTHwA   \n",
       "24742720  zzRq3Ykz8yfr2mcsPhYnEg  zUgDrRtGvK5ZTFlHCsTHwA   \n",
       "24742721  zzRq3Ykz8yfr2mcsPhYnEg  zUgDrRtGvK5ZTFlHCsTHwA   \n",
       "24742722  zzRq3Ykz8yfr2mcsPhYnEg  zUgDrRtGvK5ZTFlHCsTHwA   \n",
       "24742723  zzRq3Ykz8yfr2mcsPhYnEg  zUgDrRtGvK5ZTFlHCsTHwA   \n",
       "\n",
       "                    candidate_id  \n",
       "0         6kZ5oQALI1NsP-y6H3cKWQ  \n",
       "1         GnZ0VSACXC0J4Pg2mxTT1A  \n",
       "2         qLWzcf5m-ynm-JNpM4E7KQ  \n",
       "3         wrWdywCI7uLbDb6v07KpKg  \n",
       "4         gJj_X9tpxs038IpYuCdDvw  \n",
       "...                          ...  \n",
       "24742719  ArI4L2dLFa_U4ecu6UIBMA  \n",
       "24742720  3nzK3K-Dfo1L6mpB8FTKkw  \n",
       "24742721  V0GryzKJfygQOK-n8Hw5Mw  \n",
       "24742722  PWjaIjXAXXfs_I4TnAfvtQ  \n",
       "24742723  MldtbULi0uqWxduSyE663w  \n",
       "\n",
       "[22807872 rows x 3 columns]"
      ]
     },
     "execution_count": 24,
     "metadata": {},
     "output_type": "execute_result"
    }
   ],
   "source": [
    "filtered_candidates"
   ]
  },
  {
   "cell_type": "code",
   "execution_count": 11,
   "metadata": {},
   "outputs": [],
   "source": [
    "test_ground_truth = filtered_candidates[[\"user_id\", \"business_id\"]]"
   ]
  },
  {
   "cell_type": "code",
   "execution_count": 12,
   "metadata": {},
   "outputs": [
    {
     "name": "stderr",
     "output_type": "stream",
     "text": [
      "/opt/anaconda3/envs/Spark/lib/python3.6/site-packages/ipykernel_launcher.py:1: SettingWithCopyWarning: \n",
      "A value is trying to be set on a copy of a slice from a DataFrame\n",
      "\n",
      "See the caveats in the documentation: http://pandas.pydata.org/pandas-docs/stable/user_guide/indexing.html#returning-a-view-versus-a-copy\n",
      "  \"\"\"Entry point for launching an IPython kernel.\n"
     ]
    }
   ],
   "source": [
    "test_ground_truth.drop_duplicates(inplace=True)"
   ]
  },
  {
   "cell_type": "code",
   "execution_count": 17,
   "metadata": {
    "scrolled": true
   },
   "outputs": [],
   "source": [
    "test_ground_truth = test_ground_truth.reset_index(drop=True)"
   ]
  },
  {
   "cell_type": "code",
   "execution_count": 19,
   "metadata": {},
   "outputs": [],
   "source": [
    "test_ground_truth.rename(columns={\"business_id\":\"candidate_id\"}, inplace=True)"
   ]
  },
  {
   "cell_type": "code",
   "execution_count": 23,
   "metadata": {},
   "outputs": [
    {
     "data": {
      "text/html": [
       "<div>\n",
       "<style scoped>\n",
       "    .dataframe tbody tr th:only-of-type {\n",
       "        vertical-align: middle;\n",
       "    }\n",
       "\n",
       "    .dataframe tbody tr th {\n",
       "        vertical-align: top;\n",
       "    }\n",
       "\n",
       "    .dataframe thead th {\n",
       "        text-align: right;\n",
       "    }\n",
       "</style>\n",
       "<table border=\"1\" class=\"dataframe\">\n",
       "  <thead>\n",
       "    <tr style=\"text-align: right;\">\n",
       "      <th></th>\n",
       "      <th>user_id</th>\n",
       "      <th>candidate_id</th>\n",
       "    </tr>\n",
       "  </thead>\n",
       "  <tbody>\n",
       "    <tr>\n",
       "      <th>0</th>\n",
       "      <td>-3i9bhfvrM3F1wsC9XIB8g</td>\n",
       "      <td>ghpFh6XpH1TYZhjAGdx-xw</td>\n",
       "    </tr>\n",
       "    <tr>\n",
       "      <th>1</th>\n",
       "      <td>-9da1xk7zgnnfO1uTVYGkA</td>\n",
       "      <td>ZL15NFVdN7hG0NUXppkU9Q</td>\n",
       "    </tr>\n",
       "    <tr>\n",
       "      <th>2</th>\n",
       "      <td>-GKEFg_92pp0q842clS_Jw</td>\n",
       "      <td>caHv7LRXKNTYLK_Ay7RB2w</td>\n",
       "    </tr>\n",
       "    <tr>\n",
       "      <th>3</th>\n",
       "      <td>-LFUxu48rLMWmOVN2ANEdQ</td>\n",
       "      <td>mNj3O80xDcT9Ltz8oyzt9g</td>\n",
       "    </tr>\n",
       "    <tr>\n",
       "      <th>4</th>\n",
       "      <td>-NnADpikTs6IWM9tbNO3Zg</td>\n",
       "      <td>2oVJN6hH5OC2gyWAe_Taug</td>\n",
       "    </tr>\n",
       "    <tr>\n",
       "      <th>...</th>\n",
       "      <td>...</td>\n",
       "      <td>...</td>\n",
       "    </tr>\n",
       "    <tr>\n",
       "      <th>114772</th>\n",
       "      <td>zb3IKmIEIaBqMevAiP3o_g</td>\n",
       "      <td>ezh06vIIRSmCAkpLsu8SOw</td>\n",
       "    </tr>\n",
       "    <tr>\n",
       "      <th>114773</th>\n",
       "      <td>zgFpxIm2_I86lhtHOdmjsQ</td>\n",
       "      <td>udGrKu1eJ_Qdd6O1PeUrmg</td>\n",
       "    </tr>\n",
       "    <tr>\n",
       "      <th>114774</th>\n",
       "      <td>zmHpLrDO7pgOQ6_cnea_Qw</td>\n",
       "      <td>j8yiyt6iTlP_fq8ZS1oR4A</td>\n",
       "    </tr>\n",
       "    <tr>\n",
       "      <th>114775</th>\n",
       "      <td>zpypx3tz7Y6kB1Yn64ytuA</td>\n",
       "      <td>zXAH-mQyIj9ErATOQwcaIQ</td>\n",
       "    </tr>\n",
       "    <tr>\n",
       "      <th>114776</th>\n",
       "      <td>zzRq3Ykz8yfr2mcsPhYnEg</td>\n",
       "      <td>zUgDrRtGvK5ZTFlHCsTHwA</td>\n",
       "    </tr>\n",
       "  </tbody>\n",
       "</table>\n",
       "<p>114777 rows × 2 columns</p>\n",
       "</div>"
      ],
      "text/plain": [
       "                       user_id            candidate_id\n",
       "0       -3i9bhfvrM3F1wsC9XIB8g  ghpFh6XpH1TYZhjAGdx-xw\n",
       "1       -9da1xk7zgnnfO1uTVYGkA  ZL15NFVdN7hG0NUXppkU9Q\n",
       "2       -GKEFg_92pp0q842clS_Jw  caHv7LRXKNTYLK_Ay7RB2w\n",
       "3       -LFUxu48rLMWmOVN2ANEdQ  mNj3O80xDcT9Ltz8oyzt9g\n",
       "4       -NnADpikTs6IWM9tbNO3Zg  2oVJN6hH5OC2gyWAe_Taug\n",
       "...                        ...                     ...\n",
       "114772  zb3IKmIEIaBqMevAiP3o_g  ezh06vIIRSmCAkpLsu8SOw\n",
       "114773  zgFpxIm2_I86lhtHOdmjsQ  udGrKu1eJ_Qdd6O1PeUrmg\n",
       "114774  zmHpLrDO7pgOQ6_cnea_Qw  j8yiyt6iTlP_fq8ZS1oR4A\n",
       "114775  zpypx3tz7Y6kB1Yn64ytuA  zXAH-mQyIj9ErATOQwcaIQ\n",
       "114776  zzRq3Ykz8yfr2mcsPhYnEg  zUgDrRtGvK5ZTFlHCsTHwA\n",
       "\n",
       "[114777 rows x 2 columns]"
      ]
     },
     "execution_count": 23,
     "metadata": {},
     "output_type": "execute_result"
    }
   ],
   "source": [
    "test_ground_truth"
   ]
  },
  {
   "cell_type": "code",
   "execution_count": 25,
   "metadata": {},
   "outputs": [],
   "source": [
    "# combine test ground truth back\n",
    "candidates = pd.concat([test_ground_truth, filtered_candidates[[\"user_id\", \"candidate_id\"]]]).reset_index(drop=True)"
   ]
  },
  {
   "cell_type": "code",
   "execution_count": 26,
   "metadata": {},
   "outputs": [],
   "source": [
    "candidates.to_parquet(os.path.join(data_home, dataset_name, \"test_candidates.parquet\"))"
   ]
  }
 ],
 "metadata": {
  "kernelspec": {
   "display_name": "Python (Spark)",
   "language": "python",
   "name": "spark"
  },
  "language_info": {
   "codemirror_mode": {
    "name": "ipython",
    "version": 3
   },
   "file_extension": ".py",
   "mimetype": "text/x-python",
   "name": "python",
   "nbconvert_exporter": "python",
   "pygments_lexer": "ipython3",
   "version": "3.6.9"
  }
 },
 "nbformat": 4,
 "nbformat_minor": 2
}
