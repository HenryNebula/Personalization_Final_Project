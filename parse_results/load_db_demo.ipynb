{
 "cells": [
  {
   "cell_type": "code",
   "execution_count": 1,
   "metadata": {},
   "outputs": [],
   "source": [
    "%load_ext autoreload\n",
    "%autoreload 2"
   ]
  },
  {
   "cell_type": "code",
   "execution_count": 2,
   "metadata": {},
   "outputs": [],
   "source": [
    "import sys\n",
    "sys.path.append(\"../\")"
   ]
  },
  {
   "cell_type": "code",
   "execution_count": 6,
   "metadata": {},
   "outputs": [],
   "source": [
    "from src.utility.Summary import Summary"
   ]
  },
  {
   "cell_type": "code",
   "execution_count": 4,
   "metadata": {},
   "outputs": [],
   "source": [
    "db_paths = [\"sqlite:///\" + p for p in [\"default_server.db\", \"new_server.db\"]]"
   ]
  },
  {
   "cell_type": "code",
   "execution_count": 14,
   "metadata": {},
   "outputs": [],
   "source": [
    "results_default = Summary(db_paths[0]).drop_dupicate_results()"
   ]
  },
  {
   "cell_type": "code",
   "execution_count": 15,
   "metadata": {},
   "outputs": [
    {
     "data": {
      "text/html": [
       "<div>\n",
       "<style scoped>\n",
       "    .dataframe tbody tr th:only-of-type {\n",
       "        vertical-align: middle;\n",
       "    }\n",
       "\n",
       "    .dataframe tbody tr th {\n",
       "        vertical-align: top;\n",
       "    }\n",
       "\n",
       "    .dataframe thead th {\n",
       "        text-align: right;\n",
       "    }\n",
       "</style>\n",
       "<table border=\"1\" class=\"dataframe\">\n",
       "  <thead>\n",
       "    <tr style=\"text-align: right;\">\n",
       "      <th></th>\n",
       "      <th>dataset</th>\n",
       "      <th>model</th>\n",
       "      <th>hyper</th>\n",
       "      <th>metric</th>\n",
       "      <th>value</th>\n",
       "      <th>fold</th>\n",
       "      <th>path</th>\n",
       "      <th>ts</th>\n",
       "    </tr>\n",
       "  </thead>\n",
       "  <tbody>\n",
       "    <tr>\n",
       "      <th>0</th>\n",
       "      <td>user_10_item_1_exp</td>\n",
       "      <td>CollectiveMF_Item</td>\n",
       "      <td>[('k', 5), ('reg_param', 0.0001), ('w_main', 1...</td>\n",
       "      <td>ndcg@10</td>\n",
       "      <td>0.123180</td>\n",
       "      <td>-1</td>\n",
       "      <td>/media/ExtHDD01/log/user_10_item_1_exp/Collect...</td>\n",
       "      <td>2019-12-14 22:24:21.891581</td>\n",
       "    </tr>\n",
       "    <tr>\n",
       "      <th>1</th>\n",
       "      <td>user_10_item_1_exp</td>\n",
       "      <td>CollectiveMF_Item</td>\n",
       "      <td>[('k', 5), ('reg_param', 0.0001), ('w_main', 1...</td>\n",
       "      <td>precision@10</td>\n",
       "      <td>0.023056</td>\n",
       "      <td>-1</td>\n",
       "      <td>/media/ExtHDD01/log/user_10_item_1_exp/Collect...</td>\n",
       "      <td>2019-12-14 22:24:21.892773</td>\n",
       "    </tr>\n",
       "    <tr>\n",
       "      <th>2</th>\n",
       "      <td>user_10_item_1_exp</td>\n",
       "      <td>CollectiveMF_Item</td>\n",
       "      <td>[('k', 5), ('reg_param', 0.0001), ('w_main', 1...</td>\n",
       "      <td>rmse</td>\n",
       "      <td>1.424648</td>\n",
       "      <td>-1</td>\n",
       "      <td>/media/ExtHDD01/log/user_10_item_1_exp/Collect...</td>\n",
       "      <td>2019-12-14 22:24:21.933194</td>\n",
       "    </tr>\n",
       "    <tr>\n",
       "      <th>3</th>\n",
       "      <td>user_10_item_1_exp</td>\n",
       "      <td>CollectiveMF_User</td>\n",
       "      <td>[('k', 4), ('reg_param', 0.0001), ('w_main', 0...</td>\n",
       "      <td>ndcg@10</td>\n",
       "      <td>0.115833</td>\n",
       "      <td>-1</td>\n",
       "      <td>/media/ExtHDD01/log/user_10_item_1_exp/Collect...</td>\n",
       "      <td>2019-12-14 23:46:09.847732</td>\n",
       "    </tr>\n",
       "    <tr>\n",
       "      <th>4</th>\n",
       "      <td>user_10_item_1_exp</td>\n",
       "      <td>CollectiveMF_User</td>\n",
       "      <td>[('k', 4), ('reg_param', 0.0001), ('w_main', 0...</td>\n",
       "      <td>precision@10</td>\n",
       "      <td>0.022114</td>\n",
       "      <td>-1</td>\n",
       "      <td>/media/ExtHDD01/log/user_10_item_1_exp/Collect...</td>\n",
       "      <td>2019-12-14 23:46:09.848187</td>\n",
       "    </tr>\n",
       "  </tbody>\n",
       "</table>\n",
       "</div>"
      ],
      "text/plain": [
       "              dataset            ...                                     ts\n",
       "0  user_10_item_1_exp            ...             2019-12-14 22:24:21.891581\n",
       "1  user_10_item_1_exp            ...             2019-12-14 22:24:21.892773\n",
       "2  user_10_item_1_exp            ...             2019-12-14 22:24:21.933194\n",
       "3  user_10_item_1_exp            ...             2019-12-14 23:46:09.847732\n",
       "4  user_10_item_1_exp            ...             2019-12-14 23:46:09.848187\n",
       "\n",
       "[5 rows x 8 columns]"
      ]
     },
     "execution_count": 15,
     "metadata": {},
     "output_type": "execute_result"
    }
   ],
   "source": [
    "results_default.head()"
   ]
  },
  {
   "cell_type": "code",
   "execution_count": 21,
   "metadata": {},
   "outputs": [],
   "source": [
    "results_default.to_csv(\"results_default.csv\", header=True, index=False)"
   ]
  },
  {
   "cell_type": "code",
   "execution_count": 16,
   "metadata": {},
   "outputs": [],
   "source": [
    "results_new = Summary(db_paths[1]).drop_dupicate_results()"
   ]
  },
  {
   "cell_type": "code",
   "execution_count": 19,
   "metadata": {},
   "outputs": [
    {
     "data": {
      "text/html": [
       "<div>\n",
       "<style scoped>\n",
       "    .dataframe tbody tr th:only-of-type {\n",
       "        vertical-align: middle;\n",
       "    }\n",
       "\n",
       "    .dataframe tbody tr th {\n",
       "        vertical-align: top;\n",
       "    }\n",
       "\n",
       "    .dataframe thead th {\n",
       "        text-align: right;\n",
       "    }\n",
       "</style>\n",
       "<table border=\"1\" class=\"dataframe\">\n",
       "  <thead>\n",
       "    <tr style=\"text-align: right;\">\n",
       "      <th></th>\n",
       "      <th>dataset</th>\n",
       "      <th>model</th>\n",
       "      <th>hyper</th>\n",
       "      <th>metric</th>\n",
       "      <th>value</th>\n",
       "      <th>fold</th>\n",
       "      <th>path</th>\n",
       "      <th>ts</th>\n",
       "    </tr>\n",
       "  </thead>\n",
       "  <tbody>\n",
       "    <tr>\n",
       "      <th>0</th>\n",
       "      <td>user_10_item_1_exp</td>\n",
       "      <td>FMItem</td>\n",
       "      <td>[('model_info_used', 'Item'), ('n_iter', 10)]</td>\n",
       "      <td>precision@10</td>\n",
       "      <td>0.032249</td>\n",
       "      <td>-1</td>\n",
       "      <td>/home/data/log/user_10_item_1_exp/FMItem/model...</td>\n",
       "      <td>2019-12-15 21:39:54.376275</td>\n",
       "    </tr>\n",
       "    <tr>\n",
       "      <th>1</th>\n",
       "      <td>user_10_item_1_exp</td>\n",
       "      <td>FMItem</td>\n",
       "      <td>[('model_info_used', 'Item'), ('n_iter', 10)]</td>\n",
       "      <td>rmse</td>\n",
       "      <td>131.929279</td>\n",
       "      <td>-1</td>\n",
       "      <td>/home/data/log/user_10_item_1_exp/FMItem/model...</td>\n",
       "      <td>2019-12-15 21:39:54.385861</td>\n",
       "    </tr>\n",
       "    <tr>\n",
       "      <th>2</th>\n",
       "      <td>user_10_item_1_exp</td>\n",
       "      <td>BPR</td>\n",
       "      <td>[('factors', 20), ('iteration', 20), ('learnin...</td>\n",
       "      <td>ndcg@10</td>\n",
       "      <td>0.044866</td>\n",
       "      <td>-1</td>\n",
       "      <td>/home/data/log/user_10_item_1_exp/Test_implici...</td>\n",
       "      <td>2019-12-15 21:52:36.102647</td>\n",
       "    </tr>\n",
       "    <tr>\n",
       "      <th>3</th>\n",
       "      <td>user_10_item_1_exp</td>\n",
       "      <td>BPR</td>\n",
       "      <td>[('factors', 20), ('iteration', 20), ('learnin...</td>\n",
       "      <td>precision@10</td>\n",
       "      <td>0.008741</td>\n",
       "      <td>-1</td>\n",
       "      <td>/home/data/log/user_10_item_1_exp/Test_implici...</td>\n",
       "      <td>2019-12-15 21:52:36.103137</td>\n",
       "    </tr>\n",
       "    <tr>\n",
       "      <th>4</th>\n",
       "      <td>user_10_item_1_exp</td>\n",
       "      <td>BPR</td>\n",
       "      <td>[('factors', 20), ('iteration', 20), ('learnin...</td>\n",
       "      <td>rmse</td>\n",
       "      <td>0.998907</td>\n",
       "      <td>-1</td>\n",
       "      <td>/home/data/log/user_10_item_1_exp/Test_implici...</td>\n",
       "      <td>2019-12-15 21:52:36.111569</td>\n",
       "    </tr>\n",
       "  </tbody>\n",
       "</table>\n",
       "</div>"
      ],
      "text/plain": [
       "              dataset            ...                                     ts\n",
       "0  user_10_item_1_exp            ...             2019-12-15 21:39:54.376275\n",
       "1  user_10_item_1_exp            ...             2019-12-15 21:39:54.385861\n",
       "2  user_10_item_1_exp            ...             2019-12-15 21:52:36.102647\n",
       "3  user_10_item_1_exp            ...             2019-12-15 21:52:36.103137\n",
       "4  user_10_item_1_exp            ...             2019-12-15 21:52:36.111569\n",
       "\n",
       "[5 rows x 8 columns]"
      ]
     },
     "execution_count": 19,
     "metadata": {},
     "output_type": "execute_result"
    }
   ],
   "source": [
    "results_new.head()"
   ]
  },
  {
   "cell_type": "code",
   "execution_count": 22,
   "metadata": {},
   "outputs": [],
   "source": [
    "results_new.to_csv(\"results_new.csv\", header=True, index=False)"
   ]
  }
 ],
 "metadata": {
  "kernelspec": {
   "display_name": "Python 3",
   "language": "python",
   "name": "python3"
  },
  "language_info": {
   "codemirror_mode": {
    "name": "ipython",
    "version": 3
   },
   "file_extension": ".py",
   "mimetype": "text/x-python",
   "name": "python",
   "nbconvert_exporter": "python",
   "pygments_lexer": "ipython3",
   "version": "3.6.2"
  }
 },
 "nbformat": 4,
 "nbformat_minor": 2
}
