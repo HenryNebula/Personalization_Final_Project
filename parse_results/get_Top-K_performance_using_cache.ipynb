{
 "cells": [
  {
   "cell_type": "code",
   "execution_count": 1,
   "metadata": {},
   "outputs": [],
   "source": [
    "import numpy as np, pandas as pd\n",
    "from datetime import datetime\n",
    "from copy import deepcopy"
   ]
  },
  {
   "cell_type": "code",
   "execution_count": 2,
   "metadata": {},
   "outputs": [],
   "source": [
    "%load_ext autoreload\n",
    "%autoreload 2\n",
    "\n",
    "import sys\n",
    "sys.path.append(\"../\")"
   ]
  },
  {
   "cell_type": "code",
   "execution_count": 3,
   "metadata": {},
   "outputs": [],
   "source": [
    "from src.data_pipeline.DataLoader import DataLoader\n",
    "from src.utility.sys_utils import get_spark"
   ]
  },
  {
   "cell_type": "code",
   "execution_count": 4,
   "metadata": {},
   "outputs": [],
   "source": [
    "from src.data_pipeline.pipeline import test_evaluation\n",
    "from src.utility.Summary import Summary"
   ]
  },
  {
   "cell_type": "markdown",
   "metadata": {},
   "source": [
    "# Read data from files"
   ]
  },
  {
   "cell_type": "code",
   "execution_count": 9,
   "metadata": {},
   "outputs": [],
   "source": [
    "# change the config file to your own file, otherwise it will not find proper path\n",
    "dataloader = DataLoader(dataset_name=\"user_10_item_1_exp\", config_name=\"default_config.json\")\n",
    "spark = get_spark(cores=4)"
   ]
  },
  {
   "cell_type": "markdown",
   "metadata": {},
   "source": [
    "# Get optimal parameter for a model"
   ]
  },
  {
   "cell_type": "code",
   "execution_count": 10,
   "metadata": {},
   "outputs": [],
   "source": [
    "summary = Summary(dataloader.get_config().db_path)"
   ]
  },
  {
   "cell_type": "code",
   "execution_count": 11,
   "metadata": {},
   "outputs": [
    {
     "data": {
      "text/plain": [
       "array(['CollectiveMF_Item', 'CollectiveMF_User', 'CollectiveMF_No',\n",
       "       'CollectiveMF_Both', 'surprise_SVD', 'surprise_Baseline',\n",
       "       'PureRandom'], dtype=object)"
      ]
     },
     "execution_count": 11,
     "metadata": {},
     "output_type": "execute_result"
    }
   ],
   "source": [
    "available_models = summary.table.model.unique()\n",
    "available_models"
   ]
  },
  {
   "cell_type": "code",
   "execution_count": 12,
   "metadata": {},
   "outputs": [],
   "source": [
    "def get_topk_performance(models, model_class):\n",
    "    optimal_params = []\n",
    "    for model_name in models:\n",
    "        opt = summary.get_optimal_params(dataset_name=\"user_10_item_1_exp\", model_name=model_name, metric=\"ndcg@10\")\n",
    "        optimal_params.append(opt)\n",
    "    \n",
    "    for model_name, param in zip(models, optimal_params):\n",
    "        param_dict = dict(eval(param))\n",
    "        \n",
    "        if \"CollectiveMF\" in model_name:\n",
    "            use_item, use_user = False, False\n",
    "            if model_name == \"CollectiveMF_Item\":\n",
    "                use_item = True\n",
    "            elif model_name == \"CollectiveMF_User\":\n",
    "                use_user = True\n",
    "            elif model_name == \"CollectiveMF_Both\":\n",
    "                use_item, use_user = True, True\n",
    "            param_dict[\"use_user_info\"] = use_user\n",
    "            param_dict[\"use_item_info\"] = use_item\n",
    "\n",
    "        model = model_class(param_dict)\n",
    "\n",
    "        for k in range(10):\n",
    "            test_evaluation(data_loader=dataloader, model=model, spark=spark, caching=True, \n",
    "                            metrics=[\"ndcg\"], top_k=k+1)"
   ]
  },
  {
   "cell_type": "markdown",
   "metadata": {},
   "source": [
    "# Pure Random Model"
   ]
  },
  {
   "cell_type": "code",
   "execution_count": 5,
   "metadata": {},
   "outputs": [],
   "source": [
    "from src.model.PureRandom import PureRandom"
   ]
  },
  {
   "cell_type": "code",
   "execution_count": 13,
   "metadata": {
    "collapsed": true
   },
   "outputs": [
    {
     "name": "stdout",
     "output_type": "stream",
     "text": [
      "Best ndcg@10 of PureRandom is found as 0.023368252184845093\n",
      "Using cached file from /media/ExtHDD01/log/user_10_item_1_exp/PureRandom/random_state_42/Ranking_fold_-1.parquet\n",
      "Using cached file from /media/ExtHDD01/log/user_10_item_1_exp/PureRandom/random_state_42/Rating_fold_-1.parquet\n",
      "Finish inference phase\n",
      "Using cached file from /media/ExtHDD01/log/user_10_item_1_exp/PureRandom/random_state_42/Ranking_fold_-1.parquet\n",
      "Using cached file from /media/ExtHDD01/log/user_10_item_1_exp/PureRandom/random_state_42/Rating_fold_-1.parquet\n",
      "Finish inference phase\n",
      "Using cached file from /media/ExtHDD01/log/user_10_item_1_exp/PureRandom/random_state_42/Ranking_fold_-1.parquet\n",
      "Using cached file from /media/ExtHDD01/log/user_10_item_1_exp/PureRandom/random_state_42/Rating_fold_-1.parquet\n",
      "Finish inference phase\n",
      "Using cached file from /media/ExtHDD01/log/user_10_item_1_exp/PureRandom/random_state_42/Ranking_fold_-1.parquet\n",
      "Using cached file from /media/ExtHDD01/log/user_10_item_1_exp/PureRandom/random_state_42/Rating_fold_-1.parquet\n",
      "Finish inference phase\n",
      "Using cached file from /media/ExtHDD01/log/user_10_item_1_exp/PureRandom/random_state_42/Ranking_fold_-1.parquet\n",
      "Using cached file from /media/ExtHDD01/log/user_10_item_1_exp/PureRandom/random_state_42/Rating_fold_-1.parquet\n",
      "Finish inference phase\n",
      "Using cached file from /media/ExtHDD01/log/user_10_item_1_exp/PureRandom/random_state_42/Ranking_fold_-1.parquet\n",
      "Using cached file from /media/ExtHDD01/log/user_10_item_1_exp/PureRandom/random_state_42/Rating_fold_-1.parquet\n",
      "Finish inference phase\n",
      "Using cached file from /media/ExtHDD01/log/user_10_item_1_exp/PureRandom/random_state_42/Ranking_fold_-1.parquet\n",
      "Using cached file from /media/ExtHDD01/log/user_10_item_1_exp/PureRandom/random_state_42/Rating_fold_-1.parquet\n",
      "Finish inference phase\n",
      "Using cached file from /media/ExtHDD01/log/user_10_item_1_exp/PureRandom/random_state_42/Ranking_fold_-1.parquet\n",
      "Using cached file from /media/ExtHDD01/log/user_10_item_1_exp/PureRandom/random_state_42/Rating_fold_-1.parquet\n",
      "Finish inference phase\n",
      "Using cached file from /media/ExtHDD01/log/user_10_item_1_exp/PureRandom/random_state_42/Ranking_fold_-1.parquet\n",
      "Using cached file from /media/ExtHDD01/log/user_10_item_1_exp/PureRandom/random_state_42/Rating_fold_-1.parquet\n",
      "Finish inference phase\n",
      "Using cached file from /media/ExtHDD01/log/user_10_item_1_exp/PureRandom/random_state_42/Ranking_fold_-1.parquet\n",
      "Using cached file from /media/ExtHDD01/log/user_10_item_1_exp/PureRandom/random_state_42/Rating_fold_-1.parquet\n",
      "Finish inference phase\n"
     ]
    }
   ],
   "source": [
    "get_topk_performance([\"PureRandom\"], PureRandom)"
   ]
  },
  {
   "cell_type": "markdown",
   "metadata": {},
   "source": [
    "# Collective_MF"
   ]
  },
  {
   "cell_type": "code",
   "execution_count": 9,
   "metadata": {},
   "outputs": [],
   "source": [
    "from src.model.CollectiveMF import CollectiveMF"
   ]
  },
  {
   "cell_type": "code",
   "execution_count": 10,
   "metadata": {},
   "outputs": [],
   "source": [
    "models = ['CollectiveMF_Item', 'CollectiveMF_User', 'CollectiveMF_No','CollectiveMF_Both']"
   ]
  },
  {
   "cell_type": "code",
   "execution_count": 14,
   "metadata": {
    "collapsed": true
   },
   "outputs": [
    {
     "name": "stdout",
     "output_type": "stream",
     "text": [
      "Best ndcg@10 of CollectiveMF_Item is found as 0.13918122178525766\n",
      "Best ndcg@10 of CollectiveMF_User is found as 0.13722715694739973\n",
      "Best ndcg@10 of CollectiveMF_No is found as 0.13959638505198105\n",
      "Best ndcg@10 of CollectiveMF_Both is found as 0.17519375060900866\n",
      "Using cached file from /media/ExtHDD01/log/user_10_item_1_exp/CollectiveMF_Item/k_16-reg_param_0.01-w_main_0.5/Ranking_fold_-1.parquet\n",
      "Using cached file from /media/ExtHDD01/log/user_10_item_1_exp/CollectiveMF_Item/k_16-reg_param_0.01-w_main_0.5/Rating_fold_-1.parquet\n",
      "Finish inference phase\n",
      "Using cached file from /media/ExtHDD01/log/user_10_item_1_exp/CollectiveMF_Item/k_16-reg_param_0.01-w_main_0.5/Ranking_fold_-1.parquet\n",
      "Using cached file from /media/ExtHDD01/log/user_10_item_1_exp/CollectiveMF_Item/k_16-reg_param_0.01-w_main_0.5/Rating_fold_-1.parquet\n",
      "Finish inference phase\n",
      "Using cached file from /media/ExtHDD01/log/user_10_item_1_exp/CollectiveMF_Item/k_16-reg_param_0.01-w_main_0.5/Ranking_fold_-1.parquet\n",
      "Using cached file from /media/ExtHDD01/log/user_10_item_1_exp/CollectiveMF_Item/k_16-reg_param_0.01-w_main_0.5/Rating_fold_-1.parquet\n",
      "Finish inference phase\n",
      "Using cached file from /media/ExtHDD01/log/user_10_item_1_exp/CollectiveMF_Item/k_16-reg_param_0.01-w_main_0.5/Ranking_fold_-1.parquet\n",
      "Using cached file from /media/ExtHDD01/log/user_10_item_1_exp/CollectiveMF_Item/k_16-reg_param_0.01-w_main_0.5/Rating_fold_-1.parquet\n",
      "Finish inference phase\n",
      "Using cached file from /media/ExtHDD01/log/user_10_item_1_exp/CollectiveMF_Item/k_16-reg_param_0.01-w_main_0.5/Ranking_fold_-1.parquet\n",
      "Using cached file from /media/ExtHDD01/log/user_10_item_1_exp/CollectiveMF_Item/k_16-reg_param_0.01-w_main_0.5/Rating_fold_-1.parquet\n",
      "Finish inference phase\n",
      "Using cached file from /media/ExtHDD01/log/user_10_item_1_exp/CollectiveMF_Item/k_16-reg_param_0.01-w_main_0.5/Ranking_fold_-1.parquet\n",
      "Using cached file from /media/ExtHDD01/log/user_10_item_1_exp/CollectiveMF_Item/k_16-reg_param_0.01-w_main_0.5/Rating_fold_-1.parquet\n",
      "Finish inference phase\n",
      "Using cached file from /media/ExtHDD01/log/user_10_item_1_exp/CollectiveMF_Item/k_16-reg_param_0.01-w_main_0.5/Ranking_fold_-1.parquet\n",
      "Using cached file from /media/ExtHDD01/log/user_10_item_1_exp/CollectiveMF_Item/k_16-reg_param_0.01-w_main_0.5/Rating_fold_-1.parquet\n",
      "Finish inference phase\n",
      "Using cached file from /media/ExtHDD01/log/user_10_item_1_exp/CollectiveMF_Item/k_16-reg_param_0.01-w_main_0.5/Ranking_fold_-1.parquet\n",
      "Using cached file from /media/ExtHDD01/log/user_10_item_1_exp/CollectiveMF_Item/k_16-reg_param_0.01-w_main_0.5/Rating_fold_-1.parquet\n",
      "Finish inference phase\n",
      "Using cached file from /media/ExtHDD01/log/user_10_item_1_exp/CollectiveMF_Item/k_16-reg_param_0.01-w_main_0.5/Ranking_fold_-1.parquet\n",
      "Using cached file from /media/ExtHDD01/log/user_10_item_1_exp/CollectiveMF_Item/k_16-reg_param_0.01-w_main_0.5/Rating_fold_-1.parquet\n",
      "Finish inference phase\n",
      "Using cached file from /media/ExtHDD01/log/user_10_item_1_exp/CollectiveMF_Item/k_16-reg_param_0.01-w_main_0.5/Ranking_fold_-1.parquet\n",
      "Using cached file from /media/ExtHDD01/log/user_10_item_1_exp/CollectiveMF_Item/k_16-reg_param_0.01-w_main_0.5/Rating_fold_-1.parquet\n",
      "Finish inference phase\n",
      "Using cached file from /media/ExtHDD01/log/user_10_item_1_exp/CollectiveMF_User/k_16-reg_param_0.01-w_main_0.5/Ranking_fold_-1.parquet\n",
      "Using cached file from /media/ExtHDD01/log/user_10_item_1_exp/CollectiveMF_User/k_16-reg_param_0.01-w_main_0.5/Rating_fold_-1.parquet\n",
      "Finish inference phase\n",
      "Using cached file from /media/ExtHDD01/log/user_10_item_1_exp/CollectiveMF_User/k_16-reg_param_0.01-w_main_0.5/Ranking_fold_-1.parquet\n",
      "Using cached file from /media/ExtHDD01/log/user_10_item_1_exp/CollectiveMF_User/k_16-reg_param_0.01-w_main_0.5/Rating_fold_-1.parquet\n",
      "Finish inference phase\n",
      "Using cached file from /media/ExtHDD01/log/user_10_item_1_exp/CollectiveMF_User/k_16-reg_param_0.01-w_main_0.5/Ranking_fold_-1.parquet\n",
      "Using cached file from /media/ExtHDD01/log/user_10_item_1_exp/CollectiveMF_User/k_16-reg_param_0.01-w_main_0.5/Rating_fold_-1.parquet\n",
      "Finish inference phase\n",
      "Using cached file from /media/ExtHDD01/log/user_10_item_1_exp/CollectiveMF_User/k_16-reg_param_0.01-w_main_0.5/Ranking_fold_-1.parquet\n",
      "Using cached file from /media/ExtHDD01/log/user_10_item_1_exp/CollectiveMF_User/k_16-reg_param_0.01-w_main_0.5/Rating_fold_-1.parquet\n",
      "Finish inference phase\n",
      "Using cached file from /media/ExtHDD01/log/user_10_item_1_exp/CollectiveMF_User/k_16-reg_param_0.01-w_main_0.5/Ranking_fold_-1.parquet\n",
      "Using cached file from /media/ExtHDD01/log/user_10_item_1_exp/CollectiveMF_User/k_16-reg_param_0.01-w_main_0.5/Rating_fold_-1.parquet\n",
      "Finish inference phase\n",
      "Using cached file from /media/ExtHDD01/log/user_10_item_1_exp/CollectiveMF_User/k_16-reg_param_0.01-w_main_0.5/Ranking_fold_-1.parquet\n",
      "Using cached file from /media/ExtHDD01/log/user_10_item_1_exp/CollectiveMF_User/k_16-reg_param_0.01-w_main_0.5/Rating_fold_-1.parquet\n",
      "Finish inference phase\n",
      "Using cached file from /media/ExtHDD01/log/user_10_item_1_exp/CollectiveMF_User/k_16-reg_param_0.01-w_main_0.5/Ranking_fold_-1.parquet\n",
      "Using cached file from /media/ExtHDD01/log/user_10_item_1_exp/CollectiveMF_User/k_16-reg_param_0.01-w_main_0.5/Rating_fold_-1.parquet\n",
      "Finish inference phase\n",
      "Using cached file from /media/ExtHDD01/log/user_10_item_1_exp/CollectiveMF_User/k_16-reg_param_0.01-w_main_0.5/Ranking_fold_-1.parquet\n",
      "Using cached file from /media/ExtHDD01/log/user_10_item_1_exp/CollectiveMF_User/k_16-reg_param_0.01-w_main_0.5/Rating_fold_-1.parquet\n",
      "Finish inference phase\n",
      "Using cached file from /media/ExtHDD01/log/user_10_item_1_exp/CollectiveMF_User/k_16-reg_param_0.01-w_main_0.5/Ranking_fold_-1.parquet\n",
      "Using cached file from /media/ExtHDD01/log/user_10_item_1_exp/CollectiveMF_User/k_16-reg_param_0.01-w_main_0.5/Rating_fold_-1.parquet\n",
      "Finish inference phase\n",
      "Using cached file from /media/ExtHDD01/log/user_10_item_1_exp/CollectiveMF_User/k_16-reg_param_0.01-w_main_0.5/Ranking_fold_-1.parquet\n",
      "Using cached file from /media/ExtHDD01/log/user_10_item_1_exp/CollectiveMF_User/k_16-reg_param_0.01-w_main_0.5/Rating_fold_-1.parquet\n",
      "Finish inference phase\n",
      "Using cached file from /media/ExtHDD01/log/user_10_item_1_exp/CollectiveMF_No/k_16-reg_param_0.01-w_main_0.5/Ranking_fold_-1.parquet\n",
      "Using cached file from /media/ExtHDD01/log/user_10_item_1_exp/CollectiveMF_No/k_16-reg_param_0.01-w_main_0.5/Rating_fold_-1.parquet\n",
      "Finish inference phase\n",
      "Using cached file from /media/ExtHDD01/log/user_10_item_1_exp/CollectiveMF_No/k_16-reg_param_0.01-w_main_0.5/Ranking_fold_-1.parquet\n",
      "Using cached file from /media/ExtHDD01/log/user_10_item_1_exp/CollectiveMF_No/k_16-reg_param_0.01-w_main_0.5/Rating_fold_-1.parquet\n",
      "Finish inference phase\n",
      "Using cached file from /media/ExtHDD01/log/user_10_item_1_exp/CollectiveMF_No/k_16-reg_param_0.01-w_main_0.5/Ranking_fold_-1.parquet\n",
      "Using cached file from /media/ExtHDD01/log/user_10_item_1_exp/CollectiveMF_No/k_16-reg_param_0.01-w_main_0.5/Rating_fold_-1.parquet\n",
      "Finish inference phase\n",
      "Using cached file from /media/ExtHDD01/log/user_10_item_1_exp/CollectiveMF_No/k_16-reg_param_0.01-w_main_0.5/Ranking_fold_-1.parquet\n",
      "Using cached file from /media/ExtHDD01/log/user_10_item_1_exp/CollectiveMF_No/k_16-reg_param_0.01-w_main_0.5/Rating_fold_-1.parquet\n",
      "Finish inference phase\n",
      "Using cached file from /media/ExtHDD01/log/user_10_item_1_exp/CollectiveMF_No/k_16-reg_param_0.01-w_main_0.5/Ranking_fold_-1.parquet\n",
      "Using cached file from /media/ExtHDD01/log/user_10_item_1_exp/CollectiveMF_No/k_16-reg_param_0.01-w_main_0.5/Rating_fold_-1.parquet\n",
      "Finish inference phase\n",
      "Using cached file from /media/ExtHDD01/log/user_10_item_1_exp/CollectiveMF_No/k_16-reg_param_0.01-w_main_0.5/Ranking_fold_-1.parquet\n",
      "Using cached file from /media/ExtHDD01/log/user_10_item_1_exp/CollectiveMF_No/k_16-reg_param_0.01-w_main_0.5/Rating_fold_-1.parquet\n",
      "Finish inference phase\n",
      "Using cached file from /media/ExtHDD01/log/user_10_item_1_exp/CollectiveMF_No/k_16-reg_param_0.01-w_main_0.5/Ranking_fold_-1.parquet\n",
      "Using cached file from /media/ExtHDD01/log/user_10_item_1_exp/CollectiveMF_No/k_16-reg_param_0.01-w_main_0.5/Rating_fold_-1.parquet\n",
      "Finish inference phase\n",
      "Using cached file from /media/ExtHDD01/log/user_10_item_1_exp/CollectiveMF_No/k_16-reg_param_0.01-w_main_0.5/Ranking_fold_-1.parquet\n",
      "Using cached file from /media/ExtHDD01/log/user_10_item_1_exp/CollectiveMF_No/k_16-reg_param_0.01-w_main_0.5/Rating_fold_-1.parquet\n"
     ]
    },
    {
     "name": "stdout",
     "output_type": "stream",
     "text": [
      "Finish inference phase\n",
      "Using cached file from /media/ExtHDD01/log/user_10_item_1_exp/CollectiveMF_No/k_16-reg_param_0.01-w_main_0.5/Ranking_fold_-1.parquet\n",
      "Using cached file from /media/ExtHDD01/log/user_10_item_1_exp/CollectiveMF_No/k_16-reg_param_0.01-w_main_0.5/Rating_fold_-1.parquet\n",
      "Finish inference phase\n",
      "Using cached file from /media/ExtHDD01/log/user_10_item_1_exp/CollectiveMF_No/k_16-reg_param_0.01-w_main_0.5/Ranking_fold_-1.parquet\n",
      "Using cached file from /media/ExtHDD01/log/user_10_item_1_exp/CollectiveMF_No/k_16-reg_param_0.01-w_main_0.5/Rating_fold_-1.parquet\n",
      "Finish inference phase\n",
      "Using cached file from /media/ExtHDD01/log/user_10_item_1_exp/CollectiveMF_Both/k_4-reg_param_0.01-w_main_1.0/Ranking_fold_-1.parquet\n",
      "Using cached file from /media/ExtHDD01/log/user_10_item_1_exp/CollectiveMF_Both/k_4-reg_param_0.01-w_main_1.0/Rating_fold_-1.parquet\n",
      "Finish inference phase\n",
      "Using cached file from /media/ExtHDD01/log/user_10_item_1_exp/CollectiveMF_Both/k_4-reg_param_0.01-w_main_1.0/Ranking_fold_-1.parquet\n",
      "Using cached file from /media/ExtHDD01/log/user_10_item_1_exp/CollectiveMF_Both/k_4-reg_param_0.01-w_main_1.0/Rating_fold_-1.parquet\n",
      "Finish inference phase\n",
      "Using cached file from /media/ExtHDD01/log/user_10_item_1_exp/CollectiveMF_Both/k_4-reg_param_0.01-w_main_1.0/Ranking_fold_-1.parquet\n",
      "Using cached file from /media/ExtHDD01/log/user_10_item_1_exp/CollectiveMF_Both/k_4-reg_param_0.01-w_main_1.0/Rating_fold_-1.parquet\n",
      "Finish inference phase\n",
      "Using cached file from /media/ExtHDD01/log/user_10_item_1_exp/CollectiveMF_Both/k_4-reg_param_0.01-w_main_1.0/Ranking_fold_-1.parquet\n",
      "Using cached file from /media/ExtHDD01/log/user_10_item_1_exp/CollectiveMF_Both/k_4-reg_param_0.01-w_main_1.0/Rating_fold_-1.parquet\n",
      "Finish inference phase\n",
      "Using cached file from /media/ExtHDD01/log/user_10_item_1_exp/CollectiveMF_Both/k_4-reg_param_0.01-w_main_1.0/Ranking_fold_-1.parquet\n",
      "Using cached file from /media/ExtHDD01/log/user_10_item_1_exp/CollectiveMF_Both/k_4-reg_param_0.01-w_main_1.0/Rating_fold_-1.parquet\n",
      "Finish inference phase\n",
      "Using cached file from /media/ExtHDD01/log/user_10_item_1_exp/CollectiveMF_Both/k_4-reg_param_0.01-w_main_1.0/Ranking_fold_-1.parquet\n",
      "Using cached file from /media/ExtHDD01/log/user_10_item_1_exp/CollectiveMF_Both/k_4-reg_param_0.01-w_main_1.0/Rating_fold_-1.parquet\n",
      "Finish inference phase\n",
      "Using cached file from /media/ExtHDD01/log/user_10_item_1_exp/CollectiveMF_Both/k_4-reg_param_0.01-w_main_1.0/Ranking_fold_-1.parquet\n",
      "Using cached file from /media/ExtHDD01/log/user_10_item_1_exp/CollectiveMF_Both/k_4-reg_param_0.01-w_main_1.0/Rating_fold_-1.parquet\n",
      "Finish inference phase\n",
      "Using cached file from /media/ExtHDD01/log/user_10_item_1_exp/CollectiveMF_Both/k_4-reg_param_0.01-w_main_1.0/Ranking_fold_-1.parquet\n",
      "Using cached file from /media/ExtHDD01/log/user_10_item_1_exp/CollectiveMF_Both/k_4-reg_param_0.01-w_main_1.0/Rating_fold_-1.parquet\n",
      "Finish inference phase\n",
      "Using cached file from /media/ExtHDD01/log/user_10_item_1_exp/CollectiveMF_Both/k_4-reg_param_0.01-w_main_1.0/Ranking_fold_-1.parquet\n",
      "Using cached file from /media/ExtHDD01/log/user_10_item_1_exp/CollectiveMF_Both/k_4-reg_param_0.01-w_main_1.0/Rating_fold_-1.parquet\n",
      "Finish inference phase\n",
      "Using cached file from /media/ExtHDD01/log/user_10_item_1_exp/CollectiveMF_Both/k_4-reg_param_0.01-w_main_1.0/Ranking_fold_-1.parquet\n",
      "Using cached file from /media/ExtHDD01/log/user_10_item_1_exp/CollectiveMF_Both/k_4-reg_param_0.01-w_main_1.0/Rating_fold_-1.parquet\n",
      "Finish inference phase\n"
     ]
    }
   ],
   "source": [
    "get_topk_performance(models, CollectiveMF)"
   ]
  },
  {
   "cell_type": "markdown",
   "metadata": {},
   "source": [
    "# surprise model (BaselineOnly & SVD)"
   ]
  },
  {
   "cell_type": "code",
   "execution_count": 17,
   "metadata": {},
   "outputs": [],
   "source": [
    "from src.model.surprise_Baseline import surprise_Baseline\n",
    "from src.model.surprise_SVD import surprise_SVD"
   ]
  },
  {
   "cell_type": "code",
   "execution_count": 23,
   "metadata": {
    "collapsed": true
   },
   "outputs": [
    {
     "name": "stdout",
     "output_type": "stream",
     "text": [
      "Best ndcg@10 of surprise_Baseline is found as 0.09295524312705684\n",
      "Using cached file from /media/ExtHDD01/log/user_10_item_1_exp/surprise_Baseline/reg_i_20-reg_u_15/Ranking_fold_-1.parquet\n",
      "Using cached file from /media/ExtHDD01/log/user_10_item_1_exp/surprise_Baseline/reg_i_20-reg_u_15/Rating_fold_-1.parquet\n",
      "Finish inference phase\n",
      "Using cached file from /media/ExtHDD01/log/user_10_item_1_exp/surprise_Baseline/reg_i_20-reg_u_15/Ranking_fold_-1.parquet\n",
      "Using cached file from /media/ExtHDD01/log/user_10_item_1_exp/surprise_Baseline/reg_i_20-reg_u_15/Rating_fold_-1.parquet\n",
      "Finish inference phase\n",
      "Using cached file from /media/ExtHDD01/log/user_10_item_1_exp/surprise_Baseline/reg_i_20-reg_u_15/Ranking_fold_-1.parquet\n",
      "Using cached file from /media/ExtHDD01/log/user_10_item_1_exp/surprise_Baseline/reg_i_20-reg_u_15/Rating_fold_-1.parquet\n",
      "Finish inference phase\n",
      "Using cached file from /media/ExtHDD01/log/user_10_item_1_exp/surprise_Baseline/reg_i_20-reg_u_15/Ranking_fold_-1.parquet\n",
      "Using cached file from /media/ExtHDD01/log/user_10_item_1_exp/surprise_Baseline/reg_i_20-reg_u_15/Rating_fold_-1.parquet\n",
      "Finish inference phase\n",
      "Using cached file from /media/ExtHDD01/log/user_10_item_1_exp/surprise_Baseline/reg_i_20-reg_u_15/Ranking_fold_-1.parquet\n",
      "Using cached file from /media/ExtHDD01/log/user_10_item_1_exp/surprise_Baseline/reg_i_20-reg_u_15/Rating_fold_-1.parquet\n",
      "Finish inference phase\n",
      "Using cached file from /media/ExtHDD01/log/user_10_item_1_exp/surprise_Baseline/reg_i_20-reg_u_15/Ranking_fold_-1.parquet\n",
      "Using cached file from /media/ExtHDD01/log/user_10_item_1_exp/surprise_Baseline/reg_i_20-reg_u_15/Rating_fold_-1.parquet\n",
      "Finish inference phase\n",
      "Using cached file from /media/ExtHDD01/log/user_10_item_1_exp/surprise_Baseline/reg_i_20-reg_u_15/Ranking_fold_-1.parquet\n",
      "Using cached file from /media/ExtHDD01/log/user_10_item_1_exp/surprise_Baseline/reg_i_20-reg_u_15/Rating_fold_-1.parquet\n",
      "Finish inference phase\n",
      "Using cached file from /media/ExtHDD01/log/user_10_item_1_exp/surprise_Baseline/reg_i_20-reg_u_15/Ranking_fold_-1.parquet\n",
      "Using cached file from /media/ExtHDD01/log/user_10_item_1_exp/surprise_Baseline/reg_i_20-reg_u_15/Rating_fold_-1.parquet\n",
      "Finish inference phase\n",
      "Using cached file from /media/ExtHDD01/log/user_10_item_1_exp/surprise_Baseline/reg_i_20-reg_u_15/Ranking_fold_-1.parquet\n",
      "Using cached file from /media/ExtHDD01/log/user_10_item_1_exp/surprise_Baseline/reg_i_20-reg_u_15/Rating_fold_-1.parquet\n",
      "Finish inference phase\n",
      "Using cached file from /media/ExtHDD01/log/user_10_item_1_exp/surprise_Baseline/reg_i_20-reg_u_15/Ranking_fold_-1.parquet\n",
      "Using cached file from /media/ExtHDD01/log/user_10_item_1_exp/surprise_Baseline/reg_i_20-reg_u_15/Rating_fold_-1.parquet\n",
      "Finish inference phase\n"
     ]
    }
   ],
   "source": [
    "get_topk_performance([\"surprise_Baseline\"], surprise_Baseline)"
   ]
  },
  {
   "cell_type": "code",
   "execution_count": 24,
   "metadata": {
    "collapsed": true
   },
   "outputs": [
    {
     "name": "stdout",
     "output_type": "stream",
     "text": [
      "Best ndcg@10 of surprise_SVD is found as 0.08952151829850094\n",
      "Using cached file from /media/ExtHDD01/log/user_10_item_1_exp/surprise_SVD/lr_all_0.002-n_factors_10-reg_all_0.01/Ranking_fold_-1.parquet\n",
      "Using cached file from /media/ExtHDD01/log/user_10_item_1_exp/surprise_SVD/lr_all_0.002-n_factors_10-reg_all_0.01/Rating_fold_-1.parquet\n",
      "Finish inference phase\n",
      "Using cached file from /media/ExtHDD01/log/user_10_item_1_exp/surprise_SVD/lr_all_0.002-n_factors_10-reg_all_0.01/Ranking_fold_-1.parquet\n",
      "Using cached file from /media/ExtHDD01/log/user_10_item_1_exp/surprise_SVD/lr_all_0.002-n_factors_10-reg_all_0.01/Rating_fold_-1.parquet\n",
      "Finish inference phase\n",
      "Using cached file from /media/ExtHDD01/log/user_10_item_1_exp/surprise_SVD/lr_all_0.002-n_factors_10-reg_all_0.01/Ranking_fold_-1.parquet\n",
      "Using cached file from /media/ExtHDD01/log/user_10_item_1_exp/surprise_SVD/lr_all_0.002-n_factors_10-reg_all_0.01/Rating_fold_-1.parquet\n",
      "Finish inference phase\n",
      "Using cached file from /media/ExtHDD01/log/user_10_item_1_exp/surprise_SVD/lr_all_0.002-n_factors_10-reg_all_0.01/Ranking_fold_-1.parquet\n",
      "Using cached file from /media/ExtHDD01/log/user_10_item_1_exp/surprise_SVD/lr_all_0.002-n_factors_10-reg_all_0.01/Rating_fold_-1.parquet\n",
      "Finish inference phase\n",
      "Using cached file from /media/ExtHDD01/log/user_10_item_1_exp/surprise_SVD/lr_all_0.002-n_factors_10-reg_all_0.01/Ranking_fold_-1.parquet\n",
      "Using cached file from /media/ExtHDD01/log/user_10_item_1_exp/surprise_SVD/lr_all_0.002-n_factors_10-reg_all_0.01/Rating_fold_-1.parquet\n",
      "Finish inference phase\n",
      "Using cached file from /media/ExtHDD01/log/user_10_item_1_exp/surprise_SVD/lr_all_0.002-n_factors_10-reg_all_0.01/Ranking_fold_-1.parquet\n",
      "Using cached file from /media/ExtHDD01/log/user_10_item_1_exp/surprise_SVD/lr_all_0.002-n_factors_10-reg_all_0.01/Rating_fold_-1.parquet\n",
      "Finish inference phase\n",
      "Using cached file from /media/ExtHDD01/log/user_10_item_1_exp/surprise_SVD/lr_all_0.002-n_factors_10-reg_all_0.01/Ranking_fold_-1.parquet\n",
      "Using cached file from /media/ExtHDD01/log/user_10_item_1_exp/surprise_SVD/lr_all_0.002-n_factors_10-reg_all_0.01/Rating_fold_-1.parquet\n",
      "Finish inference phase\n",
      "Using cached file from /media/ExtHDD01/log/user_10_item_1_exp/surprise_SVD/lr_all_0.002-n_factors_10-reg_all_0.01/Ranking_fold_-1.parquet\n",
      "Using cached file from /media/ExtHDD01/log/user_10_item_1_exp/surprise_SVD/lr_all_0.002-n_factors_10-reg_all_0.01/Rating_fold_-1.parquet\n",
      "Finish inference phase\n",
      "Using cached file from /media/ExtHDD01/log/user_10_item_1_exp/surprise_SVD/lr_all_0.002-n_factors_10-reg_all_0.01/Ranking_fold_-1.parquet\n",
      "Using cached file from /media/ExtHDD01/log/user_10_item_1_exp/surprise_SVD/lr_all_0.002-n_factors_10-reg_all_0.01/Rating_fold_-1.parquet\n",
      "Finish inference phase\n",
      "Using cached file from /media/ExtHDD01/log/user_10_item_1_exp/surprise_SVD/lr_all_0.002-n_factors_10-reg_all_0.01/Ranking_fold_-1.parquet\n",
      "Using cached file from /media/ExtHDD01/log/user_10_item_1_exp/surprise_SVD/lr_all_0.002-n_factors_10-reg_all_0.01/Rating_fold_-1.parquet\n",
      "Finish inference phase\n"
     ]
    }
   ],
   "source": [
    "get_topk_performance([\"surprise_SVD\"], surprise_SVD)"
   ]
  },
  {
   "cell_type": "markdown",
   "metadata": {},
   "source": [
    "# FM model"
   ]
  },
  {
   "cell_type": "code",
   "execution_count": 11,
   "metadata": {},
   "outputs": [],
   "source": [
    "dataloader = DataLoader(dataset_name=\"user_10_item_1_exp\", config_name=\"server_new_config.json\")\n",
    "spark = get_spark(cores=4)\n",
    "summary = Summary(dataloader.get_config().db_path)"
   ]
  },
  {
   "cell_type": "code",
   "execution_count": 12,
   "metadata": {},
   "outputs": [],
   "source": [
    "from src.model.FM import FM"
   ]
  },
  {
   "cell_type": "code",
   "execution_count": 17,
   "metadata": {
    "collapsed": true
   },
   "outputs": [
    {
     "name": "stdout",
     "output_type": "stream",
     "text": [
      "Best ndcg@10 of FMItem is found as 0.049514178125418994\n",
      "Using cached file from /home/data/log/user_10_item_1_exp/FMItem/l2_reg_V_1-l2_reg_w_1-model_info_used_Item-n_iter_100-rank_2/Ranking_fold_-1.parquet\n",
      "Using cached file from /home/data/log/user_10_item_1_exp/FMItem/l2_reg_V_1-l2_reg_w_1-model_info_used_Item-n_iter_100-rank_2/Rating_fold_-1.parquet\n",
      "Finish inference phase\n",
      "Using cached file from /home/data/log/user_10_item_1_exp/FMItem/l2_reg_V_1-l2_reg_w_1-model_info_used_Item-n_iter_100-rank_2/Ranking_fold_-1.parquet\n",
      "Using cached file from /home/data/log/user_10_item_1_exp/FMItem/l2_reg_V_1-l2_reg_w_1-model_info_used_Item-n_iter_100-rank_2/Rating_fold_-1.parquet\n",
      "Finish inference phase\n",
      "Using cached file from /home/data/log/user_10_item_1_exp/FMItem/l2_reg_V_1-l2_reg_w_1-model_info_used_Item-n_iter_100-rank_2/Ranking_fold_-1.parquet\n",
      "Using cached file from /home/data/log/user_10_item_1_exp/FMItem/l2_reg_V_1-l2_reg_w_1-model_info_used_Item-n_iter_100-rank_2/Rating_fold_-1.parquet\n",
      "Finish inference phase\n",
      "Using cached file from /home/data/log/user_10_item_1_exp/FMItem/l2_reg_V_1-l2_reg_w_1-model_info_used_Item-n_iter_100-rank_2/Ranking_fold_-1.parquet\n",
      "Using cached file from /home/data/log/user_10_item_1_exp/FMItem/l2_reg_V_1-l2_reg_w_1-model_info_used_Item-n_iter_100-rank_2/Rating_fold_-1.parquet\n",
      "Finish inference phase\n",
      "Using cached file from /home/data/log/user_10_item_1_exp/FMItem/l2_reg_V_1-l2_reg_w_1-model_info_used_Item-n_iter_100-rank_2/Ranking_fold_-1.parquet\n",
      "Using cached file from /home/data/log/user_10_item_1_exp/FMItem/l2_reg_V_1-l2_reg_w_1-model_info_used_Item-n_iter_100-rank_2/Rating_fold_-1.parquet\n",
      "Finish inference phase\n",
      "Using cached file from /home/data/log/user_10_item_1_exp/FMItem/l2_reg_V_1-l2_reg_w_1-model_info_used_Item-n_iter_100-rank_2/Ranking_fold_-1.parquet\n",
      "Using cached file from /home/data/log/user_10_item_1_exp/FMItem/l2_reg_V_1-l2_reg_w_1-model_info_used_Item-n_iter_100-rank_2/Rating_fold_-1.parquet\n",
      "Finish inference phase\n",
      "Using cached file from /home/data/log/user_10_item_1_exp/FMItem/l2_reg_V_1-l2_reg_w_1-model_info_used_Item-n_iter_100-rank_2/Ranking_fold_-1.parquet\n",
      "Using cached file from /home/data/log/user_10_item_1_exp/FMItem/l2_reg_V_1-l2_reg_w_1-model_info_used_Item-n_iter_100-rank_2/Rating_fold_-1.parquet\n",
      "Finish inference phase\n",
      "Using cached file from /home/data/log/user_10_item_1_exp/FMItem/l2_reg_V_1-l2_reg_w_1-model_info_used_Item-n_iter_100-rank_2/Ranking_fold_-1.parquet\n",
      "Using cached file from /home/data/log/user_10_item_1_exp/FMItem/l2_reg_V_1-l2_reg_w_1-model_info_used_Item-n_iter_100-rank_2/Rating_fold_-1.parquet\n",
      "Finish inference phase\n",
      "Using cached file from /home/data/log/user_10_item_1_exp/FMItem/l2_reg_V_1-l2_reg_w_1-model_info_used_Item-n_iter_100-rank_2/Ranking_fold_-1.parquet\n",
      "Using cached file from /home/data/log/user_10_item_1_exp/FMItem/l2_reg_V_1-l2_reg_w_1-model_info_used_Item-n_iter_100-rank_2/Rating_fold_-1.parquet\n",
      "Finish inference phase\n",
      "Using cached file from /home/data/log/user_10_item_1_exp/FMItem/l2_reg_V_1-l2_reg_w_1-model_info_used_Item-n_iter_100-rank_2/Ranking_fold_-1.parquet\n",
      "Using cached file from /home/data/log/user_10_item_1_exp/FMItem/l2_reg_V_1-l2_reg_w_1-model_info_used_Item-n_iter_100-rank_2/Rating_fold_-1.parquet\n",
      "Finish inference phase\n"
     ]
    }
   ],
   "source": [
    "get_topk_performance([\"FMItem\"], FM)"
   ]
  },
  {
   "cell_type": "code",
   "execution_count": 21,
   "metadata": {
    "collapsed": true
   },
   "outputs": [
    {
     "name": "stdout",
     "output_type": "stream",
     "text": [
      "Best ndcg@10 of FMNone is found as 0.05388744137663189\n",
      "Using cached file from /home/data/log/user_10_item_1_exp/FMNone/l2_reg_V_1-l2_reg_w_1-model_info_used_None-n_iter_100-rank_8/Ranking_fold_-1.parquet\n",
      "Using cached file from /home/data/log/user_10_item_1_exp/FMNone/l2_reg_V_1-l2_reg_w_1-model_info_used_None-n_iter_100-rank_8/Rating_fold_-1.parquet\n",
      "Finish inference phase\n",
      "Using cached file from /home/data/log/user_10_item_1_exp/FMNone/l2_reg_V_1-l2_reg_w_1-model_info_used_None-n_iter_100-rank_8/Ranking_fold_-1.parquet\n",
      "Using cached file from /home/data/log/user_10_item_1_exp/FMNone/l2_reg_V_1-l2_reg_w_1-model_info_used_None-n_iter_100-rank_8/Rating_fold_-1.parquet\n",
      "Finish inference phase\n",
      "Using cached file from /home/data/log/user_10_item_1_exp/FMNone/l2_reg_V_1-l2_reg_w_1-model_info_used_None-n_iter_100-rank_8/Ranking_fold_-1.parquet\n",
      "Using cached file from /home/data/log/user_10_item_1_exp/FMNone/l2_reg_V_1-l2_reg_w_1-model_info_used_None-n_iter_100-rank_8/Rating_fold_-1.parquet\n",
      "Finish inference phase\n",
      "Using cached file from /home/data/log/user_10_item_1_exp/FMNone/l2_reg_V_1-l2_reg_w_1-model_info_used_None-n_iter_100-rank_8/Ranking_fold_-1.parquet\n",
      "Using cached file from /home/data/log/user_10_item_1_exp/FMNone/l2_reg_V_1-l2_reg_w_1-model_info_used_None-n_iter_100-rank_8/Rating_fold_-1.parquet\n",
      "Finish inference phase\n",
      "Using cached file from /home/data/log/user_10_item_1_exp/FMNone/l2_reg_V_1-l2_reg_w_1-model_info_used_None-n_iter_100-rank_8/Ranking_fold_-1.parquet\n",
      "Using cached file from /home/data/log/user_10_item_1_exp/FMNone/l2_reg_V_1-l2_reg_w_1-model_info_used_None-n_iter_100-rank_8/Rating_fold_-1.parquet\n",
      "Finish inference phase\n",
      "Using cached file from /home/data/log/user_10_item_1_exp/FMNone/l2_reg_V_1-l2_reg_w_1-model_info_used_None-n_iter_100-rank_8/Ranking_fold_-1.parquet\n",
      "Using cached file from /home/data/log/user_10_item_1_exp/FMNone/l2_reg_V_1-l2_reg_w_1-model_info_used_None-n_iter_100-rank_8/Rating_fold_-1.parquet\n",
      "Finish inference phase\n",
      "Using cached file from /home/data/log/user_10_item_1_exp/FMNone/l2_reg_V_1-l2_reg_w_1-model_info_used_None-n_iter_100-rank_8/Ranking_fold_-1.parquet\n",
      "Using cached file from /home/data/log/user_10_item_1_exp/FMNone/l2_reg_V_1-l2_reg_w_1-model_info_used_None-n_iter_100-rank_8/Rating_fold_-1.parquet\n",
      "Finish inference phase\n",
      "Using cached file from /home/data/log/user_10_item_1_exp/FMNone/l2_reg_V_1-l2_reg_w_1-model_info_used_None-n_iter_100-rank_8/Ranking_fold_-1.parquet\n",
      "Using cached file from /home/data/log/user_10_item_1_exp/FMNone/l2_reg_V_1-l2_reg_w_1-model_info_used_None-n_iter_100-rank_8/Rating_fold_-1.parquet\n",
      "Finish inference phase\n",
      "Using cached file from /home/data/log/user_10_item_1_exp/FMNone/l2_reg_V_1-l2_reg_w_1-model_info_used_None-n_iter_100-rank_8/Ranking_fold_-1.parquet\n",
      "Using cached file from /home/data/log/user_10_item_1_exp/FMNone/l2_reg_V_1-l2_reg_w_1-model_info_used_None-n_iter_100-rank_8/Rating_fold_-1.parquet\n",
      "Finish inference phase\n",
      "Using cached file from /home/data/log/user_10_item_1_exp/FMNone/l2_reg_V_1-l2_reg_w_1-model_info_used_None-n_iter_100-rank_8/Ranking_fold_-1.parquet\n",
      "Using cached file from /home/data/log/user_10_item_1_exp/FMNone/l2_reg_V_1-l2_reg_w_1-model_info_used_None-n_iter_100-rank_8/Rating_fold_-1.parquet\n",
      "Finish inference phase\n"
     ]
    }
   ],
   "source": [
    "get_topk_performance([\"FMNone\"], FM)"
   ]
  },
  {
   "cell_type": "markdown",
   "metadata": {},
   "source": [
    "# BPR model"
   ]
  },
  {
   "cell_type": "code",
   "execution_count": 18,
   "metadata": {},
   "outputs": [],
   "source": [
    "from src.model.BPR import BPR"
   ]
  },
  {
   "cell_type": "code",
   "execution_count": 19,
   "metadata": {
    "collapsed": true
   },
   "outputs": [
    {
     "name": "stdout",
     "output_type": "stream",
     "text": [
      "Best ndcg@10 of Test_implicit is found as 0.16527315551622762\n",
      "Creating directory and start writing ...\n",
      "Rewriting files in /home/data/log/user_10_item_1_exp/BPR/factors_16-iteration_100-learning_rate_0.005-regularization_0.001/Rating_fold_-1.parquet\n",
      "Finish inference phase\n",
      "Using cached file from /home/data/log/user_10_item_1_exp/BPR/factors_16-iteration_100-learning_rate_0.005-regularization_0.001/Ranking_fold_-1.parquet\n",
      "Using cached file from /home/data/log/user_10_item_1_exp/BPR/factors_16-iteration_100-learning_rate_0.005-regularization_0.001/Rating_fold_-1.parquet\n",
      "Finish inference phase\n",
      "Using cached file from /home/data/log/user_10_item_1_exp/BPR/factors_16-iteration_100-learning_rate_0.005-regularization_0.001/Ranking_fold_-1.parquet\n",
      "Using cached file from /home/data/log/user_10_item_1_exp/BPR/factors_16-iteration_100-learning_rate_0.005-regularization_0.001/Rating_fold_-1.parquet\n",
      "Finish inference phase\n",
      "Using cached file from /home/data/log/user_10_item_1_exp/BPR/factors_16-iteration_100-learning_rate_0.005-regularization_0.001/Ranking_fold_-1.parquet\n",
      "Using cached file from /home/data/log/user_10_item_1_exp/BPR/factors_16-iteration_100-learning_rate_0.005-regularization_0.001/Rating_fold_-1.parquet\n",
      "Finish inference phase\n",
      "Using cached file from /home/data/log/user_10_item_1_exp/BPR/factors_16-iteration_100-learning_rate_0.005-regularization_0.001/Ranking_fold_-1.parquet\n",
      "Using cached file from /home/data/log/user_10_item_1_exp/BPR/factors_16-iteration_100-learning_rate_0.005-regularization_0.001/Rating_fold_-1.parquet\n",
      "Finish inference phase\n",
      "Using cached file from /home/data/log/user_10_item_1_exp/BPR/factors_16-iteration_100-learning_rate_0.005-regularization_0.001/Ranking_fold_-1.parquet\n",
      "Using cached file from /home/data/log/user_10_item_1_exp/BPR/factors_16-iteration_100-learning_rate_0.005-regularization_0.001/Rating_fold_-1.parquet\n",
      "Finish inference phase\n",
      "Using cached file from /home/data/log/user_10_item_1_exp/BPR/factors_16-iteration_100-learning_rate_0.005-regularization_0.001/Ranking_fold_-1.parquet\n",
      "Using cached file from /home/data/log/user_10_item_1_exp/BPR/factors_16-iteration_100-learning_rate_0.005-regularization_0.001/Rating_fold_-1.parquet\n",
      "Finish inference phase\n",
      "Using cached file from /home/data/log/user_10_item_1_exp/BPR/factors_16-iteration_100-learning_rate_0.005-regularization_0.001/Ranking_fold_-1.parquet\n",
      "Using cached file from /home/data/log/user_10_item_1_exp/BPR/factors_16-iteration_100-learning_rate_0.005-regularization_0.001/Rating_fold_-1.parquet\n",
      "Finish inference phase\n",
      "Using cached file from /home/data/log/user_10_item_1_exp/BPR/factors_16-iteration_100-learning_rate_0.005-regularization_0.001/Ranking_fold_-1.parquet\n",
      "Using cached file from /home/data/log/user_10_item_1_exp/BPR/factors_16-iteration_100-learning_rate_0.005-regularization_0.001/Rating_fold_-1.parquet\n",
      "Finish inference phase\n",
      "Using cached file from /home/data/log/user_10_item_1_exp/BPR/factors_16-iteration_100-learning_rate_0.005-regularization_0.001/Ranking_fold_-1.parquet\n",
      "Using cached file from /home/data/log/user_10_item_1_exp/BPR/factors_16-iteration_100-learning_rate_0.005-regularization_0.001/Rating_fold_-1.parquet\n",
      "Finish inference phase\n"
     ]
    }
   ],
   "source": [
    "get_topk_performance([\"Test_implicit\"], BPR)"
   ]
  },
  {
   "cell_type": "code",
   "execution_count": null,
   "metadata": {},
   "outputs": [],
   "source": []
  }
 ],
 "metadata": {
  "kernelspec": {
   "display_name": "Python 3",
   "language": "python",
   "name": "python3"
  },
  "language_info": {
   "codemirror_mode": {
    "name": "ipython",
    "version": 3
   },
   "file_extension": ".py",
   "mimetype": "text/x-python",
   "name": "python",
   "nbconvert_exporter": "python",
   "pygments_lexer": "ipython3",
   "version": "3.7.5"
  }
 },
 "nbformat": 4,
 "nbformat_minor": 2
}
