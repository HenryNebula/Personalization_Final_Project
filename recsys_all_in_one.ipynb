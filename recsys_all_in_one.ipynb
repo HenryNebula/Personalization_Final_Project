{
 "cells": [
  {
   "cell_type": "markdown",
   "metadata": {},
   "source": [
    "# Necessary modules and environment params"
   ]
  },
  {
   "cell_type": "code",
   "execution_count": 1,
   "metadata": {},
   "outputs": [],
   "source": [
    "%load_ext autoreload\n",
    "%autoreload 2"
   ]
  },
  {
   "cell_type": "code",
   "execution_count": 2,
   "metadata": {},
   "outputs": [],
   "source": [
    "import sys\n",
    "sys.path.append(\"../\")"
   ]
  },
  {
   "cell_type": "code",
   "execution_count": 3,
   "metadata": {},
   "outputs": [],
   "source": [
    "from src.BaseModel import BaseModel\n",
    "from src.Evaluator import Evaluator\n",
    "from src.ALS_MF import ALS_MF\n",
    "from src.data_pipeline import *\n",
    "from src.utils import get_spark"
   ]
  },
  {
   "cell_type": "code",
   "execution_count": 4,
   "metadata": {},
   "outputs": [],
   "source": [
    "spark = get_spark()"
   ]
  },
  {
   "cell_type": "markdown",
   "metadata": {},
   "source": [
    "# Load whole data from the text file"
   ]
  },
  {
   "cell_type": "code",
   "execution_count": 5,
   "metadata": {},
   "outputs": [
    {
     "name": "stdout",
     "output_type": "stream",
     "text": [
      "/home/henryhuang/Desktop/Course/Personalization/code/Personalization_Proj1/data/ml-1m/ratings.dat\n"
     ]
    }
   ],
   "source": [
    "whole_data = load_data(spark)"
   ]
  },
  {
   "cell_type": "markdown",
   "metadata": {},
   "source": [
    "# Split train and test set"
   ]
  },
  {
   "cell_type": "code",
   "execution_count": 6,
   "metadata": {},
   "outputs": [
    {
     "name": "stdout",
     "output_type": "stream",
     "text": [
      "Using split of range (0, 0.2), test set contains 202451 of 1000209 records in total.\n"
     ]
    }
   ],
   "source": [
    "split_params = {\n",
    "    \"partition_by\": \"user\",\n",
    "    \"rank_method\": \"random\",\n",
    "} # default setting\n",
    "\n",
    "train, test = train_test_split(whole_data, ratio_range=(0,0.2), **split_params)\n",
    "# same to train_test_split(whole_data)"
   ]
  },
  {
   "cell_type": "markdown",
   "metadata": {},
   "source": [
    "# Construct Model"
   ]
  },
  {
   "cell_type": "code",
   "execution_count": 7,
   "metadata": {},
   "outputs": [],
   "source": [
    "als_params = {\n",
    "    \"rank\": 10,\n",
    "    \"maxIter\": 15,\n",
    "    \"implicitPrefs\": False,\n",
    "    \"alpha\": 0.0,\n",
    "    \"regParam\": 0.05,\n",
    "    \"coldStartStrategy\": \"drop\",\n",
    "    \"nonnegative\": False\n",
    "}"
   ]
  },
  {
   "cell_type": "code",
   "execution_count": 8,
   "metadata": {},
   "outputs": [],
   "source": [
    "als = ALS_MF(als_params)"
   ]
  },
  {
   "cell_type": "markdown",
   "metadata": {},
   "source": [
    "# Cross validation"
   ]
  },
  {
   "cell_type": "code",
   "execution_count": 9,
   "metadata": {},
   "outputs": [
    {
     "name": "stdout",
     "output_type": "stream",
     "text": [
      "Using split of range [0.0, 0.25], test set contains 201248 of 797758 records in total.\n",
      "Using split of range [0.25, 0.5], test set contains 200070 of 797758 records in total.\n",
      "Using split of range [0.5, 0.75], test set contains 200070 of 797758 records in total.\n",
      "Using split of range [0.75, 1.0], test set contains 201248 of 797758 records in total.\n"
     ]
    },
    {
     "data": {
      "text/plain": [
       "defaultdict(list,\n",
       "            {'ndcg': [0.01311504925552225,\n",
       "              0.016180484322696663,\n",
       "              0.019742666350438642,\n",
       "              0.015794973090892027],\n",
       "             'precision': [0.01582781456953642,\n",
       "              0.018807947019867554,\n",
       "              0.022798013245033107,\n",
       "              0.018890728476821193]})"
      ]
     },
     "execution_count": 9,
     "metadata": {},
     "output_type": "execute_result"
    }
   ],
   "source": [
    "cross_validation(train, als, top_k=10, num_candidates=1000, split_params=split_params, k_fold=4)"
   ]
  },
  {
   "cell_type": "markdown",
   "metadata": {},
   "source": [
    "# Finally train model using all training data, and evaluate on test data"
   ]
  },
  {
   "cell_type": "code",
   "execution_count": 10,
   "metadata": {},
   "outputs": [
    {
     "data": {
      "text/plain": [
       "defaultdict(list,\n",
       "            {'ndcg': [0.055878182548301396],\n",
       "             'precision': [0.05251655629139074]})"
      ]
     },
     "execution_count": 10,
     "metadata": {},
     "output_type": "execute_result"
    }
   ],
   "source": [
    "best_params = {\n",
    "    \"rank\": 64,\n",
    "    \"maxIter\": 15,\n",
    "    \"implicitPrefs\": False,\n",
    "    \"alpha\": 0.3,\n",
    "    \"regParam\": 0.05,\n",
    "    \"coldStartStrategy\": \"drop\",\n",
    "    \"nonnegative\": False\n",
    "}\n",
    "als_final = ALS_MF(best_params)\n",
    "\n",
    "evaluate_model(train, test, als_final, top_k=10, num_candidates=50)"
   ]
  }
 ],
 "metadata": {
  "kernelspec": {
   "display_name": "Python (Spark)",
   "language": "python",
   "name": "spark"
  },
  "language_info": {
   "codemirror_mode": {
    "name": "ipython",
    "version": 3
   },
   "file_extension": ".py",
   "mimetype": "text/x-python",
   "name": "python",
   "nbconvert_exporter": "python",
   "pygments_lexer": "ipython3",
   "version": "3.6.9"
  }
 },
 "nbformat": 4,
 "nbformat_minor": 2
}
