{
 "cells": [
  {
   "cell_type": "markdown",
   "metadata": {},
   "source": [
    "# Necessary modules and environment params"
   ]
  },
  {
   "cell_type": "code",
   "execution_count": 1,
   "metadata": {},
   "outputs": [],
   "source": [
    "%matplotlib inline"
   ]
  },
  {
   "cell_type": "code",
   "execution_count": 2,
   "metadata": {},
   "outputs": [],
   "source": [
    "import matplotlib\n",
    "import seaborn as sns\n",
    "import matplotlib.pyplot as plt"
   ]
  },
  {
   "cell_type": "code",
   "execution_count": 3,
   "metadata": {},
   "outputs": [],
   "source": [
    "%load_ext autoreload\n",
    "%autoreload 2"
   ]
  },
  {
   "cell_type": "code",
   "execution_count": 4,
   "metadata": {},
   "outputs": [],
   "source": [
    "import sys\n",
    "sys.path.append(\"../\")"
   ]
  },
  {
   "cell_type": "code",
   "execution_count": 5,
   "metadata": {},
   "outputs": [],
   "source": [
    "from src.data_pipeline.DataLoader import DataLoader\n",
    "from src.utility.sys_utils import get_spark\n",
    "\n",
    "# import your model\n",
    "from src.model.ALS_MF import ALS_MF\n",
    "from src.model.KNN import KNN\n",
    "from src.model.BaseLine import BaseLine\n",
    "\n",
    "# import training pipeline\n",
    "from src.data_pipeline.pipeline import cross_validation, test_evaluation\n",
    "\n",
    "# import result checking tools\n",
    "from src.utility.Summary import Summary"
   ]
  },
  {
   "cell_type": "markdown",
   "metadata": {},
   "source": [
    "# Load whole data from the text file"
   ]
  },
  {
   "cell_type": "code",
   "execution_count": 48,
   "metadata": {},
   "outputs": [
    {
     "name": "stdout",
     "output_type": "stream",
     "text": [
      "Using sampled subset with 6.896900E+04 records\n",
      "Using split of range (0, 0.2), test set contains 19365 of 68969 records in total.\n"
     ]
    }
   ],
   "source": [
    "spark = get_spark(cores=4) # change cores up to 6 if needed\n",
    "data_loader = DataLoader(spark, \"ml-20m-5p\")"
   ]
  },
  {
   "cell_type": "code",
   "execution_count": null,
   "metadata": {},
   "outputs": [],
   "source": [
    "raw_data = data_loader.get_raw_data()"
   ]
  },
  {
   "cell_type": "markdown",
   "metadata": {},
   "source": [
    "# Construct Model"
   ]
  },
  {
   "cell_type": "code",
   "execution_count": 52,
   "metadata": {},
   "outputs": [],
   "source": [
    "als_params = {\n",
    "    \"rank\": 64,\n",
    "    \"maxIter\": 15,\n",
    "    \"regParam\": 0.05,\n",
    "    \"num_neg\": 0\n",
    "}"
   ]
  },
  {
   "cell_type": "code",
   "execution_count": 53,
   "metadata": {},
   "outputs": [],
   "source": [
    "als = ALS_MF(als_params)"
   ]
  },
  {
   "cell_type": "code",
   "execution_count": 7,
   "metadata": {},
   "outputs": [
    {
     "data": {
      "text/plain": [
       "'KNN'"
      ]
     },
     "execution_count": 7,
     "metadata": {},
     "output_type": "execute_result"
    }
   ],
   "source": [
    "knn = KNN({\"k\":20})\n",
    "knn.get_name()"
   ]
  },
  {
   "cell_type": "code",
   "execution_count": 10,
   "metadata": {},
   "outputs": [],
   "source": [
    "bl = BaseLine({\"model\": \"count_uni_rating\"})"
   ]
  },
  {
   "cell_type": "markdown",
   "metadata": {},
   "source": [
    "# Cross validation"
   ]
  },
  {
   "cell_type": "code",
   "execution_count": 54,
   "metadata": {
    "scrolled": true
   },
   "outputs": [
    {
     "name": "stdout",
     "output_type": "stream",
     "text": [
      "Using split of range [0.0, 0.2], test set contains 14810 of 49604 records in total.\n",
      "Creating directory and start writing ...\n",
      "Rewriting files in /home/ds2019/log/ml-20m-5p/ALS_MF/maxIter_15-num_neg_3-rank_64-regParam_0.05/Rating_fold_0.parquet\n",
      "Using split of range [0.2, 0.4], test set contains 8402 of 49604 records in total.\n",
      "Rewriting files in /home/ds2019/log/ml-20m-5p/ALS_MF/maxIter_15-num_neg_3-rank_64-regParam_0.05/Ranking_fold_1.parquet\n",
      "Rewriting files in /home/ds2019/log/ml-20m-5p/ALS_MF/maxIter_15-num_neg_3-rank_64-regParam_0.05/Rating_fold_1.parquet\n",
      "Using split of range [0.4, 0.6], test set contains 8407 of 49604 records in total.\n",
      "Rewriting files in /home/ds2019/log/ml-20m-5p/ALS_MF/maxIter_15-num_neg_3-rank_64-regParam_0.05/Ranking_fold_2.parquet\n",
      "Rewriting files in /home/ds2019/log/ml-20m-5p/ALS_MF/maxIter_15-num_neg_3-rank_64-regParam_0.05/Rating_fold_2.parquet\n",
      "Using split of range [0.6, 0.8], test set contains 8402 of 49604 records in total.\n",
      "Rewriting files in /home/ds2019/log/ml-20m-5p/ALS_MF/maxIter_15-num_neg_3-rank_64-regParam_0.05/Ranking_fold_3.parquet\n",
      "Rewriting files in /home/ds2019/log/ml-20m-5p/ALS_MF/maxIter_15-num_neg_3-rank_64-regParam_0.05/Rating_fold_3.parquet\n",
      "Using split of range [0.8, 1.0], test set contains 12899 of 49604 records in total.\n",
      "Rewriting files in /home/ds2019/log/ml-20m-5p/ALS_MF/maxIter_15-num_neg_3-rank_64-regParam_0.05/Ranking_fold_4.parquet\n",
      "Rewriting files in /home/ds2019/log/ml-20m-5p/ALS_MF/maxIter_15-num_neg_3-rank_64-regParam_0.05/Rating_fold_4.parquet\n"
     ]
    },
    {
     "data": {
      "text/plain": [
       "defaultdict(list,\n",
       "            {'ndcg@10': [0.01465069888163267,\n",
       "              0.00761103020982536,\n",
       "              0.009206919386208878,\n",
       "              0.007079687370480849,\n",
       "              0.013305651880724264],\n",
       "             'precision@10': [0.0041134458687816485,\n",
       "              0.0023120511609765345,\n",
       "              0.0027059623454623993,\n",
       "              0.0021220195587044913,\n",
       "              0.003707284298569309]})"
      ]
     },
     "execution_count": 54,
     "metadata": {},
     "output_type": "execute_result"
    }
   ],
   "source": [
    "cross_validation(data_loader, als, spark, k_fold=5, top_k=10)"
   ]
  },
  {
   "cell_type": "markdown",
   "metadata": {},
   "source": [
    "# Check evaluation results"
   ]
  },
  {
   "cell_type": "code",
   "execution_count": 55,
   "metadata": {},
   "outputs": [
    {
     "data": {
      "text/html": [
       "<div>\n",
       "<style scoped>\n",
       "    .dataframe tbody tr th:only-of-type {\n",
       "        vertical-align: middle;\n",
       "    }\n",
       "\n",
       "    .dataframe tbody tr th {\n",
       "        vertical-align: top;\n",
       "    }\n",
       "\n",
       "    .dataframe thead th {\n",
       "        text-align: right;\n",
       "    }\n",
       "</style>\n",
       "<table border=\"1\" class=\"dataframe\">\n",
       "  <thead>\n",
       "    <tr style=\"text-align: right;\">\n",
       "      <th></th>\n",
       "      <th>model</th>\n",
       "      <th>hyper</th>\n",
       "      <th>metric</th>\n",
       "      <th>mean</th>\n",
       "      <th>std</th>\n",
       "      <th>rnk</th>\n",
       "    </tr>\n",
       "  </thead>\n",
       "  <tbody>\n",
       "    <tr>\n",
       "      <th>1</th>\n",
       "      <td>ALS_MF</td>\n",
       "      <td>[('maxIter', 15), ('rank', 16), ('regParam', 0...</td>\n",
       "      <td>ndcg@10</td>\n",
       "      <td>0.014002</td>\n",
       "      <td>0.001768</td>\n",
       "      <td>1.0</td>\n",
       "    </tr>\n",
       "    <tr>\n",
       "      <th>0</th>\n",
       "      <td>ALS_MF</td>\n",
       "      <td>[('maxIter', 15), ('num_neg', 3), ('rank', 64)...</td>\n",
       "      <td>ndcg@10</td>\n",
       "      <td>0.009652</td>\n",
       "      <td>0.000994</td>\n",
       "      <td>2.0</td>\n",
       "    </tr>\n",
       "    <tr>\n",
       "      <th>2</th>\n",
       "      <td>ALS_MF</td>\n",
       "      <td>[('maxIter', 15), ('rank', 64), ('regParam', 0...</td>\n",
       "      <td>ndcg@10</td>\n",
       "      <td>0.009602</td>\n",
       "      <td>0.000866</td>\n",
       "      <td>3.0</td>\n",
       "    </tr>\n",
       "    <tr>\n",
       "      <th>3</th>\n",
       "      <td>KNN</td>\n",
       "      <td>[('k', 10)]</td>\n",
       "      <td>ndcg@10</td>\n",
       "      <td>0.004271</td>\n",
       "      <td>0.002636</td>\n",
       "      <td>4.0</td>\n",
       "    </tr>\n",
       "  </tbody>\n",
       "</table>\n",
       "</div>"
      ],
      "text/plain": [
       "    model                                              hyper   metric  \\\n",
       "1  ALS_MF  [('maxIter', 15), ('rank', 16), ('regParam', 0...  ndcg@10   \n",
       "0  ALS_MF  [('maxIter', 15), ('num_neg', 3), ('rank', 64)...  ndcg@10   \n",
       "2  ALS_MF  [('maxIter', 15), ('rank', 64), ('regParam', 0...  ndcg@10   \n",
       "3     KNN                                        [('k', 10)]  ndcg@10   \n",
       "\n",
       "       mean       std  rnk  \n",
       "1  0.014002  0.001768  1.0  \n",
       "0  0.009652  0.000994  2.0  \n",
       "2  0.009602  0.000866  3.0  \n",
       "3  0.004271  0.002636  4.0  "
      ]
     },
     "execution_count": 55,
     "metadata": {},
     "output_type": "execute_result"
    }
   ],
   "source": [
    "summary = Summary(data_loader.get_config().db_path)\n",
    "summary.summarize_cv(\"ml-20m-5p\", [\"ndcg@10\"])"
   ]
  },
  {
   "cell_type": "markdown",
   "metadata": {},
   "source": [
    "# Finally train model using all training data, and evaluate on test data"
   ]
  },
  {
   "cell_type": "code",
   "execution_count": 57,
   "metadata": {},
   "outputs": [],
   "source": [
    "best_params = {\n",
    "    \"rank\": 16,\n",
    "    \"maxIter\": 15,\n",
    "    \"regParam\": 0.05,\n",
    "    \"num_neg\": 0\n",
    "}\n",
    "\n",
    "als_final = ALS_MF(best_params)"
   ]
  },
  {
   "cell_type": "code",
   "execution_count": 58,
   "metadata": {},
   "outputs": [
    {
     "name": "stdout",
     "output_type": "stream",
     "text": [
      "Creating directory and start writing ...\n",
      "Rewriting files in /home/ds2019/log/ml-20m-5p/ALS_MF/maxIter_15-num_neg_0-rank_16-regParam_0.05/Rating_fold_-1.parquet\n"
     ]
    },
    {
     "data": {
      "text/plain": [
       "ChainMap({'ndcg@10': 0.011628949133507396, 'precision@10': 0.00347046207837785}, {})"
      ]
     },
     "execution_count": 58,
     "metadata": {},
     "output_type": "execute_result"
    }
   ],
   "source": [
    "test_evaluation(data_loader, als_final, spark, top_k=10, force_rewrite=True, oracle_type=None)"
   ]
  },
  {
   "cell_type": "code",
   "execution_count": 59,
   "metadata": {},
   "outputs": [
    {
     "data": {
      "text/html": [
       "<div>\n",
       "<style scoped>\n",
       "    .dataframe tbody tr th:only-of-type {\n",
       "        vertical-align: middle;\n",
       "    }\n",
       "\n",
       "    .dataframe tbody tr th {\n",
       "        vertical-align: top;\n",
       "    }\n",
       "\n",
       "    .dataframe thead th {\n",
       "        text-align: right;\n",
       "    }\n",
       "</style>\n",
       "<table border=\"1\" class=\"dataframe\">\n",
       "  <thead>\n",
       "    <tr style=\"text-align: right;\">\n",
       "      <th></th>\n",
       "      <th>model</th>\n",
       "      <th>hyper</th>\n",
       "      <th>metric</th>\n",
       "      <th>value</th>\n",
       "      <th>ts</th>\n",
       "    </tr>\n",
       "    <tr>\n",
       "      <th>id</th>\n",
       "      <th></th>\n",
       "      <th></th>\n",
       "      <th></th>\n",
       "      <th></th>\n",
       "      <th></th>\n",
       "    </tr>\n",
       "  </thead>\n",
       "  <tbody>\n",
       "    <tr>\n",
       "      <th>362</th>\n",
       "      <td>ALS_MF</td>\n",
       "      <td>[('maxIter', 15), ('num_neg', 0), ('rank', 16)...</td>\n",
       "      <td>ndcg@10</td>\n",
       "      <td>0.011629</td>\n",
       "      <td>2019-11-03 23:39:45.681431</td>\n",
       "    </tr>\n",
       "    <tr>\n",
       "      <th>363</th>\n",
       "      <td>ALS_MF</td>\n",
       "      <td>[('maxIter', 15), ('num_neg', 0), ('rank', 16)...</td>\n",
       "      <td>precision@10</td>\n",
       "      <td>0.003470</td>\n",
       "      <td>2019-11-03 23:39:45.681709</td>\n",
       "    </tr>\n",
       "  </tbody>\n",
       "</table>\n",
       "</div>"
      ],
      "text/plain": [
       "      model                                              hyper        metric  \\\n",
       "id                                                                             \n",
       "362  ALS_MF  [('maxIter', 15), ('num_neg', 0), ('rank', 16)...       ndcg@10   \n",
       "363  ALS_MF  [('maxIter', 15), ('num_neg', 0), ('rank', 16)...  precision@10   \n",
       "\n",
       "        value                         ts  \n",
       "id                                        \n",
       "362  0.011629 2019-11-03 23:39:45.681431  \n",
       "363  0.003470 2019-11-03 23:39:45.681709  "
      ]
     },
     "execution_count": 59,
     "metadata": {},
     "output_type": "execute_result"
    }
   ],
   "source": [
    "summary.get_model_test_perf(\"ml-20m-5p\", \"ALS_MF\")"
   ]
  },
  {
   "cell_type": "code",
   "execution_count": null,
   "metadata": {},
   "outputs": [],
   "source": []
  }
 ],
 "metadata": {
  "kernelspec": {
   "display_name": "Python (Spark)",
   "language": "python",
   "name": "spark"
  },
  "language_info": {
   "codemirror_mode": {
    "name": "ipython",
    "version": 3
   },
   "file_extension": ".py",
   "mimetype": "text/x-python",
   "name": "python",
   "nbconvert_exporter": "python",
   "pygments_lexer": "ipython3",
   "version": "3.6.9"
  }
 },
 "nbformat": 4,
 "nbformat_minor": 2
}
