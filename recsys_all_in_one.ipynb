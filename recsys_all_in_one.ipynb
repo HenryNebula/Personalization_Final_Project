{
 "cells": [
  {
   "cell_type": "markdown",
   "metadata": {},
   "source": [
    "# Necessary modules and environment params"
   ]
  },
  {
   "cell_type": "code",
   "execution_count": 1,
   "metadata": {},
   "outputs": [],
   "source": [
    "%load_ext autoreload\n",
    "%autoreload 2"
   ]
  },
  {
   "cell_type": "code",
   "execution_count": 2,
   "metadata": {},
   "outputs": [],
   "source": [
    "import sys\n",
    "sys.path.append(\"../\")"
   ]
  },
  {
   "cell_type": "code",
   "execution_count": 3,
   "metadata": {},
   "outputs": [],
   "source": [
    "from src.data_pipeline.DataLoader import DataLoader\n",
    "from src.utility.sys_utils import get_spark\n",
    "\n",
    "# import your model\n",
    "from src.model.ALS_MF import ALS_MF\n",
    "\n",
    "# import training pipeline\n",
    "from src.data_pipeline.pipeline import cross_validation, test_evaluation\n",
    "\n",
    "# import result checking tools\n",
    "from src.utility.Summary import Summary"
   ]
  },
  {
   "cell_type": "markdown",
   "metadata": {},
   "source": [
    "# Load whole data from the text file"
   ]
  },
  {
   "cell_type": "code",
   "execution_count": 4,
   "metadata": {},
   "outputs": [
    {
     "name": "stdout",
     "output_type": "stream",
     "text": [
      "Using split of range (0, 0.2), test set contains 202451 of 1000209 records in total.\n"
     ]
    }
   ],
   "source": [
    "spark = get_spark(cores=4) # change cores up to 6 if needed\n",
    "data_loader = DataLoader(spark, \"ml-1m-full\")"
   ]
  },
  {
   "cell_type": "code",
   "execution_count": 5,
   "metadata": {},
   "outputs": [
    {
     "data": {
      "text/html": [
       "\n",
       "            <div>\n",
       "                <p><b>SparkSession - in-memory</b></p>\n",
       "                \n",
       "        <div>\n",
       "            <p><b>SparkContext</b></p>\n",
       "\n",
       "            <p><a href=\"http://henry-PC.cable.rcn.com:4040\">Spark UI</a></p>\n",
       "\n",
       "            <dl>\n",
       "              <dt>Version</dt>\n",
       "                <dd><code>v2.4.4</code></dd>\n",
       "              <dt>Master</dt>\n",
       "                <dd><code>local[4]</code></dd>\n",
       "              <dt>AppName</dt>\n",
       "                <dd><code>Recsys</code></dd>\n",
       "            </dl>\n",
       "        </div>\n",
       "        \n",
       "            </div>\n",
       "        "
      ],
      "text/plain": [
       "<pyspark.sql.session.SparkSession at 0x7f628e0d4f98>"
      ]
     },
     "execution_count": 5,
     "metadata": {},
     "output_type": "execute_result"
    }
   ],
   "source": [
    "spark"
   ]
  },
  {
   "cell_type": "markdown",
   "metadata": {},
   "source": [
    "# Get train and test set"
   ]
  },
  {
   "cell_type": "code",
   "execution_count": 6,
   "metadata": {},
   "outputs": [],
   "source": [
    "train = data_loader.get_train_set()\n",
    "test = data_loader.get_test_set()"
   ]
  },
  {
   "cell_type": "markdown",
   "metadata": {},
   "source": [
    "# Construct Model"
   ]
  },
  {
   "cell_type": "code",
   "execution_count": 7,
   "metadata": {},
   "outputs": [],
   "source": [
    "als_params = {\n",
    "    \"rank\": 64,\n",
    "    \"maxIter\": 15,\n",
    "    \"regParam\": 0.05\n",
    "}"
   ]
  },
  {
   "cell_type": "code",
   "execution_count": 8,
   "metadata": {},
   "outputs": [],
   "source": [
    "als = ALS_MF(als_params)"
   ]
  },
  {
   "cell_type": "code",
   "execution_count": 9,
   "metadata": {},
   "outputs": [
    {
     "data": {
      "text/plain": [
       "'ALS_MF'"
      ]
     },
     "execution_count": 9,
     "metadata": {},
     "output_type": "execute_result"
    }
   ],
   "source": [
    "als.get_name()"
   ]
  },
  {
   "cell_type": "markdown",
   "metadata": {},
   "source": [
    "# Cross validation"
   ]
  },
  {
   "cell_type": "code",
   "execution_count": 10,
   "metadata": {
    "scrolled": false
   },
   "outputs": [
    {
     "name": "stdout",
     "output_type": "stream",
     "text": [
      "Using split of range [0.0, 0.2], test set contains 162035 of 797758 records in total.\n",
      "Using cached file from /home/ds2019/log/ml-1m-full/ALS_MF/maxIter_15-rank_64-regParam_0.05/Ranking_fold_0.parquet\n",
      "Using cached file from /home/ds2019/log/ml-1m-full/ALS_MF/maxIter_15-rank_64-regParam_0.05/Rating_fold_0.parquet\n",
      "Dummy printing of test set count in Evaluator.__evaluate_rating(): 162035\n",
      "Using split of range [0.2, 0.4], test set contains 159638 of 797758 records in total.\n",
      "Using cached file from /home/ds2019/log/ml-1m-full/ALS_MF/maxIter_15-rank_64-regParam_0.05/Ranking_fold_1.parquet\n",
      "Using cached file from /home/ds2019/log/ml-1m-full/ALS_MF/maxIter_15-rank_64-regParam_0.05/Rating_fold_1.parquet\n",
      "Dummy printing of test set count in Evaluator.__evaluate_rating(): 159638\n",
      "Using split of range [0.4, 0.6], test set contains 159704 of 797758 records in total.\n",
      "Using cached file from /home/ds2019/log/ml-1m-full/ALS_MF/maxIter_15-rank_64-regParam_0.05/Ranking_fold_2.parquet\n",
      "Using cached file from /home/ds2019/log/ml-1m-full/ALS_MF/maxIter_15-rank_64-regParam_0.05/Rating_fold_2.parquet\n",
      "Dummy printing of test set count in Evaluator.__evaluate_rating(): 159704\n",
      "Using split of range [0.6, 0.8], test set contains 159638 of 797758 records in total.\n",
      "Using cached file from /home/ds2019/log/ml-1m-full/ALS_MF/maxIter_15-rank_64-regParam_0.05/Ranking_fold_3.parquet\n",
      "Using cached file from /home/ds2019/log/ml-1m-full/ALS_MF/maxIter_15-rank_64-regParam_0.05/Rating_fold_3.parquet\n",
      "Dummy printing of test set count in Evaluator.__evaluate_rating(): 159638\n",
      "Using split of range [0.8, 1.0], test set contains 162035 of 797758 records in total.\n",
      "Using cached file from /home/ds2019/log/ml-1m-full/ALS_MF/maxIter_15-rank_64-regParam_0.05/Ranking_fold_4.parquet\n",
      "Using cached file from /home/ds2019/log/ml-1m-full/ALS_MF/maxIter_15-rank_64-regParam_0.05/Rating_fold_4.parquet\n",
      "Dummy printing of test set count in Evaluator.__evaluate_rating(): 162035\n"
     ]
    },
    {
     "data": {
      "text/plain": [
       "defaultdict(list,\n",
       "            {'ndcg@10': [0.04029013955306538,\n",
       "              0.04416826611809346,\n",
       "              0.04287737968779719,\n",
       "              0.0423988808380025,\n",
       "              0.04344428067449856],\n",
       "             'precision@10': [0.03773178807947021,\n",
       "              0.04001655629139073,\n",
       "              0.03956953642384105,\n",
       "              0.03932119205298014,\n",
       "              0.03990066225165566]})"
      ]
     },
     "execution_count": 10,
     "metadata": {},
     "output_type": "execute_result"
    }
   ],
   "source": [
    "cross_validation(data_loader, als, spark, k_fold=5, top_k=10)"
   ]
  },
  {
   "cell_type": "markdown",
   "metadata": {},
   "source": [
    "# Check evaluation results"
   ]
  },
  {
   "cell_type": "code",
   "execution_count": 17,
   "metadata": {},
   "outputs": [
    {
     "data": {
      "text/html": [
       "<div>\n",
       "<style scoped>\n",
       "    .dataframe tbody tr th:only-of-type {\n",
       "        vertical-align: middle;\n",
       "    }\n",
       "\n",
       "    .dataframe tbody tr th {\n",
       "        vertical-align: top;\n",
       "    }\n",
       "\n",
       "    .dataframe thead th {\n",
       "        text-align: right;\n",
       "    }\n",
       "</style>\n",
       "<table border=\"1\" class=\"dataframe\">\n",
       "  <thead>\n",
       "    <tr style=\"text-align: right;\">\n",
       "      <th></th>\n",
       "      <th>model</th>\n",
       "      <th>hyper</th>\n",
       "      <th>metric</th>\n",
       "      <th>mean</th>\n",
       "      <th>std</th>\n",
       "      <th>rnk</th>\n",
       "    </tr>\n",
       "  </thead>\n",
       "  <tbody>\n",
       "    <tr>\n",
       "      <th>1</th>\n",
       "      <td>ALS_MF</td>\n",
       "      <td>[('maxIter', 15), ('rank', 64), ('regParam', 0...</td>\n",
       "      <td>ndcg@10</td>\n",
       "      <td>0.042636</td>\n",
       "      <td>0.001468</td>\n",
       "      <td>1.0</td>\n",
       "    </tr>\n",
       "    <tr>\n",
       "      <th>0</th>\n",
       "      <td>ALS_MF</td>\n",
       "      <td>[('maxIter', 15), ('rank', 32), ('regParam', 0...</td>\n",
       "      <td>ndcg@10</td>\n",
       "      <td>0.035390</td>\n",
       "      <td>0.000860</td>\n",
       "      <td>2.0</td>\n",
       "    </tr>\n",
       "  </tbody>\n",
       "</table>\n",
       "</div>"
      ],
      "text/plain": [
       "    model                                              hyper   metric  \\\n",
       "1  ALS_MF  [('maxIter', 15), ('rank', 64), ('regParam', 0...  ndcg@10   \n",
       "0  ALS_MF  [('maxIter', 15), ('rank', 32), ('regParam', 0...  ndcg@10   \n",
       "\n",
       "       mean       std  rnk  \n",
       "1  0.042636  0.001468  1.0  \n",
       "0  0.035390  0.000860  2.0  "
      ]
     },
     "execution_count": 17,
     "metadata": {},
     "output_type": "execute_result"
    }
   ],
   "source": [
    "summary = Summary(data_loader.get_config().db_path)\n",
    "summary.summarize_cv(\"ml-1m-full\", [\"ndcg@10\"])"
   ]
  },
  {
   "cell_type": "markdown",
   "metadata": {},
   "source": [
    "# Finally train model using all training data, and evaluate on test data"
   ]
  },
  {
   "cell_type": "code",
   "execution_count": 13,
   "metadata": {},
   "outputs": [],
   "source": [
    "best_params = {\n",
    "    \"rank\": 64,\n",
    "    \"maxIter\": 15,\n",
    "    \"regParam\": 0.05\n",
    "}\n",
    "\n",
    "als_final = ALS_MF(best_params)"
   ]
  },
  {
   "cell_type": "code",
   "execution_count": 14,
   "metadata": {},
   "outputs": [
    {
     "name": "stdout",
     "output_type": "stream",
     "text": [
      "Rewriting files in /home/ds2019/log/ml-1m-full/ALS_MF/maxIter_15-rank_64-regParam_0.05/Ranking_fold_-1.parquet\n",
      "Rewriting files in /home/ds2019/log/ml-1m-full/ALS_MF/maxIter_15-rank_64-regParam_0.05/Rating_fold_-1.parquet\n",
      "Dummy printing of test set count in Evaluator.__evaluate_rating(): 202451\n"
     ]
    },
    {
     "data": {
      "text/plain": [
       "ChainMap({'ndcg@10': 0.05632499121402725, 'precision@10': 0.052715231788079464}, {})"
      ]
     },
     "execution_count": 14,
     "metadata": {},
     "output_type": "execute_result"
    }
   ],
   "source": [
    "test_evaluation(data_loader, als_final, spark, top_k=10, force_rewrite=True, oracle_type=None)"
   ]
  },
  {
   "cell_type": "code",
   "execution_count": 15,
   "metadata": {},
   "outputs": [
    {
     "data": {
      "text/html": [
       "<div>\n",
       "<style scoped>\n",
       "    .dataframe tbody tr th:only-of-type {\n",
       "        vertical-align: middle;\n",
       "    }\n",
       "\n",
       "    .dataframe tbody tr th {\n",
       "        vertical-align: top;\n",
       "    }\n",
       "\n",
       "    .dataframe thead th {\n",
       "        text-align: right;\n",
       "    }\n",
       "</style>\n",
       "<table border=\"1\" class=\"dataframe\">\n",
       "  <thead>\n",
       "    <tr style=\"text-align: right;\">\n",
       "      <th></th>\n",
       "      <th>model</th>\n",
       "      <th>hyper</th>\n",
       "      <th>metric</th>\n",
       "      <th>value</th>\n",
       "      <th>ts</th>\n",
       "    </tr>\n",
       "    <tr>\n",
       "      <th>id</th>\n",
       "      <th></th>\n",
       "      <th></th>\n",
       "      <th></th>\n",
       "      <th></th>\n",
       "      <th></th>\n",
       "    </tr>\n",
       "  </thead>\n",
       "  <tbody>\n",
       "    <tr>\n",
       "      <th>123</th>\n",
       "      <td>ALS_MF</td>\n",
       "      <td>[('maxIter', 15), ('rank', 128), ('regParam', ...</td>\n",
       "      <td>ndcg@10</td>\n",
       "      <td>0.052973</td>\n",
       "      <td>2019-10-30 17:58:03.291079</td>\n",
       "    </tr>\n",
       "    <tr>\n",
       "      <th>124</th>\n",
       "      <td>ALS_MF</td>\n",
       "      <td>[('maxIter', 15), ('rank', 128), ('regParam', ...</td>\n",
       "      <td>precision@10</td>\n",
       "      <td>0.050778</td>\n",
       "      <td>2019-10-30 17:58:03.291378</td>\n",
       "    </tr>\n",
       "    <tr>\n",
       "      <th>137</th>\n",
       "      <td>ALS_MF</td>\n",
       "      <td>[('maxIter', 15), ('rank', 64), ('regParam', 0...</td>\n",
       "      <td>ndcg@10</td>\n",
       "      <td>0.056325</td>\n",
       "      <td>2019-10-30 18:28:24.082514</td>\n",
       "    </tr>\n",
       "    <tr>\n",
       "      <th>138</th>\n",
       "      <td>ALS_MF</td>\n",
       "      <td>[('maxIter', 15), ('rank', 64), ('regParam', 0...</td>\n",
       "      <td>precision@10</td>\n",
       "      <td>0.052715</td>\n",
       "      <td>2019-10-30 18:28:24.082758</td>\n",
       "    </tr>\n",
       "  </tbody>\n",
       "</table>\n",
       "</div>"
      ],
      "text/plain": [
       "      model                                              hyper        metric  \\\n",
       "id                                                                             \n",
       "123  ALS_MF  [('maxIter', 15), ('rank', 128), ('regParam', ...       ndcg@10   \n",
       "124  ALS_MF  [('maxIter', 15), ('rank', 128), ('regParam', ...  precision@10   \n",
       "137  ALS_MF  [('maxIter', 15), ('rank', 64), ('regParam', 0...       ndcg@10   \n",
       "138  ALS_MF  [('maxIter', 15), ('rank', 64), ('regParam', 0...  precision@10   \n",
       "\n",
       "        value                         ts  \n",
       "id                                        \n",
       "123  0.052973 2019-10-30 17:58:03.291079  \n",
       "124  0.050778 2019-10-30 17:58:03.291378  \n",
       "137  0.056325 2019-10-30 18:28:24.082514  \n",
       "138  0.052715 2019-10-30 18:28:24.082758  "
      ]
     },
     "execution_count": 15,
     "metadata": {},
     "output_type": "execute_result"
    }
   ],
   "source": [
    "summary.get_model_test_perf(\"ml-1m-full\", \"ALS_MF\")"
   ]
  }
 ],
 "metadata": {
  "kernelspec": {
   "display_name": "Python (Spark)",
   "language": "python",
   "name": "spark"
  },
  "language_info": {
   "codemirror_mode": {
    "name": "ipython",
    "version": 3
   },
   "file_extension": ".py",
   "mimetype": "text/x-python",
   "name": "python",
   "nbconvert_exporter": "python",
   "pygments_lexer": "ipython3",
   "version": "3.6.9"
  }
 },
 "nbformat": 4,
 "nbformat_minor": 2
}
